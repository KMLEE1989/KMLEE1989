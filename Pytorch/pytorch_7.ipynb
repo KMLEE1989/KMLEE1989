{
 "cells": [
  {
   "cell_type": "code",
   "execution_count": 64,
   "metadata": {},
   "outputs": [],
   "source": [
    "import torch"
   ]
  },
  {
   "cell_type": "code",
   "execution_count": 65,
   "metadata": {},
   "outputs": [
    {
     "data": {
      "text/plain": [
       "'1.10.2'"
      ]
     },
     "execution_count": 65,
     "metadata": {},
     "output_type": "execute_result"
    }
   ],
   "source": [
    "torch.__version__"
   ]
  },
  {
   "cell_type": "markdown",
   "metadata": {},
   "source": [
    "torch: 텐서를 생성하는 라이브러리\n",
    "\n",
    "torch.autograd: 자동미분 기능을 제공하는 라이브러리\n",
    "\n",
    "torch.nn: 신경망을 생성하는 라이브러리\n",
    "\n",
    "torch.multiprocessing: 병럴처리 기능을 제공하는 라이브러리\n",
    "\n",
    "torch.utils: 데이터 조작 등 유틸리티 기능 제공\n",
    "\n",
    "torch.legacy(./nn/.optim): Torch로부터 포팅해온 코드\n",
    "\n",
    "torch.onnx: ONNX(Open Neural Network Exchange)\n",
    "\n",
    "서로 다른 프레임워크 간의 모델을 공유할 때 사용\n",
    "\n",
    "in-place 방식\n",
    "\n",
    "(참고) in-place 방식\n",
    "\n",
    "in-place방식으로 텐서의 값을 변경하는 연산 뒤에는 _''가 붙음\n",
    "x.copy_(y), x.t_()\n",
    "\n",
    "torch.sub : 뺄셈\n",
    "\n",
    "torch.mul : 곱셉\n",
    "\n",
    "torch.div : 나눗셈\n",
    "\n",
    "torch.mm : 내적(dot product)\n",
    "\n",
    "cat\n",
    "\n",
    "텐서를 결합하는 메소드(concatenate)\n",
    "\n",
    "넘파이의 stack과 유사하지만, 쌓을 dim이 존재해야함\n",
    "\n",
    "예를 들어, 해당 차원을 늘려준 후 결합\n",
    "\n",
    "chuck\n",
    "텐서를 여러 개로 나눌 때 사용\n",
    "\n",
    "몇 개의 텐서로 나눌 것이냐\n",
    "\n",
    "split\n",
    "chunck와 동일한 기능이지만 조금 다름\n",
    "\n",
    "하나의 텐서당 크기가 얼마이냐\n",
    "\n",
    "torch ↔ numpy\n",
    "Torch Tensor(텐서)를 Numpy array(배열)로 변환 가능\n",
    "\n",
    "numpy()\n",
    "from_numpy()\n",
    "(참고)\n",
    "\n",
    "Tensor가 CPU상에 있다면 Numpy 배열은 메모리 공간을 공유하므로 하나가 변하면, 다른 하나도 변함\n",
    "\n",
    "CUDA Tensors\n",
    ".to 메소드를 사용하여 텐서를 어떠한 장치로도 옮길 수 있음\n",
    "예) cpu, gpu"
   ]
  },
  {
   "cell_type": "code",
   "execution_count": 66,
   "metadata": {},
   "outputs": [
    {
     "name": "stdout",
     "output_type": "stream",
     "text": [
      "tensor([[1.6617e+22, 1.3410e-08],\n",
      "        [2.1589e-04, 1.7282e-04],\n",
      "        [1.0314e-08, 2.6080e+20],\n",
      "        [1.0325e-08, 8.1808e+20]])\n"
     ]
    }
   ],
   "source": [
    "x = torch.empty(4,2)\n",
    "print(x)"
   ]
  },
  {
   "cell_type": "code",
   "execution_count": 67,
   "metadata": {},
   "outputs": [
    {
     "name": "stdout",
     "output_type": "stream",
     "text": [
      "tensor([[0.5599, 0.8700],\n",
      "        [0.3473, 0.1824],\n",
      "        [0.8578, 0.9275],\n",
      "        [0.0186, 0.2136]])\n"
     ]
    }
   ],
   "source": [
    "x = torch.rand(4,2)\n",
    "print(x)"
   ]
  },
  {
   "cell_type": "code",
   "execution_count": 68,
   "metadata": {},
   "outputs": [
    {
     "name": "stdout",
     "output_type": "stream",
     "text": [
      "tensor([[0, 0],\n",
      "        [0, 0],\n",
      "        [0, 0],\n",
      "        [0, 0]])\n"
     ]
    }
   ],
   "source": [
    "x = torch.zeros(4,2, dtype = torch.long)\n",
    "print(x)"
   ]
  },
  {
   "cell_type": "code",
   "execution_count": 69,
   "metadata": {},
   "outputs": [
    {
     "name": "stdout",
     "output_type": "stream",
     "text": [
      "tensor([3.0000, 2.3000])\n"
     ]
    }
   ],
   "source": [
    "x = torch.tensor([3, 2.3])\n",
    "print(x)"
   ]
  },
  {
   "cell_type": "code",
   "execution_count": 70,
   "metadata": {},
   "outputs": [
    {
     "name": "stdout",
     "output_type": "stream",
     "text": [
      "tensor([[1., 1., 1., 1.],\n",
      "        [1., 1., 1., 1.]], dtype=torch.float64)\n"
     ]
    }
   ],
   "source": [
    "x = x.new_ones(2,4, dtype=torch.double)\n",
    "print(x)"
   ]
  },
  {
   "cell_type": "code",
   "execution_count": 71,
   "metadata": {},
   "outputs": [
    {
     "name": "stdout",
     "output_type": "stream",
     "text": [
      "tensor([[-0.7412,  0.3993, -0.5338,  0.2613],\n",
      "        [-1.5857, -0.1318,  0.5631, -1.6443]])\n"
     ]
    }
   ],
   "source": [
    "x = torch.randn_like(x, dtype=torch.float)\n",
    "print(x)"
   ]
  },
  {
   "cell_type": "code",
   "execution_count": 72,
   "metadata": {},
   "outputs": [
    {
     "name": "stdout",
     "output_type": "stream",
     "text": [
      "torch.Size([2, 4])\n"
     ]
    }
   ],
   "source": [
    "print(x.size())"
   ]
  },
  {
   "cell_type": "code",
   "execution_count": 73,
   "metadata": {},
   "outputs": [
    {
     "name": "stdout",
     "output_type": "stream",
     "text": [
      "tensor([[-0.7412,  0.3993, -0.5338,  0.2613],\n",
      "        [-1.5857, -0.1318,  0.5631, -1.6443]])\n"
     ]
    }
   ],
   "source": [
    "print(x)"
   ]
  },
  {
   "cell_type": "code",
   "execution_count": 74,
   "metadata": {},
   "outputs": [
    {
     "name": "stdout",
     "output_type": "stream",
     "text": [
      "tensor([[0.8279, 0.1551, 0.9449, 0.0719],\n",
      "        [0.6359, 0.5129, 0.3167, 0.8218]])\n",
      "tensor([[ 0.0867,  0.5545,  0.4111,  0.3332],\n",
      "        [-0.9498,  0.3811,  0.8798, -0.8225]])\n"
     ]
    }
   ],
   "source": [
    "y = torch.rand(2,4)\n",
    "print(y)\n",
    "print(x+y)"
   ]
  },
  {
   "cell_type": "code",
   "execution_count": 75,
   "metadata": {},
   "outputs": [
    {
     "name": "stdout",
     "output_type": "stream",
     "text": [
      "tensor([[ 0.0867,  0.5545,  0.4111,  0.3332],\n",
      "        [-0.9498,  0.3811,  0.8798, -0.8225]])\n"
     ]
    }
   ],
   "source": [
    "print(torch.add(x,y))"
   ]
  },
  {
   "cell_type": "code",
   "execution_count": 76,
   "metadata": {},
   "outputs": [
    {
     "data": {
      "text/plain": [
       "tensor([[ 0.0867,  0.5545,  0.4111,  0.3332],\n",
       "        [-0.9498,  0.3811,  0.8798, -0.8225]])"
      ]
     },
     "execution_count": 76,
     "metadata": {},
     "output_type": "execute_result"
    }
   ],
   "source": [
    "result = torch.empty(2,4)\n",
    "torch.add(x,y,out=result)"
   ]
  },
  {
   "cell_type": "code",
   "execution_count": 77,
   "metadata": {},
   "outputs": [
    {
     "name": "stdout",
     "output_type": "stream",
     "text": [
      "tensor([[-0.7412,  0.3993, -0.5338,  0.2613],\n",
      "        [-1.5857, -0.1318,  0.5631, -1.6443]])\n",
      "tensor([[0.8279, 0.1551, 0.9449, 0.0719],\n",
      "        [0.6359, 0.5129, 0.3167, 0.8218]])\n",
      "tensor([[ 0.0867,  0.5545,  0.4111,  0.3332],\n",
      "        [-0.9498,  0.3811,  0.8798, -0.8225]])\n"
     ]
    }
   ],
   "source": [
    "print(x)\n",
    "print(y)\n",
    "y.add_(x)\n",
    "print(y)"
   ]
  },
  {
   "cell_type": "code",
   "execution_count": 78,
   "metadata": {},
   "outputs": [
    {
     "name": "stdout",
     "output_type": "stream",
     "text": [
      "tensor([[-1., -1.],\n",
      "        [-1., -1.]])\n",
      "tensor([[-1., -1.],\n",
      "        [-1., -1.]])\n",
      "tensor([[-1., -1.],\n",
      "        [-1., -1.]])\n"
     ]
    }
   ],
   "source": [
    "x = torch.Tensor([[1,3], [5,7]])\n",
    "y = torch.Tensor([[2,4], [6,8]])\n",
    "\n",
    "print(x-y)\n",
    "print(torch.sub(x,y))\n",
    "print(x.sub(y))"
   ]
  },
  {
   "cell_type": "code",
   "execution_count": 79,
   "metadata": {},
   "outputs": [
    {
     "name": "stdout",
     "output_type": "stream",
     "text": [
      "tensor([[ 2., 12.],\n",
      "        [30., 56.]])\n",
      "tensor([[ 2., 12.],\n",
      "        [30., 56.]])\n",
      "tensor([[ 2., 12.],\n",
      "        [30., 56.]])\n"
     ]
    }
   ],
   "source": [
    "x = torch.Tensor([[1,3], [5,7]])\n",
    "y = torch.Tensor([[2,4], [6,8]])\n",
    "\n",
    "print(x*y)\n",
    "print(torch.mul(x,y))\n",
    "print(x.mul(y))"
   ]
  },
  {
   "cell_type": "code",
   "execution_count": 80,
   "metadata": {},
   "outputs": [
    {
     "name": "stdout",
     "output_type": "stream",
     "text": [
      "tensor([[0.5000, 0.7500],\n",
      "        [0.8333, 0.8750]])\n",
      "tensor([[0.5000, 0.7500],\n",
      "        [0.8333, 0.8750]])\n",
      "tensor([[0.5000, 0.7500],\n",
      "        [0.8333, 0.8750]])\n"
     ]
    }
   ],
   "source": [
    "x = torch.Tensor([[1,3], [5,7]])\n",
    "y = torch.Tensor([[2,4], [6,8]])\n",
    "\n",
    "print(x/y)\n",
    "print(torch.div(x,y))\n",
    "print(x.div(y))"
   ]
  },
  {
   "cell_type": "code",
   "execution_count": 81,
   "metadata": {},
   "outputs": [
    {
     "name": "stdout",
     "output_type": "stream",
     "text": [
      "tensor([[20., 28.],\n",
      "        [52., 76.]])\n"
     ]
    }
   ],
   "source": [
    "x = torch.Tensor([[1,3], \n",
    "                  [5,7]])\n",
    "y = torch.Tensor([[2,4], \n",
    "                  [6,8]])\n",
    "\n",
    "print(torch.mm(x,y))"
   ]
  },
  {
   "cell_type": "code",
   "execution_count": 82,
   "metadata": {},
   "outputs": [
    {
     "name": "stdout",
     "output_type": "stream",
     "text": [
      "tensor([[1., 3.],\n",
      "        [5., 7.]])\n"
     ]
    }
   ],
   "source": [
    "print(x)"
   ]
  },
  {
   "cell_type": "code",
   "execution_count": 83,
   "metadata": {},
   "outputs": [
    {
     "name": "stdout",
     "output_type": "stream",
     "text": [
      "tensor([3., 7.])\n"
     ]
    }
   ],
   "source": [
    "print(x[:,1])"
   ]
  },
  {
   "cell_type": "code",
   "execution_count": 86,
   "metadata": {},
   "outputs": [
    {
     "name": "stdout",
     "output_type": "stream",
     "text": [
      "tensor([[ 0.1565,  0.4090, -0.4600,  0.6496,  0.4726],\n",
      "        [-0.8922, -0.8797,  0.9293,  0.9955,  0.7039],\n",
      "        [-0.3733, -0.2916, -0.6643,  0.6327, -1.5648],\n",
      "        [-0.1592,  1.6978,  0.6029,  0.5820,  0.2449]])\n",
      "tensor([ 0.1565,  0.4090, -0.4600,  0.6496,  0.4726, -0.8922, -0.8797,  0.9293,\n",
      "         0.9955,  0.7039, -0.3733, -0.2916, -0.6643,  0.6327, -1.5648, -0.1592,\n",
      "         1.6978,  0.6029,  0.5820,  0.2449])\n",
      "tensor([[ 0.1565,  0.4090, -0.4600,  0.6496],\n",
      "        [ 0.4726, -0.8922, -0.8797,  0.9293],\n",
      "        [ 0.9955,  0.7039, -0.3733, -0.2916],\n",
      "        [-0.6643,  0.6327, -1.5648, -0.1592],\n",
      "        [ 1.6978,  0.6029,  0.5820,  0.2449]])\n"
     ]
    }
   ],
   "source": [
    "x = torch.randn(4,5)\n",
    "y=x.view(20)\n",
    "z = x.view(5,-1)\n",
    "\n",
    "print(x)\n",
    "print(y)\n",
    "print(z)"
   ]
  },
  {
   "cell_type": "code",
   "execution_count": 91,
   "metadata": {},
   "outputs": [
    {
     "name": "stdout",
     "output_type": "stream",
     "text": [
      "tensor([[-0.2698, -1.9952,  0.3617, -0.1550, -0.7448,  0.4165],\n",
      "        [ 1.2267,  0.0755,  0.6679,  0.7181, -0.8914, -0.5050]])\n",
      "tensor([-0.2698, -1.9952,  0.3617, -0.1550, -0.7448,  0.4165,  1.2267,  0.0755,\n",
      "         0.6679,  0.7181, -0.8914, -0.5050])\n",
      "tensor([[-0.2698, -1.9952],\n",
      "        [ 0.3617, -0.1550],\n",
      "        [-0.7448,  0.4165],\n",
      "        [ 1.2267,  0.0755],\n",
      "        [ 0.6679,  0.7181],\n",
      "        [-0.8914, -0.5050]])\n"
     ]
    }
   ],
   "source": [
    "x = torch.randn(2,6)\n",
    "y = x.view(12)\n",
    "z = x.view(6,-1)\n",
    "\n",
    "print(x)\n",
    "print(y)\n",
    "print(z)"
   ]
  },
  {
   "cell_type": "code",
   "execution_count": 92,
   "metadata": {},
   "outputs": [
    {
     "name": "stdout",
     "output_type": "stream",
     "text": [
      "tensor([-1.4131])\n",
      "-1.413074254989624\n",
      "torch.float32\n"
     ]
    }
   ],
   "source": [
    "x = torch.randn(1)\n",
    "print(x)\n",
    "print(x.item())\n",
    "print(x.dtype)"
   ]
  },
  {
   "cell_type": "code",
   "execution_count": 93,
   "metadata": {},
   "outputs": [
    {
     "name": "stdout",
     "output_type": "stream",
     "text": [
      "tensor([0.7899, 1.4628])\n"
     ]
    },
    {
     "ename": "ValueError",
     "evalue": "only one element tensors can be converted to Python scalars",
     "output_type": "error",
     "traceback": [
      "\u001b[1;31m---------------------------------------------------------------------------\u001b[0m",
      "\u001b[1;31mValueError\u001b[0m                                Traceback (most recent call last)",
      "\u001b[1;32m~\\AppData\\Local\\Temp/ipykernel_16140/4147517315.py\u001b[0m in \u001b[0;36m<module>\u001b[1;34m\u001b[0m\n\u001b[0;32m      1\u001b[0m \u001b[0mx\u001b[0m \u001b[1;33m=\u001b[0m \u001b[0mtorch\u001b[0m\u001b[1;33m.\u001b[0m\u001b[0mrandn\u001b[0m\u001b[1;33m(\u001b[0m\u001b[1;36m2\u001b[0m\u001b[1;33m)\u001b[0m\u001b[1;33m\u001b[0m\u001b[1;33m\u001b[0m\u001b[0m\n\u001b[0;32m      2\u001b[0m \u001b[0mprint\u001b[0m\u001b[1;33m(\u001b[0m\u001b[0mx\u001b[0m\u001b[1;33m)\u001b[0m\u001b[1;33m\u001b[0m\u001b[1;33m\u001b[0m\u001b[0m\n\u001b[1;32m----> 3\u001b[1;33m \u001b[0mprint\u001b[0m\u001b[1;33m(\u001b[0m\u001b[0mx\u001b[0m\u001b[1;33m.\u001b[0m\u001b[0mitem\u001b[0m\u001b[1;33m(\u001b[0m\u001b[1;33m)\u001b[0m\u001b[1;33m)\u001b[0m\u001b[1;33m\u001b[0m\u001b[1;33m\u001b[0m\u001b[0m\n\u001b[0m\u001b[0;32m      4\u001b[0m \u001b[0mprint\u001b[0m\u001b[1;33m(\u001b[0m\u001b[0mx\u001b[0m\u001b[1;33m.\u001b[0m\u001b[0mdtype\u001b[0m\u001b[1;33m)\u001b[0m\u001b[1;33m\u001b[0m\u001b[1;33m\u001b[0m\u001b[0m\n",
      "\u001b[1;31mValueError\u001b[0m: only one element tensors can be converted to Python scalars"
     ]
    }
   ],
   "source": [
    "x = torch.randn(2)\n",
    "print(x)\n",
    "print(x.item())\n",
    "print(x.dtype)"
   ]
  },
  {
   "cell_type": "code",
   "execution_count": 98,
   "metadata": {},
   "outputs": [
    {
     "name": "stdout",
     "output_type": "stream",
     "text": [
      "tensor([[[0.6714, 0.4944, 0.7912],\n",
      "         [0.2659, 0.4899, 0.9230],\n",
      "         [0.4763, 0.9246, 0.0860]]])\n",
      "torch.Size([1, 3, 3])\n"
     ]
    }
   ],
   "source": [
    "tensor = torch.rand(1,3,3)\n",
    "print(tensor)\n",
    "print(tensor.shape)"
   ]
  },
  {
   "cell_type": "code",
   "execution_count": 99,
   "metadata": {},
   "outputs": [
    {
     "name": "stdout",
     "output_type": "stream",
     "text": [
      "tensor([[0.6714, 0.4944, 0.7912],\n",
      "        [0.2659, 0.4899, 0.9230],\n",
      "        [0.4763, 0.9246, 0.0860]])\n",
      "torch.Size([3, 3])\n"
     ]
    }
   ],
   "source": [
    "t = tensor.squeeze()\n",
    "\n",
    "print(t)\n",
    "print(t.shape)"
   ]
  },
  {
   "cell_type": "code",
   "execution_count": 100,
   "metadata": {},
   "outputs": [
    {
     "name": "stdout",
     "output_type": "stream",
     "text": [
      "tensor([[[0.4298, 0.9251, 0.0586],\n",
      "         [0.9350, 0.3648, 0.3734],\n",
      "         [0.0673, 0.1777, 0.4269]]])\n",
      "torch.Size([1, 3, 3])\n"
     ]
    }
   ],
   "source": [
    "tensor = torch.rand(1,3,3)\n",
    "print(tensor)\n",
    "print(tensor.shape)"
   ]
  },
  {
   "cell_type": "code",
   "execution_count": 101,
   "metadata": {},
   "outputs": [
    {
     "name": "stdout",
     "output_type": "stream",
     "text": [
      "tensor([[[[0.4298, 0.9251, 0.0586],\n",
      "          [0.9350, 0.3648, 0.3734],\n",
      "          [0.0673, 0.1777, 0.4269]]]])\n",
      "torch.Size([1, 1, 3, 3])\n"
     ]
    }
   ],
   "source": [
    "t = tensor.unsqueeze(dim=0)\n",
    "print(t)\n",
    "print(t.shape)"
   ]
  },
  {
   "cell_type": "code",
   "execution_count": 103,
   "metadata": {},
   "outputs": [
    {
     "name": "stdout",
     "output_type": "stream",
     "text": [
      "tensor([[1., 4.],\n",
      "        [2., 5.],\n",
      "        [3., 6.]])\n"
     ]
    }
   ],
   "source": [
    "x = torch.FloatTensor([1,4])\n",
    "y = torch.FloatTensor([2,5])\n",
    "z = torch.FloatTensor([3,6])\n",
    "\n",
    "print(torch.stack([x,y,z]))"
   ]
  },
  {
   "cell_type": "code",
   "execution_count": 104,
   "metadata": {},
   "outputs": [
    {
     "name": "stdout",
     "output_type": "stream",
     "text": [
      "tensor([[[[ 0.6465,  0.7555, -0.5896],\n",
      "          [ 0.5818, -1.0979, -0.6807],\n",
      "          [-1.5646,  1.3062,  0.8961]]],\n",
      "\n",
      "\n",
      "        [[[-2.7185,  0.9989,  0.1838],\n",
      "          [ 1.3020,  0.4596,  0.8197],\n",
      "          [-0.3731, -1.1047, -0.6372]]]])\n",
      "torch.Size([2, 1, 3, 3])\n"
     ]
    }
   ],
   "source": [
    "a = torch.randn(1,1,3,3)\n",
    "b = torch.randn(1,1,3,3)\n",
    "c = torch.cat((a,b), dim=0)\n",
    "\n",
    "print(c)\n",
    "print(c.size())"
   ]
  },
  {
   "cell_type": "code",
   "execution_count": 106,
   "metadata": {},
   "outputs": [
    {
     "name": "stdout",
     "output_type": "stream",
     "text": [
      "tensor([[[-0.8106,  0.9957,  0.0190,  0.2702,  1.0124, -0.9508],\n",
      "         [ 0.2887, -0.7211, -0.4020, -0.0310,  0.8894,  1.7163],\n",
      "         [ 0.5416,  0.6982,  2.0842, -0.6108,  0.2726,  1.9544]]])\n",
      "torch.Size([1, 3, 6])\n"
     ]
    }
   ],
   "source": [
    "a = torch.randn(1,3,3)\n",
    "b = torch.randn(1,3,3)\n",
    "c = torch.cat((a,b), dim=2)\n",
    "\n",
    "print(c)\n",
    "print(c.size())"
   ]
  },
  {
   "cell_type": "code",
   "execution_count": 107,
   "metadata": {},
   "outputs": [
    {
     "name": "stdout",
     "output_type": "stream",
     "text": [
      "tensor([[0.3832, 0.5749, 0.2571, 0.0014, 0.8218, 0.4432],\n",
      "        [0.4073, 0.7928, 0.8860, 0.9520, 0.8819, 0.8067],\n",
      "        [0.9241, 0.4381, 0.9427, 0.6359, 0.9762, 0.4414]])\n",
      "tensor([[0.3832, 0.5749],\n",
      "        [0.4073, 0.7928],\n",
      "        [0.9241, 0.4381]])\n",
      "tensor([[0.2571, 0.0014],\n",
      "        [0.8860, 0.9520],\n",
      "        [0.9427, 0.6359]])\n",
      "tensor([[0.8218, 0.4432],\n",
      "        [0.8819, 0.8067],\n",
      "        [0.9762, 0.4414]])\n"
     ]
    }
   ],
   "source": [
    "tensor = torch.rand(3,6)\n",
    "t1, t2, t3 = torch.chunk(tensor, 3, dim=1)\n",
    "\n",
    "print(tensor)\n",
    "print(t1)\n",
    "print(t2)\n",
    "print(t3)"
   ]
  },
  {
   "cell_type": "code",
   "execution_count": 108,
   "metadata": {},
   "outputs": [
    {
     "name": "stdout",
     "output_type": "stream",
     "text": [
      "tensor([[0.8755, 0.9437, 0.5372, 0.5892, 0.7053, 0.4073],\n",
      "        [0.7757, 0.9668, 0.9659, 0.1759, 0.8524, 0.1988],\n",
      "        [0.4685, 0.1549, 0.8892, 0.5719, 0.3622, 0.9295]])\n",
      "tensor([[0.8755, 0.9437, 0.5372],\n",
      "        [0.7757, 0.9668, 0.9659],\n",
      "        [0.4685, 0.1549, 0.8892]])\n",
      "tensor([[0.5892, 0.7053, 0.4073],\n",
      "        [0.1759, 0.8524, 0.1988],\n",
      "        [0.5719, 0.3622, 0.9295]])\n"
     ]
    }
   ],
   "source": [
    "tensor = torch.rand(3,6)\n",
    "t1, t2 = torch.split(tensor, 3, dim=1)\n",
    "\n",
    "print(tensor)\n",
    "print(t1)\n",
    "print(t2)"
   ]
  },
  {
   "cell_type": "code",
   "execution_count": 109,
   "metadata": {},
   "outputs": [
    {
     "name": "stdout",
     "output_type": "stream",
     "text": [
      "tensor([1., 1., 1., 1., 1., 1., 1.])\n"
     ]
    }
   ],
   "source": [
    "a = torch.ones(7)\n",
    "print(a)"
   ]
  },
  {
   "cell_type": "code",
   "execution_count": 110,
   "metadata": {},
   "outputs": [
    {
     "name": "stdout",
     "output_type": "stream",
     "text": [
      "[1. 1. 1. 1. 1. 1. 1.]\n"
     ]
    }
   ],
   "source": [
    "b = a.numpy()\n",
    "print(b)"
   ]
  },
  {
   "cell_type": "code",
   "execution_count": 111,
   "metadata": {},
   "outputs": [
    {
     "name": "stdout",
     "output_type": "stream",
     "text": [
      "tensor([2., 2., 2., 2., 2., 2., 2.])\n",
      "[2. 2. 2. 2. 2. 2. 2.]\n"
     ]
    }
   ],
   "source": [
    "a.add_(1)\n",
    "print(a)\n",
    "print(b)"
   ]
  },
  {
   "cell_type": "code",
   "execution_count": 113,
   "metadata": {},
   "outputs": [
    {
     "name": "stdout",
     "output_type": "stream",
     "text": [
      "[2. 2. 2. 2. 2. 2. 2.]\n",
      "tensor([2., 2., 2., 2., 2., 2., 2.], dtype=torch.float64)\n"
     ]
    }
   ],
   "source": [
    "import numpy as np\n",
    "\n",
    "a = np.ones(7)\n",
    "b = torch.from_numpy(a)\n",
    "np.add(a, 1, out=a)\n",
    "print(a)\n",
    "print(b)"
   ]
  },
  {
   "cell_type": "code",
   "execution_count": 114,
   "metadata": {},
   "outputs": [],
   "source": [
    "import torch"
   ]
  },
  {
   "cell_type": "code",
   "execution_count": 115,
   "metadata": {},
   "outputs": [
    {
     "name": "stdout",
     "output_type": "stream",
     "text": [
      "tensor([0.3408])\n",
      "0.3407963514328003\n",
      "torch.float32\n"
     ]
    }
   ],
   "source": [
    "x = torch.randn(1)\n",
    "print(x)\n",
    "print(x.item())\n",
    "print(x.dtype)"
   ]
  },
  {
   "cell_type": "code",
   "execution_count": 116,
   "metadata": {},
   "outputs": [
    {
     "name": "stdout",
     "output_type": "stream",
     "text": [
      "cuda\n",
      "tensor([1.3408], device='cuda:0')\n",
      "tensor([1.3408], dtype=torch.float64)\n"
     ]
    }
   ],
   "source": [
    "device = torch.device('cuda' if torch.cuda.is_available() else 'cpu')\n",
    "\n",
    "y = torch.ones_like(x, device=device)\n",
    "x = x.to(device)\n",
    "z = x + y\n",
    "print(device)\n",
    "print(z)\n",
    "print(z.to ('cpu', torch.double))"
   ]
  },
  {
   "cell_type": "markdown",
   "metadata": {},
   "source": [
    "AUTOGRAD (자동미분)\n",
    "autograd 패키지는 Tensor의 모든 연산에 대해 자동 미분 제공\n",
    "\n",
    "이는 코드를 어떻게 작성하여 실행하느냐에 따라 역전파가 정의된다는 뜻\n",
    "\n",
    "backprop를 위한 미분값을 자동으로 계산\n",
    "\n",
    "Tensor\n",
    "data: tensor형태의 데이터\n",
    "\n",
    "grad: data가 겨쳐온 layer에 대한 미분값 저장\n",
    "\n",
    "grad_fn: 미분값을 계산한 함수에 대한 정보 저장 (어떤 함수에 대해서 backprop 했는지)\n",
    "\n",
    "requires_grad 속성을 True로 설정하면, 해당 텐서에서 이루어지는 모든 연산들을 추적하기 시작\n",
    "\n",
    "계산이 완료된 후, .backward()를 호출하면 자동으로 gradient를 계산할 수 있으며, .grad 속성에 누적됨\n",
    "\n",
    "기록을 추적하는 것을 중단하게 하려면, .detach()를 호출하여 연산기록으로부터 분리\n",
    "\n",
    "기록을 추적하는 것을 방지하기 위해 코드 블럭을 with torch.no_grad():로 감싸면 gradient는 필요없지만, requires_grad=True로 설정되어 학습 가능한 매개변수를 갖는 모델을 평가(evaluate)할 때 유용\n",
    "\n",
    "Autograd 구현에서 매우 중요한 클래스 : Function 클래스"
   ]
  },
  {
   "cell_type": "code",
   "execution_count": 117,
   "metadata": {},
   "outputs": [],
   "source": [
    "import torch"
   ]
  },
  {
   "cell_type": "code",
   "execution_count": 119,
   "metadata": {},
   "outputs": [
    {
     "name": "stdout",
     "output_type": "stream",
     "text": [
      "tensor([[1., 1., 1.],\n",
      "        [1., 1., 1.],\n",
      "        [1., 1., 1.]], requires_grad=True)\n"
     ]
    }
   ],
   "source": [
    "x = torch.ones(3,3,requires_grad=True)\n",
    "print(x)"
   ]
  },
  {
   "cell_type": "code",
   "execution_count": 120,
   "metadata": {},
   "outputs": [
    {
     "name": "stdout",
     "output_type": "stream",
     "text": [
      "tensor([[6., 6., 6.],\n",
      "        [6., 6., 6.],\n",
      "        [6., 6., 6.]], grad_fn=<AddBackward0>)\n"
     ]
    }
   ],
   "source": [
    "y = x + 5\n",
    "print(y)"
   ]
  },
  {
   "cell_type": "code",
   "execution_count": 122,
   "metadata": {},
   "outputs": [
    {
     "name": "stdout",
     "output_type": "stream",
     "text": [
      "<AddBackward0 object at 0x000001BCE2B4FA60>\n"
     ]
    }
   ],
   "source": [
    "print(y.grad_fn)"
   ]
  },
  {
   "cell_type": "code",
   "execution_count": 123,
   "metadata": {},
   "outputs": [
    {
     "name": "stdout",
     "output_type": "stream",
     "text": [
      "tensor([[72., 72., 72.],\n",
      "        [72., 72., 72.],\n",
      "        [72., 72., 72.]], grad_fn=<MulBackward0>) tensor(72., grad_fn=<MeanBackward0>)\n"
     ]
    }
   ],
   "source": [
    "z = y*y*2\n",
    "out = z.mean()\n",
    "\n",
    "print(z, out)"
   ]
  },
  {
   "cell_type": "code",
   "execution_count": 124,
   "metadata": {},
   "outputs": [
    {
     "name": "stdout",
     "output_type": "stream",
     "text": [
      "False\n",
      "True\n",
      "<SumBackward0 object at 0x000001BCD8F02970>\n"
     ]
    }
   ],
   "source": [
    "a = torch.rand(3,3)\n",
    "a = ((a*3)/(a-1))\n",
    "print(a.requires_grad)\n",
    "\n",
    "a.requires_grad_(True)\n",
    "print(a.requires_grad)\n",
    "\n",
    "b = (a*a).sum()\n",
    "print(b.grad_fn)"
   ]
  },
  {
   "cell_type": "code",
   "execution_count": 125,
   "metadata": {},
   "outputs": [],
   "source": [
    "out.backward()"
   ]
  },
  {
   "cell_type": "code",
   "execution_count": 126,
   "metadata": {},
   "outputs": [
    {
     "name": "stdout",
     "output_type": "stream",
     "text": [
      "tensor([[2.6667, 2.6667, 2.6667],\n",
      "        [2.6667, 2.6667, 2.6667],\n",
      "        [2.6667, 2.6667, 2.6667]])\n"
     ]
    }
   ],
   "source": [
    "print(x.grad)"
   ]
  },
  {
   "cell_type": "code",
   "execution_count": 128,
   "metadata": {},
   "outputs": [
    {
     "name": "stdout",
     "output_type": "stream",
     "text": [
      "tensor([-578.8654, -912.0109, -343.5417], grad_fn=<MulBackward0>)\n"
     ]
    }
   ],
   "source": [
    "x = torch.randn(3, requires_grad=True)\n",
    "\n",
    "y = x * 2\n",
    "while y.data.norm() < 1000:\n",
    "    y = y*2\n",
    "    \n",
    "print(y)"
   ]
  },
  {
   "cell_type": "code",
   "execution_count": 129,
   "metadata": {},
   "outputs": [
    {
     "name": "stdout",
     "output_type": "stream",
     "text": [
      "tensor([1.0240e+02, 1.0240e+03, 1.0240e-01])\n"
     ]
    }
   ],
   "source": [
    "v = torch.tensor([0.1, 1.0, 0.0001], dtype=torch.float)\n",
    "y.backward(v)\n",
    "\n",
    "print(x.grad)"
   ]
  },
  {
   "cell_type": "code",
   "execution_count": 130,
   "metadata": {},
   "outputs": [
    {
     "name": "stdout",
     "output_type": "stream",
     "text": [
      "True\n",
      "True\n",
      "False\n"
     ]
    }
   ],
   "source": [
    "print(x.requires_grad)\n",
    "print((x ** 2).requires_grad)\n",
    "\n",
    "with torch.no_grad():\n",
    "    print((x **2).requires_grad)"
   ]
  },
  {
   "cell_type": "code",
   "execution_count": 132,
   "metadata": {},
   "outputs": [
    {
     "name": "stdout",
     "output_type": "stream",
     "text": [
      "True\n",
      "False\n",
      "tensor(True)\n"
     ]
    }
   ],
   "source": [
    "print(x.requires_grad)\n",
    "y = x.detach()\n",
    "print(y.requires_grad)\n",
    "print(x.eq(y).all())"
   ]
  },
  {
   "cell_type": "code",
   "execution_count": null,
   "metadata": {},
   "outputs": [],
   "source": [
    "import torch"
   ]
  },
  {
   "cell_type": "code",
   "execution_count": 133,
   "metadata": {},
   "outputs": [
    {
     "name": "stdout",
     "output_type": "stream",
     "text": [
      "tensor([[1., 1.],\n",
      "        [1., 1.]])\n"
     ]
    }
   ],
   "source": [
    "a = torch.ones(2,2)\n",
    "print(a)"
   ]
  },
  {
   "cell_type": "code",
   "execution_count": 135,
   "metadata": {},
   "outputs": [
    {
     "name": "stdout",
     "output_type": "stream",
     "text": [
      "tensor([[1., 1.],\n",
      "        [1., 1.]], requires_grad=True)\n"
     ]
    }
   ],
   "source": [
    "a = torch.ones(2,2, requires_grad=True)\n",
    "print(a)"
   ]
  },
  {
   "cell_type": "code",
   "execution_count": 142,
   "metadata": {},
   "outputs": [
    {
     "name": "stdout",
     "output_type": "stream",
     "text": [
      "a.data: tensor([[1., 1.],\n",
      "        [1., 1.]])\n",
      "a.grad: tensor([[6., 6.],\n",
      "        [6., 6.]])\n",
      "a.grad_fn None\n"
     ]
    }
   ],
   "source": [
    "print('a.data:',a.data)\n",
    "print('a.grad:', a.grad)\n",
    "print('a.grad_fn', a.grad_fn)"
   ]
  },
  {
   "cell_type": "code",
   "execution_count": 143,
   "metadata": {},
   "outputs": [
    {
     "name": "stdout",
     "output_type": "stream",
     "text": [
      "tensor([[3., 3.],\n",
      "        [3., 3.]], grad_fn=<AddBackward0>)\n"
     ]
    }
   ],
   "source": [
    "b = a+2\n",
    "print(b)"
   ]
  },
  {
   "cell_type": "code",
   "execution_count": 144,
   "metadata": {},
   "outputs": [
    {
     "name": "stdout",
     "output_type": "stream",
     "text": [
      "tensor([[9., 9.],\n",
      "        [9., 9.]], grad_fn=<PowBackward0>)\n"
     ]
    }
   ],
   "source": [
    "c = b**2\n",
    "print(c)"
   ]
  },
  {
   "cell_type": "code",
   "execution_count": 145,
   "metadata": {},
   "outputs": [
    {
     "name": "stdout",
     "output_type": "stream",
     "text": [
      "tensor(36., grad_fn=<SumBackward0>)\n"
     ]
    }
   ],
   "source": [
    "out = c.sum()\n",
    "print(out)"
   ]
  },
  {
   "cell_type": "code",
   "execution_count": 140,
   "metadata": {},
   "outputs": [
    {
     "name": "stdout",
     "output_type": "stream",
     "text": [
      "tensor(36., grad_fn=<SumBackward0>)\n"
     ]
    }
   ],
   "source": [
    "print(out)\n",
    "out.backward()"
   ]
  },
  {
   "cell_type": "code",
   "execution_count": 146,
   "metadata": {},
   "outputs": [
    {
     "name": "stdout",
     "output_type": "stream",
     "text": [
      "a.data: tensor([[1., 1.],\n",
      "        [1., 1.]])\n",
      "a.grad: tensor([[6., 6.],\n",
      "        [6., 6.]])\n",
      "a.grad_fn None\n"
     ]
    }
   ],
   "source": [
    "print('a.data:',a.data)\n",
    "print('a.grad:', a.grad)\n",
    "print('a.grad_fn', a.grad_fn)"
   ]
  },
  {
   "cell_type": "code",
   "execution_count": 148,
   "metadata": {},
   "outputs": [
    {
     "name": "stdout",
     "output_type": "stream",
     "text": [
      "b.data: tensor([[3., 3.],\n",
      "        [3., 3.]], grad_fn=<AddBackward0>)\n",
      "b.grad: None\n",
      "b.grad_fn <AddBackward0 object at 0x000001BCD8F02BE0>\n"
     ]
    }
   ],
   "source": [
    "print('b.data:',b.data)\n",
    "print('b.grad:', b.grad)\n",
    "print('b.grad_fn', b.grad_fn)"
   ]
  },
  {
   "cell_type": "code",
   "execution_count": 149,
   "metadata": {},
   "outputs": [
    {
     "name": "stdout",
     "output_type": "stream",
     "text": [
      "c.data: tensor([[9., 9.],\n",
      "        [9., 9.]])\n",
      "c.grad: None\n",
      "c.grad_fn <PowBackward0 object at 0x000001BCD8F02730>\n"
     ]
    },
    {
     "name": "stderr",
     "output_type": "stream",
     "text": [
      "C:\\ProgramData\\Anaconda3\\envs\\torch-gpu\\lib\\site-packages\\torch\\_tensor.py:1013: UserWarning: The .grad attribute of a Tensor that is not a leaf Tensor is being accessed. Its .grad attribute won't be populated during autograd.backward(). If you indeed want the .grad field to be populated for a non-leaf Tensor, use .retain_grad() on the non-leaf Tensor. If you access the non-leaf Tensor by mistake, make sure you access the leaf Tensor instead. See github.com/pytorch/pytorch/pull/30531 for more informations. (Triggered internally at  aten\\src\\ATen/core/TensorBody.h:417.)\n",
      "  return self._grad\n"
     ]
    }
   ],
   "source": [
    "print('c.data:',c.data)\n",
    "print('c.grad:', c.grad)\n",
    "print('c.grad_fn', c.grad_fn)"
   ]
  },
  {
   "cell_type": "code",
   "execution_count": 150,
   "metadata": {},
   "outputs": [
    {
     "name": "stdout",
     "output_type": "stream",
     "text": [
      "out.data: tensor(36.)\n",
      "out.grad: None\n",
      "out.grad_fn <SumBackward0 object at 0x000001BCE1A51AF0>\n"
     ]
    },
    {
     "name": "stderr",
     "output_type": "stream",
     "text": [
      "C:\\ProgramData\\Anaconda3\\envs\\torch-gpu\\lib\\site-packages\\torch\\_tensor.py:1013: UserWarning: The .grad attribute of a Tensor that is not a leaf Tensor is being accessed. Its .grad attribute won't be populated during autograd.backward(). If you indeed want the .grad field to be populated for a non-leaf Tensor, use .retain_grad() on the non-leaf Tensor. If you access the non-leaf Tensor by mistake, make sure you access the leaf Tensor instead. See github.com/pytorch/pytorch/pull/30531 for more informations. (Triggered internally at  aten\\src\\ATen/core/TensorBody.h:417.)\n",
      "  return self._grad\n"
     ]
    }
   ],
   "source": [
    "print('out.data:',out.data)\n",
    "print('out.grad:', out.grad)\n",
    "print('out.grad_fn', out.grad_fn)"
   ]
  },
  {
   "cell_type": "code",
   "execution_count": 151,
   "metadata": {},
   "outputs": [
    {
     "name": "stdout",
     "output_type": "stream",
     "text": [
      "tensor(6., grad_fn=<SumBackward0>)\n"
     ]
    }
   ],
   "source": [
    "x = torch.ones(3, requires_grad=True)\n",
    "y = (x**2)\n",
    "z = y**2++x\n",
    "out = z.sum()\n",
    "print(out)"
   ]
  },
  {
   "cell_type": "code",
   "execution_count": 152,
   "metadata": {},
   "outputs": [],
   "source": [
    "grad = torch.Tensor([0.1,1,100])\n",
    "z.backward(grad)"
   ]
  },
  {
   "cell_type": "code",
   "execution_count": 154,
   "metadata": {},
   "outputs": [
    {
     "name": "stdout",
     "output_type": "stream",
     "text": [
      "x.data: tensor([1., 1., 1.])\n",
      "x.grad: tensor([  0.5000,   5.0000, 500.0000])\n",
      "x.grad_fn None\n"
     ]
    }
   ],
   "source": [
    "print('x.data:',x.data)\n",
    "print('x.grad:', x.grad)\n",
    "print('x.grad_fn', x.grad_fn)"
   ]
  },
  {
   "cell_type": "code",
   "execution_count": 155,
   "metadata": {},
   "outputs": [
    {
     "name": "stdout",
     "output_type": "stream",
     "text": [
      "y.data: tensor([1., 1., 1.])\n",
      "y.grad: None\n",
      "y.grad_fn <PowBackward0 object at 0x000001BCE1A51A30>\n"
     ]
    },
    {
     "name": "stderr",
     "output_type": "stream",
     "text": [
      "C:\\ProgramData\\Anaconda3\\envs\\torch-gpu\\lib\\site-packages\\torch\\_tensor.py:1013: UserWarning: The .grad attribute of a Tensor that is not a leaf Tensor is being accessed. Its .grad attribute won't be populated during autograd.backward(). If you indeed want the .grad field to be populated for a non-leaf Tensor, use .retain_grad() on the non-leaf Tensor. If you access the non-leaf Tensor by mistake, make sure you access the leaf Tensor instead. See github.com/pytorch/pytorch/pull/30531 for more informations. (Triggered internally at  aten\\src\\ATen/core/TensorBody.h:417.)\n",
      "  return self._grad\n"
     ]
    }
   ],
   "source": [
    "print('y.data:',y.data)\n",
    "print('y.grad:', y.grad)\n",
    "print('y.grad_fn', y.grad_fn)"
   ]
  },
  {
   "cell_type": "code",
   "execution_count": 156,
   "metadata": {},
   "outputs": [
    {
     "name": "stdout",
     "output_type": "stream",
     "text": [
      "z.data: tensor([2., 2., 2.])\n",
      "z.grad: None\n",
      "z.grad_fn <AddBackward0 object at 0x000001BCD8ED87C0>\n"
     ]
    },
    {
     "name": "stderr",
     "output_type": "stream",
     "text": [
      "C:\\ProgramData\\Anaconda3\\envs\\torch-gpu\\lib\\site-packages\\torch\\_tensor.py:1013: UserWarning: The .grad attribute of a Tensor that is not a leaf Tensor is being accessed. Its .grad attribute won't be populated during autograd.backward(). If you indeed want the .grad field to be populated for a non-leaf Tensor, use .retain_grad() on the non-leaf Tensor. If you access the non-leaf Tensor by mistake, make sure you access the leaf Tensor instead. See github.com/pytorch/pytorch/pull/30531 for more informations. (Triggered internally at  aten\\src\\ATen/core/TensorBody.h:417.)\n",
      "  return self._grad\n"
     ]
    }
   ],
   "source": [
    "print('z.data:',z.data)\n",
    "print('z.grad:', z.grad)\n",
    "print('z.grad_fn', z.grad_fn)"
   ]
  },
  {
   "cell_type": "code",
   "execution_count": 157,
   "metadata": {},
   "outputs": [],
   "source": [
    "import torch\n",
    "import torch.nn as nn"
   ]
  },
  {
   "cell_type": "code",
   "execution_count": 162,
   "metadata": {},
   "outputs": [
    {
     "name": "stdout",
     "output_type": "stream",
     "text": [
      "tensor([[[[-0.2548, -0.3540, -0.3648,  ...,  0.9542, -0.4462, -0.3640],\n",
      "          [-0.6602,  0.4372, -0.0783,  ..., -0.8372,  1.2486, -0.1951],\n",
      "          [-2.7770,  0.6521,  0.9653,  ..., -0.1171,  0.7619,  0.3519],\n",
      "          ...,\n",
      "          [ 0.6048,  1.3084,  1.3636,  ...,  1.0850,  0.1990,  0.1521],\n",
      "          [-1.1534, -0.5766, -0.2962,  ..., -0.2008, -1.8867,  0.9805],\n",
      "          [-0.4498, -0.7891, -1.3997,  ...,  1.0079,  0.7404, -0.7742]],\n",
      "\n",
      "         [[-0.5043,  0.2457,  1.6474,  ...,  0.7625, -0.7127, -0.5754],\n",
      "          [-0.1102,  1.9706,  1.2001,  ..., -0.4871, -1.4840, -0.8736],\n",
      "          [-0.5277, -0.0991,  0.8694,  ..., -0.3227,  0.9008, -0.4061],\n",
      "          ...,\n",
      "          [ 0.6721, -0.6991, -0.9539,  ..., -2.4287, -0.4409, -1.1477],\n",
      "          [-0.8456,  0.5208,  0.8054,  ..., -1.3983, -0.5237,  0.2220],\n",
      "          [ 0.8032, -0.9600, -1.2524,  ..., -0.0347,  0.4738, -0.2296]],\n",
      "\n",
      "         [[-2.2687, -1.1558, -0.1259,  ..., -0.0133,  1.5736,  0.6873],\n",
      "          [-0.8639,  0.9513,  0.6836,  ...,  0.3276, -1.0239, -1.8141],\n",
      "          [ 0.3297,  1.3072,  0.5005,  ...,  0.4891, -0.2615,  0.9149],\n",
      "          ...,\n",
      "          [ 1.1448,  0.1959,  0.0986,  ...,  0.4085, -1.8466, -0.3607],\n",
      "          [-0.2726, -0.0348,  1.8594,  ..., -0.6754, -0.0650, -0.1270],\n",
      "          [-0.5981, -1.2787, -0.7071,  ..., -0.8462, -1.5664, -0.2564]],\n",
      "\n",
      "         ...,\n",
      "\n",
      "         [[ 1.2192,  0.5177,  0.1470,  ..., -1.7327,  0.3459,  0.3380],\n",
      "          [-0.4065, -1.2652, -0.0197,  ...,  0.4325,  0.5899, -1.1424],\n",
      "          [ 0.4565, -1.8784,  0.0212,  ...,  0.2634, -1.2826,  1.1465],\n",
      "          ...,\n",
      "          [ 0.1535,  1.0443, -1.1949,  ..., -1.1661, -0.6070, -0.5122],\n",
      "          [-0.5314,  0.9673, -1.6157,  ...,  0.0562,  0.2412, -1.0805],\n",
      "          [ 0.0599, -0.5827, -0.2020,  ...,  1.2016,  0.1116,  0.1640]],\n",
      "\n",
      "         [[ 0.5103, -1.0002, -1.7963,  ..., -1.5135, -1.4467, -0.2539],\n",
      "          [-0.0937,  0.1830, -0.7516,  ...,  0.7935, -1.2405, -0.1907],\n",
      "          [ 0.6310,  1.0360, -0.8627,  ..., -1.0508, -0.8978, -0.3791],\n",
      "          ...,\n",
      "          [-0.5706, -1.0475, -0.6659,  ..., -0.3628, -0.3709,  0.2353],\n",
      "          [-0.0676,  1.3476, -0.4029,  ..., -0.3661, -0.0320,  0.6391],\n",
      "          [-0.9018, -0.6903, -0.8304,  ...,  2.3553,  0.1369,  0.0128]],\n",
      "\n",
      "         [[-0.7935, -2.3438,  1.3445,  ...,  0.5963,  1.5532, -0.8789],\n",
      "          [ 0.2516, -0.7238,  0.0192,  ..., -0.5799, -0.8587, -0.5390],\n",
      "          [ 0.7127, -1.0340, -2.4008,  ...,  0.0832, -1.4516,  0.7197],\n",
      "          ...,\n",
      "          [ 0.6342,  1.2141, -0.8991,  ..., -2.3431,  0.0339, -0.4935],\n",
      "          [ 0.0627, -1.3099, -2.2269,  ...,  0.0112,  1.7871,  0.5157],\n",
      "          [-0.3369,  0.5168, -0.8819,  ..., -0.1410,  0.1635, -0.3113]]],\n",
      "\n",
      "\n",
      "        [[[-0.9707,  0.3509,  1.9495,  ..., -0.8481,  0.5187, -0.2245],\n",
      "          [ 0.3945,  0.0474,  0.4777,  ...,  0.1014,  0.3736, -0.0102],\n",
      "          [-0.1021,  1.1174, -0.5789,  ..., -1.2984, -1.1809,  0.1056],\n",
      "          ...,\n",
      "          [-0.5894, -0.2594,  0.6919,  ...,  0.1325,  1.2545, -0.1153],\n",
      "          [ 2.1194,  1.1242,  0.3443,  ..., -0.2257,  0.5308,  0.3372],\n",
      "          [ 0.1031,  0.9885, -0.0507,  ..., -0.0173, -1.2259, -0.6376]],\n",
      "\n",
      "         [[ 0.2568,  0.7019,  0.0077,  ..., -0.2060,  0.8438,  2.0050],\n",
      "          [-1.1995,  0.3034, -0.0991,  ...,  1.2943,  2.0510,  0.8057],\n",
      "          [ 0.2742,  0.4995,  0.6597,  ..., -0.7488,  0.7959, -0.7753],\n",
      "          ...,\n",
      "          [-0.7225,  0.7462,  0.8341,  ..., -0.9155, -0.5802, -0.9115],\n",
      "          [-0.2290,  1.5864, -2.6475,  ...,  0.1618, -0.2097,  0.1864],\n",
      "          [-0.1262, -0.1099,  0.3311,  ...,  1.2308,  0.1808, -1.2403]],\n",
      "\n",
      "         [[ 0.0045,  0.1051,  1.4041,  ..., -0.1303,  0.9906, -0.9245],\n",
      "          [ 0.3316,  0.5503, -0.8307,  ..., -2.1656,  0.2781, -2.7860],\n",
      "          [ 0.5284, -0.0674,  0.6113,  ..., -1.2598, -1.0322, -1.8461],\n",
      "          ...,\n",
      "          [-0.4303,  0.3606,  0.4806,  ...,  0.2901,  0.5181,  0.9689],\n",
      "          [-0.8506,  0.0864,  0.0587,  ..., -0.6140,  2.3715,  0.8923],\n",
      "          [ 0.5509, -1.0524, -0.5569,  ...,  0.7543,  0.3440, -0.4948]],\n",
      "\n",
      "         ...,\n",
      "\n",
      "         [[-0.9211,  0.6924,  1.1301,  ...,  0.0588, -1.1666,  0.2554],\n",
      "          [ 0.1385, -0.6227, -0.0504,  ...,  2.1588,  0.5762, -0.5826],\n",
      "          [ 1.0425,  0.5469, -1.4420,  ..., -1.2673, -0.9099, -0.7342],\n",
      "          ...,\n",
      "          [-0.1384, -1.2390,  0.9341,  ..., -2.4388, -0.8703,  0.0121],\n",
      "          [ 0.6515, -0.7211, -0.2139,  ..., -0.4844,  0.3133, -0.3011],\n",
      "          [ 0.2064,  0.0828, -0.8949,  ..., -0.4209,  0.7793,  0.7302]],\n",
      "\n",
      "         [[ 0.4978, -0.1400,  0.1559,  ...,  0.6105, -0.4873,  1.8580],\n",
      "          [ 0.7760, -1.3016, -0.0380,  ..., -0.3459, -1.8628,  0.7972],\n",
      "          [ 1.3217, -0.7630, -0.4935,  ..., -0.6868, -1.6018,  0.3164],\n",
      "          ...,\n",
      "          [ 0.3682, -0.7041, -0.7510,  ...,  0.9860,  0.3459, -0.5248],\n",
      "          [-0.8901,  0.2587,  1.2281,  ...,  0.0849,  0.5927, -0.5493],\n",
      "          [ 0.1622, -0.6252,  0.1960,  ...,  0.5835, -0.0619, -0.0141]],\n",
      "\n",
      "         [[ 0.8984,  0.2055,  0.7932,  ...,  0.7935,  0.7292, -1.1835],\n",
      "          [ 0.7744,  1.7358,  0.8647,  ..., -0.1018,  0.0085,  1.0519],\n",
      "          [ 0.0771, -0.5392, -0.2742,  ..., -0.3554,  0.1526,  1.1263],\n",
      "          ...,\n",
      "          [-0.1616,  0.7633, -0.2476,  ..., -0.3529, -2.6255, -0.2407],\n",
      "          [-0.6599,  0.5676,  0.4453,  ...,  2.1895,  0.2767, -0.7190],\n",
      "          [-1.7991, -1.5491, -1.2164,  ...,  1.2327,  0.7101,  0.5255]]],\n",
      "\n",
      "\n",
      "        [[[ 2.5085, -1.1594, -1.9212,  ...,  0.1025, -1.1489,  0.7075],\n",
      "          [-0.2883,  0.9001, -0.9258,  ...,  0.3318, -0.1750, -0.9632],\n",
      "          [-0.0921,  0.5376,  0.6962,  ...,  0.1246,  0.0506,  0.2921],\n",
      "          ...,\n",
      "          [ 0.3904, -0.5425, -0.5578,  ...,  0.0127, -1.5785,  0.8903],\n",
      "          [ 0.0493,  0.7719, -0.7599,  ..., -0.1374,  0.3159,  0.3561],\n",
      "          [-0.9769, -0.0640,  0.2642,  ..., -0.3977, -1.5524,  0.0275]],\n",
      "\n",
      "         [[ 0.1229, -0.9069, -0.5057,  ...,  1.2386, -0.6984, -0.5153],\n",
      "          [-0.7855,  1.2134, -0.0260,  ...,  0.9141, -0.5259,  0.0937],\n",
      "          [-0.7093,  0.5817, -0.3971,  ..., -0.8921, -0.5267, -2.1963],\n",
      "          ...,\n",
      "          [ 0.9757, -0.5825, -1.6523,  ..., -0.6682,  0.7594, -1.8318],\n",
      "          [ 1.3599, -0.8248, -0.7642,  ...,  0.0668,  0.5479, -0.1485],\n",
      "          [ 1.3639, -0.2361,  1.3253,  ..., -1.4659,  0.4179,  0.1683]],\n",
      "\n",
      "         [[ 0.7171, -1.3297,  0.1013,  ..., -0.9896,  0.3887,  0.2581],\n",
      "          [ 1.8861, -1.0210, -0.7522,  ...,  1.3909,  1.4145, -0.1934],\n",
      "          [ 0.4075, -0.1929, -1.2942,  ...,  1.8594, -0.2335, -0.0591],\n",
      "          ...,\n",
      "          [ 2.6754,  0.7402,  0.1567,  ...,  0.1144,  1.0230, -0.3346],\n",
      "          [-0.4922,  1.0049,  1.2161,  ..., -2.4350,  0.8479,  0.0155],\n",
      "          [-0.1285,  0.0387,  1.2411,  ...,  1.3788, -1.6524,  0.1335]],\n",
      "\n",
      "         ...,\n",
      "\n",
      "         [[-0.9915,  0.0828, -0.0306,  ...,  1.6732,  0.3737, -0.4720],\n",
      "          [-1.4291,  0.6133,  0.8264,  ...,  0.0425,  0.5887,  1.6934],\n",
      "          [-0.9851, -0.4344,  0.5650,  ...,  0.6024, -1.4130,  0.3871],\n",
      "          ...,\n",
      "          [ 1.2070, -1.3467,  0.0890,  ...,  1.0437,  1.6431,  1.5053],\n",
      "          [ 0.5702,  0.9405, -0.2486,  ..., -0.0898, -0.5828, -0.1115],\n",
      "          [-0.0448,  2.8807, -1.7357,  ..., -1.5890,  1.5882,  0.5576]],\n",
      "\n",
      "         [[ 0.1085,  0.2374,  0.7442,  ...,  1.0267, -1.9387,  0.5510],\n",
      "          [ 0.0559, -1.6314, -0.7320,  ...,  0.4723, -0.0362,  1.7983],\n",
      "          [-1.1419, -0.8792,  0.9173,  ..., -0.3153, -0.7283,  0.6433],\n",
      "          ...,\n",
      "          [ 0.0392, -1.3447, -1.7710,  ...,  0.0954, -0.3581,  1.1863],\n",
      "          [ 0.2071, -0.6140, -0.6379,  ...,  1.6893,  0.2819, -1.1047],\n",
      "          [-0.0599, -0.1276,  0.9418,  ..., -0.5092, -0.3017, -0.4724]],\n",
      "\n",
      "         [[-0.1444, -0.2442,  0.5578,  ..., -0.2605, -1.6474,  0.9796],\n",
      "          [-1.4249, -1.2363, -1.5822,  ...,  1.1796, -0.4557, -0.0974],\n",
      "          [-0.9095,  0.5802,  0.5877,  ..., -0.2021, -2.7107,  0.3797],\n",
      "          ...,\n",
      "          [-3.1872,  0.4358, -0.2898,  ...,  1.0070, -0.5727,  0.9375],\n",
      "          [ 0.0224, -1.0955,  0.3768,  ..., -0.5517,  1.4242,  1.3391],\n",
      "          [-0.3406,  0.0943, -1.0009,  ..., -0.6532, -1.6169, -0.9135]]],\n",
      "\n",
      "\n",
      "        ...,\n",
      "\n",
      "\n",
      "        [[[-0.1513,  0.8739,  0.1608,  ...,  0.6583, -0.3495, -1.4491],\n",
      "          [-1.9138,  1.5409, -1.0446,  ..., -0.0729,  0.3419,  1.1783],\n",
      "          [-0.8755, -0.7205, -0.6907,  ...,  0.3308, -0.3953,  0.1972],\n",
      "          ...,\n",
      "          [ 0.5000, -0.0507,  1.1775,  ...,  0.3294,  0.9796, -0.1958],\n",
      "          [ 0.3274, -1.0723, -0.1082,  ..., -0.9085,  0.1618, -0.2598],\n",
      "          [ 0.3072, -0.3187, -0.4329,  ...,  0.1289, -1.1196,  0.3787]],\n",
      "\n",
      "         [[-0.3053, -0.4111, -0.4522,  ..., -0.9838,  0.9162,  0.1346],\n",
      "          [-0.0928,  1.5107, -0.0240,  ...,  1.1440, -0.2249, -0.5901],\n",
      "          [-0.2756, -1.3115,  1.0284,  ..., -1.5700,  0.0616, -2.1800],\n",
      "          ...,\n",
      "          [-0.2999,  1.3783, -2.4275,  ...,  0.9853, -0.6692,  1.5468],\n",
      "          [ 1.8282,  1.3776,  1.5317,  ...,  2.1880, -0.1478, -0.1489],\n",
      "          [ 1.9160,  1.4103,  0.5004,  ...,  0.8804, -0.6439, -0.2270]],\n",
      "\n",
      "         [[ 1.5360, -0.5419,  0.5223,  ...,  0.0392,  0.5568,  0.9469],\n",
      "          [-1.5558, -1.2905, -0.7707,  ...,  0.2521, -1.9186,  0.4665],\n",
      "          [ 1.6787, -0.0701,  1.1118,  ..., -1.3498,  0.6479, -1.7187],\n",
      "          ...,\n",
      "          [-0.0975, -0.0833, -1.6795,  ..., -0.4982,  0.8609, -0.3621],\n",
      "          [ 0.2614,  0.1053,  0.0688,  ...,  1.1858, -0.8475,  0.1776],\n",
      "          [-0.4542, -1.1025, -0.7858,  ...,  1.5129, -0.2830, -0.0689]],\n",
      "\n",
      "         ...,\n",
      "\n",
      "         [[ 0.6532,  0.5510, -0.3207,  ...,  0.0258, -0.6965,  0.8081],\n",
      "          [-0.6198,  1.3329,  1.0621,  ..., -0.9344, -1.3352,  0.2128],\n",
      "          [ 0.1628, -1.3955,  0.7069,  ..., -1.0367, -1.1145,  0.2233],\n",
      "          ...,\n",
      "          [-0.8886,  0.1074,  0.5804,  ..., -0.2531, -1.4820,  0.3559],\n",
      "          [-1.2442, -0.0079, -1.9365,  ...,  0.0907, -0.7456, -0.3053],\n",
      "          [-0.1000, -0.8366,  0.2492,  ...,  0.0715,  0.2358,  0.1760]],\n",
      "\n",
      "         [[ 0.3489,  0.5500,  1.8744,  ..., -0.7287,  0.7182,  0.8637],\n",
      "          [ 0.0772, -0.6558,  0.0920,  ...,  1.1460,  0.0796, -0.1420],\n",
      "          [-0.5514,  1.0927,  1.3344,  ...,  2.4517,  0.8586,  1.8564],\n",
      "          ...,\n",
      "          [-1.4926, -0.3323, -0.3526,  ...,  0.3952, -0.2483,  0.9369],\n",
      "          [-0.3202,  0.5124,  0.1881,  ...,  0.8714,  0.3869, -1.5242],\n",
      "          [-1.5121, -0.0969, -1.5021,  ...,  0.5020, -1.5785, -0.3877]],\n",
      "\n",
      "         [[-0.6945, -0.7422, -0.3606,  ..., -1.4133, -1.8789, -0.3990],\n",
      "          [-1.3449,  1.3552,  2.1413,  ..., -0.4951,  1.8331, -1.1081],\n",
      "          [-2.1738, -0.7613,  1.4100,  ...,  1.6927, -1.3571, -2.1269],\n",
      "          ...,\n",
      "          [-0.9104, -0.4766,  2.4607,  ...,  1.0427, -0.3918,  0.2613],\n",
      "          [-0.8028,  0.1120,  0.2687,  ..., -0.5113,  0.1437,  0.4534],\n",
      "          [ 2.1621, -2.2931,  0.8430,  ...,  0.7043, -0.8805,  0.5022]]],\n",
      "\n",
      "\n",
      "        [[[-0.8454, -0.4203, -0.6384,  ...,  1.5550,  0.6606,  1.1903],\n",
      "          [ 0.3580,  0.3336, -1.1990,  ...,  0.6761, -0.1818, -0.1949],\n",
      "          [-0.6039, -0.1653,  0.8818,  ..., -1.2001, -0.7394, -0.3436],\n",
      "          ...,\n",
      "          [-0.1937,  0.6830, -0.0923,  ...,  1.6748, -0.9766, -0.2678],\n",
      "          [ 0.4216, -0.8288, -0.2089,  ..., -0.3580,  0.8024, -0.2634],\n",
      "          [-1.1918, -0.7699, -3.5910,  ..., -1.2398,  0.3353,  0.2515]],\n",
      "\n",
      "         [[ 0.7140, -0.6959,  0.3901,  ..., -0.5621, -0.5208, -0.9623],\n",
      "          [ 0.0438, -0.4577, -0.2109,  ...,  0.9194,  1.0062,  0.7973],\n",
      "          [-0.5004,  3.8701,  0.6434,  ..., -0.3660,  0.4802,  0.6581],\n",
      "          ...,\n",
      "          [ 0.1941, -0.2176,  1.8074,  ...,  0.7340,  0.6794,  1.0759],\n",
      "          [-0.5212, -1.5950, -1.7784,  ...,  0.9380, -2.2803,  0.8836],\n",
      "          [-1.7047, -1.1228,  1.3832,  ...,  1.0478, -1.7719,  0.1077]],\n",
      "\n",
      "         [[ 1.4099,  1.2110,  1.6152,  ...,  0.1921,  0.8884,  0.3908],\n",
      "          [-0.8932, -0.1689, -0.7890,  ..., -0.7021,  0.0572,  0.3547],\n",
      "          [-0.0568, -0.5702,  0.5731,  ...,  1.2932, -1.1422,  0.4374],\n",
      "          ...,\n",
      "          [ 0.2253, -2.0996,  0.5081,  ...,  0.2099, -0.4208, -0.0440],\n",
      "          [-0.0986,  0.4436,  0.3188,  ...,  1.2154,  0.1646, -0.3765],\n",
      "          [ 0.2284, -0.2750, -0.6357,  ...,  0.4044, -0.0133, -0.0823]],\n",
      "\n",
      "         ...,\n",
      "\n",
      "         [[ 1.3875, -0.7766,  2.6212,  ...,  0.7078,  0.5331,  1.3946],\n",
      "          [ 0.3594,  0.8517,  0.5721,  ...,  0.1083, -0.2614, -1.3952],\n",
      "          [ 0.5352, -1.5638, -0.2480,  ..., -1.9668,  0.8535, -0.3166],\n",
      "          ...,\n",
      "          [-0.0236,  0.6481, -0.0316,  ..., -0.7685,  1.3628, -0.2228],\n",
      "          [-0.9450,  0.7803, -1.5012,  ..., -1.2858,  0.7753, -1.7451],\n",
      "          [-0.7005, -0.6334, -1.6486,  ...,  0.6722, -0.5730, -0.6118]],\n",
      "\n",
      "         [[ 0.4271,  0.0604,  0.3167,  ..., -0.0241, -0.1681, -0.8898],\n",
      "          [ 1.3386,  1.1339,  0.0750,  ...,  2.2215,  0.9102,  0.3421],\n",
      "          [-1.9320,  1.6678, -0.6767,  ...,  0.7211,  1.4820,  1.9335],\n",
      "          ...,\n",
      "          [-0.8371,  0.8031, -0.4419,  ..., -1.0287,  0.4410, -0.4431],\n",
      "          [-0.4629,  2.6577,  1.0933,  ..., -0.5268, -0.2132, -0.4927],\n",
      "          [ 0.2126, -1.0504, -0.7551,  ..., -1.9770, -0.5711, -0.1154]],\n",
      "\n",
      "         [[-0.2448, -1.3102, -0.1876,  ...,  1.1278, -0.2435, -0.0216],\n",
      "          [ 0.4295,  0.7701, -1.5725,  ..., -0.8005,  0.0630, -0.6906],\n",
      "          [-0.6292, -0.5150, -0.5368,  ...,  0.4994, -0.1924, -1.6521],\n",
      "          ...,\n",
      "          [ 0.5579,  0.8129, -1.5415,  ...,  0.0391,  0.3892, -1.1757],\n",
      "          [ 0.0195,  0.6172, -0.7474,  ..., -0.5300,  0.8034,  1.4447],\n",
      "          [ 0.3076,  0.3962,  1.0813,  ..., -0.8268, -1.3570,  0.8272]]],\n",
      "\n",
      "\n",
      "        [[[ 1.4888,  1.6724, -1.2023,  ...,  0.9434, -0.3561,  0.0866],\n",
      "          [-0.0077,  1.4528,  0.3276,  ...,  0.2208,  1.2828,  0.7429],\n",
      "          [-0.4646,  0.8465, -1.0885,  ..., -0.6079, -0.8830,  0.4237],\n",
      "          ...,\n",
      "          [-0.0749, -1.5552, -0.3447,  ..., -0.6352, -0.6093,  0.9889],\n",
      "          [ 0.4515, -1.5187, -0.7935,  ...,  1.0503,  2.0201, -1.8255],\n",
      "          [-0.3500, -1.6741, -1.6160,  ...,  1.2828, -1.2485, -1.6094]],\n",
      "\n",
      "         [[-1.7558,  1.4296, -0.4571,  ..., -0.3338, -0.2246,  0.2287],\n",
      "          [ 0.6103, -0.7424, -0.7601,  ...,  0.1848,  2.1897, -0.6134],\n",
      "          [ 1.7727,  1.0151,  0.0074,  ...,  0.0755, -1.5641, -1.0715],\n",
      "          ...,\n",
      "          [-1.7619,  1.0105,  0.2782,  ...,  0.3942,  1.6449,  1.6199],\n",
      "          [ 0.0216, -1.4102,  0.4453,  ...,  0.0185,  0.2110, -1.9654],\n",
      "          [-0.0678, -0.3746,  0.6752,  ...,  1.1513, -0.1285,  1.2034]],\n",
      "\n",
      "         [[-1.5868, -0.3889,  0.4506,  ..., -0.2854, -0.0277, -0.8373],\n",
      "          [-0.0930,  2.1448, -0.5764,  ...,  0.7893,  0.2633,  1.0984],\n",
      "          [-1.1909,  2.4066,  0.0075,  ..., -0.0928,  0.1857, -0.3747],\n",
      "          ...,\n",
      "          [-1.6928, -0.8873,  1.3036,  ...,  0.2988,  0.3600,  1.0169],\n",
      "          [ 0.2111,  0.7245, -1.2872,  ..., -1.3889,  1.8518, -0.7143],\n",
      "          [-1.7871, -0.1918, -2.5116,  ..., -0.7038,  0.7748,  0.2681]],\n",
      "\n",
      "         ...,\n",
      "\n",
      "         [[-0.4900,  0.6111, -1.2376,  ...,  1.3167, -0.1888,  0.3069],\n",
      "          [-1.5395,  0.1522,  0.6205,  ..., -0.9494, -1.0333, -0.1055],\n",
      "          [-2.6930,  0.3703,  0.8594,  ..., -1.1713,  2.1919, -1.5333],\n",
      "          ...,\n",
      "          [ 1.1669,  0.5033, -0.6720,  ..., -0.7158,  1.3740, -0.2244],\n",
      "          [-0.8207,  1.0625, -0.0999,  ..., -0.0657,  0.9189, -1.3214],\n",
      "          [-0.8189,  0.3254, -0.0247,  ..., -0.4559,  0.4071,  1.5169]],\n",
      "\n",
      "         [[-0.4685,  0.7496, -2.6829,  ..., -1.6220,  1.0605,  0.2408],\n",
      "          [ 0.2345,  0.9595,  1.2418,  ...,  0.9764, -0.0502,  0.4990],\n",
      "          [ 0.9772, -0.5231, -0.3589,  ...,  0.5328, -0.6473,  1.3690],\n",
      "          ...,\n",
      "          [-0.6001,  0.5191,  0.6438,  ..., -1.5145,  1.1829, -1.8507],\n",
      "          [ 0.1400,  0.1145, -1.4299,  ...,  0.6377, -1.2577, -1.3129],\n",
      "          [ 1.9817, -1.4488,  0.6538,  ...,  0.9650,  0.3984,  0.4661]],\n",
      "\n",
      "         [[-0.6513, -0.1988,  0.8465,  ...,  0.2066,  1.3899,  1.1825],\n",
      "          [ 0.1535,  1.1224, -0.0793,  ...,  2.1032, -1.7710,  1.2936],\n",
      "          [-0.4148,  0.1655,  1.7105,  ...,  0.0113,  1.0133, -1.2899],\n",
      "          ...,\n",
      "          [-0.3554,  0.0453, -0.3977,  ..., -0.3048,  0.3165,  0.3810],\n",
      "          [-1.3202,  0.1491,  1.5307,  ..., -0.4323,  0.1005,  1.3162],\n",
      "          [ 1.6694,  0.7863,  1.2739,  ..., -2.2968, -0.9733, -0.3200]]]])\n",
      "tensor([[[[-3.1279e-02,  7.0226e-02, -5.4844e-01,  ...,  1.3837e-01,\n",
      "            8.3783e-02, -7.4921e-02],\n",
      "          [ 2.7846e-01, -1.9994e-03, -5.1304e-01,  ..., -6.8936e-01,\n",
      "           -1.1418e-01, -4.6655e-02],\n",
      "          [-7.8384e-01,  1.3155e-01, -3.4517e-01,  ...,  5.3544e-01,\n",
      "           -2.2238e-01, -4.9875e-01],\n",
      "          ...,\n",
      "          [ 3.2878e-01, -1.4005e-01, -2.4423e-01,  ...,  2.2582e-01,\n",
      "            8.1468e-02, -1.0693e-01],\n",
      "          [-2.2090e-01, -2.7482e-01, -3.8172e-02,  ...,  1.1993e+00,\n",
      "            4.0587e-01,  1.6721e-01],\n",
      "          [-1.0401e-01, -4.5684e-01,  9.6687e-01,  ...,  1.9362e-01,\n",
      "           -1.1900e-01,  1.6010e-01]],\n",
      "\n",
      "         [[-4.1187e-01,  3.8582e-01,  1.7306e-01,  ..., -1.8474e-01,\n",
      "            2.5948e-01, -3.4043e-01],\n",
      "          [ 1.4387e-01, -4.2656e-01,  4.3265e-01,  ...,  3.6202e-02,\n",
      "            4.4787e-01, -3.3644e-01],\n",
      "          [ 3.1711e-01,  6.5721e-01, -3.5382e-01,  ..., -4.8173e-01,\n",
      "            1.8619e-01,  5.2530e-01],\n",
      "          ...,\n",
      "          [ 2.1917e-01, -1.7988e-01, -8.0082e-02,  ...,  9.6390e-01,\n",
      "           -2.0275e-01,  3.8204e-01],\n",
      "          [-1.8788e-01, -1.4285e-01, -8.5640e-01,  ..., -2.5495e-01,\n",
      "           -6.2886e-01, -5.7535e-01],\n",
      "          [-1.7204e-01, -2.1746e-02, -3.6229e-01,  ...,  1.0740e+00,\n",
      "            2.7774e-01,  8.6347e-01]],\n",
      "\n",
      "         [[-2.8239e-01,  4.0102e-02, -4.7838e-02,  ..., -3.2111e-01,\n",
      "            2.3034e-01, -2.4964e-01],\n",
      "          [-5.6047e-01,  2.0279e-02, -5.4516e-01,  ..., -8.5187e-02,\n",
      "            1.0263e-01,  5.7076e-01],\n",
      "          [-1.0534e-01,  3.6351e-01, -2.8618e-01,  ..., -4.0507e-03,\n",
      "           -1.3111e-03,  5.8831e-01],\n",
      "          ...,\n",
      "          [ 4.7145e-01, -4.3276e-01,  7.0436e-01,  ...,  8.9062e-02,\n",
      "           -1.1170e-01, -6.9530e-01],\n",
      "          [ 5.4715e-01, -1.3467e-01,  5.5088e-01,  ..., -5.8140e-01,\n",
      "           -1.1771e-01, -4.7778e-02],\n",
      "          [-5.7339e-01,  1.9890e-01, -6.0991e-01,  ..., -5.9229e-01,\n",
      "           -5.9688e-02, -3.5930e-01]],\n",
      "\n",
      "         ...,\n",
      "\n",
      "         [[-2.6513e-02, -8.0619e-01,  1.6237e-01,  ..., -3.1362e-01,\n",
      "           -2.6535e-01, -9.0452e-02],\n",
      "          [ 3.0613e-01,  4.9483e-01, -1.4708e-02,  ..., -4.5376e-01,\n",
      "            2.5424e-01,  6.5904e-01],\n",
      "          [-1.8179e-01,  3.2250e-01, -8.0495e-01,  ...,  3.6396e-01,\n",
      "           -1.8176e-01,  3.5507e-01],\n",
      "          ...,\n",
      "          [ 4.0996e-01,  3.6849e-01, -1.8044e-01,  ...,  5.2358e-01,\n",
      "            3.4080e-01, -1.4475e-01],\n",
      "          [-1.4653e-01, -8.1824e-01,  3.6594e-01,  ...,  4.4866e-01,\n",
      "            4.1616e-01,  6.3439e-01],\n",
      "          [-3.8910e-02,  7.9426e-01,  1.1194e+00,  ...,  4.6036e-01,\n",
      "            4.4657e-01,  1.3166e-01]],\n",
      "\n",
      "         [[ 2.0340e-01, -5.4362e-01, -3.3189e-01,  ...,  2.8015e-01,\n",
      "           -3.8001e-01, -1.4861e-01],\n",
      "          [-4.4291e-01,  1.5526e-01, -1.8241e-01,  ..., -3.5213e-01,\n",
      "            4.4030e-02,  3.1310e-01],\n",
      "          [ 2.0053e-01, -1.2068e+00,  4.0761e-01,  ..., -1.4782e-01,\n",
      "           -1.9548e-01, -2.2876e-01],\n",
      "          ...,\n",
      "          [-2.2263e-01,  1.7993e-01, -1.2229e+00,  ..., -5.7153e-02,\n",
      "           -6.9745e-01, -2.3006e-01],\n",
      "          [-3.5670e-01,  5.2594e-01, -7.4801e-01,  ...,  3.7726e-01,\n",
      "           -4.9374e-01, -7.6074e-02],\n",
      "          [-1.1228e+00,  4.1359e-01,  3.1454e-01,  ..., -1.3189e-01,\n",
      "           -5.0045e-01,  5.3369e-01]],\n",
      "\n",
      "         [[ 5.5251e-03,  1.1781e-01,  7.5168e-02,  ..., -7.0770e-02,\n",
      "            5.1577e-02, -3.7587e-02],\n",
      "          [-2.7297e-01,  1.0158e-01,  3.7799e-01,  ..., -9.0090e-01,\n",
      "           -3.6454e-03,  8.9861e-02],\n",
      "          [ 4.5585e-01,  2.6572e-01, -3.8331e-02,  ..., -2.2590e-01,\n",
      "            4.8387e-02, -3.0207e-01],\n",
      "          ...,\n",
      "          [-1.9004e-01,  1.0433e+00,  5.3905e-02,  ..., -5.6576e-02,\n",
      "            6.8812e-01, -5.2336e-01],\n",
      "          [-4.4871e-01, -6.8974e-01, -4.1288e-01,  ..., -1.1239e-01,\n",
      "            3.5195e-01,  1.0649e-01],\n",
      "          [ 8.1340e-02, -4.9345e-01,  4.3818e-01,  ...,  4.5050e-01,\n",
      "           -1.0697e-02,  2.4334e-01]]],\n",
      "\n",
      "\n",
      "        [[[-1.4893e-01,  3.3531e-01,  5.2736e-01,  ..., -3.2421e-01,\n",
      "           -6.2097e-02, -5.2824e-01],\n",
      "          [ 3.8346e-01,  1.1837e+00,  4.7272e-01,  ..., -3.0881e-01,\n",
      "           -1.4327e-01,  7.9815e-02],\n",
      "          [ 2.8968e-01, -1.0233e-01, -8.6806e-02,  ...,  2.8631e-01,\n",
      "           -1.8287e-01,  1.7550e-01],\n",
      "          ...,\n",
      "          [ 4.8651e-02, -5.2032e-02, -5.0693e-01,  ...,  5.3241e-01,\n",
      "            7.1687e-01,  2.9941e-01],\n",
      "          [ 2.0691e-03,  1.4556e-01,  3.6435e-01,  ...,  1.6186e-01,\n",
      "            2.5413e-01,  2.2513e-01],\n",
      "          [ 2.4270e-02,  7.9411e-02, -3.6796e-01,  ..., -1.8919e-01,\n",
      "           -1.0757e+00,  1.8768e-01]],\n",
      "\n",
      "         [[-2.9374e-01, -1.2949e-02,  1.5446e-01,  ...,  2.2406e-01,\n",
      "            1.2036e-01,  2.4824e-01],\n",
      "          [-6.8690e-02, -3.3754e-01,  3.8915e-01,  ...,  2.3973e-01,\n",
      "           -2.4313e-02,  1.8649e-01],\n",
      "          [ 2.4769e-01,  9.0993e-02,  1.0696e+00,  ..., -4.3622e-02,\n",
      "            5.0176e-01,  1.5011e-01],\n",
      "          ...,\n",
      "          [-1.8280e-01,  2.4494e-01,  4.4785e-01,  ..., -1.5552e+00,\n",
      "            1.7594e-01,  1.3607e-01],\n",
      "          [ 1.9341e-01,  2.1169e-01, -7.1969e-01,  ...,  2.6540e-01,\n",
      "           -4.0197e-01,  3.2471e-01],\n",
      "          [ 2.0617e-01,  4.4168e-01, -2.0568e-01,  ...,  5.0035e-01,\n",
      "            2.6621e-01,  1.8541e-01]],\n",
      "\n",
      "         [[ 7.3598e-02, -1.9351e-01, -1.1202e-01,  ...,  2.7036e-01,\n",
      "           -3.4840e-02, -6.7615e-02],\n",
      "          [-2.3425e-01, -1.9893e-01, -2.1816e-01,  ..., -2.1371e-01,\n",
      "           -5.7739e-01,  4.1581e-01],\n",
      "          [-3.3996e-01, -5.7240e-01,  3.0481e-01,  ..., -4.9708e-01,\n",
      "           -9.4709e-01, -3.3115e-01],\n",
      "          ...,\n",
      "          [ 1.1121e-01,  7.1838e-01,  3.4819e-01,  ..., -2.9147e-02,\n",
      "           -7.4361e-01,  2.2365e-01],\n",
      "          [-4.8332e-01,  4.7313e-01, -1.3613e-02,  ..., -5.4922e-01,\n",
      "            1.0276e+00,  1.8130e-01],\n",
      "          [ 1.2378e-02, -1.1373e-02, -3.0191e-01,  ..., -3.2008e-01,\n",
      "           -7.4818e-02, -5.8619e-01]],\n",
      "\n",
      "         ...,\n",
      "\n",
      "         [[-1.4894e-01,  3.4548e-01,  9.0542e-02,  ..., -6.1188e-02,\n",
      "            1.3970e-01, -3.5657e-01],\n",
      "          [ 1.3753e-01,  4.5928e-01, -2.4058e-01,  ..., -2.2409e-02,\n",
      "           -6.5545e-02,  3.5004e-01],\n",
      "          [-4.3164e-02,  3.5023e-02,  9.0414e-02,  ...,  2.7475e-01,\n",
      "           -4.3254e-01, -4.8171e-02],\n",
      "          ...,\n",
      "          [-1.1803e-01, -6.1194e-02, -4.6835e-01,  ..., -1.0822e+00,\n",
      "           -5.9490e-01,  8.5210e-02],\n",
      "          [ 1.2422e-01,  2.4592e-01,  1.7892e-01,  ...,  1.4245e-01,\n",
      "            6.0335e-01, -3.3490e-01],\n",
      "          [ 4.5894e-01, -5.3845e-02,  6.6711e-01,  ..., -4.5543e-01,\n",
      "           -2.5875e-01, -3.0747e-01]],\n",
      "\n",
      "         [[ 3.0790e-01, -2.6327e-01, -4.0680e-01,  ..., -4.6766e-01,\n",
      "           -2.1774e-01,  4.1426e-01],\n",
      "          [-1.8589e-01,  3.5410e-01,  2.2814e-01,  ..., -3.5673e-02,\n",
      "            2.3182e-01, -4.2011e-01],\n",
      "          [ 7.4070e-01, -5.1976e-01,  8.0412e-01,  ...,  9.4979e-01,\n",
      "            1.4394e-01, -3.8509e-01],\n",
      "          ...,\n",
      "          [-4.5456e-01, -1.2282e+00,  2.4948e-01,  ..., -1.9617e-01,\n",
      "            6.1311e-01,  1.0906e-01],\n",
      "          [ 1.0313e-01,  1.5104e-01,  3.4287e-01,  ...,  2.9386e-01,\n",
      "           -4.4544e-01,  4.0047e-01],\n",
      "          [-7.3816e-02, -1.4074e-01, -2.9646e-01,  ..., -5.4995e-01,\n",
      "            3.3322e-02,  3.8554e-01]],\n",
      "\n",
      "         [[-5.7127e-02, -1.8883e-01, -1.5209e-01,  ...,  9.5881e-02,\n",
      "           -3.6757e-01,  1.0991e-01],\n",
      "          [-2.5894e-01, -3.2584e-01, -3.3671e-01,  ..., -2.3082e-02,\n",
      "           -5.3482e-01,  3.6288e-01],\n",
      "          [-2.3346e-02, -3.6765e-01, -4.6447e-01,  ..., -4.1744e-01,\n",
      "           -8.2210e-02,  7.5672e-01],\n",
      "          ...,\n",
      "          [-2.9091e-01,  5.5366e-01,  5.8872e-01,  ..., -5.5864e-01,\n",
      "           -9.4422e-02,  6.1138e-02],\n",
      "          [-3.6832e-01,  1.2398e-01, -9.5677e-01,  ..., -7.1307e-01,\n",
      "           -3.3414e-01, -4.1122e-01],\n",
      "          [-3.3158e-01, -1.4235e-01,  6.4915e-01,  ..., -3.7786e-02,\n",
      "            3.9288e-01, -7.5317e-01]]],\n",
      "\n",
      "\n",
      "        [[[-1.4363e-01, -2.0506e-01,  1.3798e-01,  ...,  3.9878e-01,\n",
      "           -5.0192e-01, -2.9714e-01],\n",
      "          [ 2.2343e-01,  1.7624e-01, -1.0703e-01,  ...,  1.4432e-01,\n",
      "            3.2034e-01,  6.4851e-01],\n",
      "          [-8.8502e-01,  5.1149e-01, -6.5865e-02,  ..., -6.6021e-01,\n",
      "            1.2418e-01, -1.9655e-02],\n",
      "          ...,\n",
      "          [ 5.2257e-01, -7.1590e-01,  4.6646e-01,  ..., -9.0393e-01,\n",
      "            6.0748e-01,  6.5845e-01],\n",
      "          [-1.1250e-02, -2.4743e-01,  9.1804e-02,  ...,  2.6023e-01,\n",
      "           -4.8832e-01, -6.6696e-01],\n",
      "          [-6.2924e-01,  1.0884e+00,  4.2954e-01,  ..., -4.0549e-01,\n",
      "            1.2321e-01, -3.1712e-01]],\n",
      "\n",
      "         [[ 2.1808e-01,  4.8765e-01,  9.6905e-02,  ...,  3.8954e-02,\n",
      "            5.9740e-01,  1.6135e-02],\n",
      "          [-9.5450e-02,  2.8883e-01, -1.0451e-01,  ..., -7.1366e-02,\n",
      "           -3.1599e-01,  2.1187e-01],\n",
      "          [ 1.1727e+00,  6.2099e-02,  2.0014e-02,  ...,  6.4697e-01,\n",
      "            4.4636e-01,  6.8114e-01],\n",
      "          ...,\n",
      "          [-2.2103e-01, -4.7070e-01,  3.1114e-01,  ..., -1.9270e-01,\n",
      "            6.5678e-01,  6.3029e-01],\n",
      "          [-1.3463e-01, -5.0592e-01,  8.1043e-01,  ...,  4.9687e-01,\n",
      "           -2.7837e-01,  2.9140e-01],\n",
      "          [ 7.9273e-03, -2.4492e-01, -1.0315e+00,  ..., -6.6238e-01,\n",
      "            3.4028e-01,  5.4138e-01]],\n",
      "\n",
      "         [[-1.6840e-01,  2.6613e-01, -6.8614e-02,  ..., -3.9275e-02,\n",
      "            5.3690e-02, -1.4517e-01],\n",
      "          [ 2.6674e-01,  4.3585e-01, -1.4509e-02,  ..., -2.5874e-01,\n",
      "            4.9858e-03,  2.5896e-01],\n",
      "          [ 1.7958e-01,  5.7794e-01, -1.6985e-01,  ...,  3.9018e-01,\n",
      "           -5.5287e-01, -5.7620e-01],\n",
      "          ...,\n",
      "          [-1.0913e-01, -6.0800e-01, -3.4689e-01,  ...,  1.3651e-01,\n",
      "           -1.5054e-01,  7.8219e-01],\n",
      "          [-3.2736e-01,  1.9862e-01,  9.3019e-01,  ...,  8.2859e-02,\n",
      "           -2.9743e-01,  2.8253e-01],\n",
      "          [-6.5596e-01, -5.8977e-01,  3.5548e-02,  ..., -2.6787e-01,\n",
      "           -3.8093e-02, -1.9423e-01]],\n",
      "\n",
      "         ...,\n",
      "\n",
      "         [[ 4.7463e-02,  1.2326e-01,  2.9279e-01,  ..., -6.4001e-01,\n",
      "           -1.1364e-01, -1.2923e-01],\n",
      "          [ 2.8347e-01, -6.3604e-02,  6.2072e-02,  ..., -6.2998e-01,\n",
      "           -1.5093e-01, -4.3996e-01],\n",
      "          [ 2.6352e-01,  7.7240e-01, -6.1452e-01,  ..., -3.6411e-01,\n",
      "            8.0512e-01,  1.0997e-02],\n",
      "          ...,\n",
      "          [-2.4838e-02,  6.7404e-01,  8.2040e-02,  ..., -1.4385e-01,\n",
      "            5.1174e-01,  9.3112e-02],\n",
      "          [ 1.2416e-01,  5.6296e-01,  6.3038e-01,  ...,  2.3206e-02,\n",
      "           -4.6080e-02, -5.8035e-01],\n",
      "          [-3.7253e-01, -1.9655e-01, -5.2579e-01,  ..., -3.2845e-02,\n",
      "           -3.8371e-01,  3.8711e-01]],\n",
      "\n",
      "         [[-1.9218e-01,  2.2440e-02,  2.8084e-01,  ...,  1.7933e-01,\n",
      "           -1.1439e-01,  1.5114e-01],\n",
      "          [-3.7068e-01, -3.5367e-01,  1.6068e-01,  ...,  5.4156e-01,\n",
      "            1.9841e-02, -3.0080e-01],\n",
      "          [-5.8161e-01,  4.1548e-01, -9.1978e-01,  ..., -3.5902e-01,\n",
      "            2.9209e-01, -4.6791e-02],\n",
      "          ...,\n",
      "          [-2.7816e-01, -1.6065e-01, -3.4158e-01,  ...,  8.3792e-01,\n",
      "            9.2991e-01, -4.0598e-01],\n",
      "          [ 8.2823e-02, -5.1086e-03,  2.1027e-01,  ...,  1.6817e-01,\n",
      "           -1.9104e-01, -1.2406e-01],\n",
      "          [-2.2529e-01,  4.5333e-01,  2.5014e-01,  ...,  6.1076e-01,\n",
      "           -1.5607e-01,  1.3318e-01]],\n",
      "\n",
      "         [[ 1.6178e-01, -5.3005e-04,  1.8944e-01,  ...,  4.9631e-01,\n",
      "            3.5498e-01, -7.8309e-02],\n",
      "          [ 1.6153e-01, -2.8207e-01, -6.5476e-01,  ...,  1.7428e-01,\n",
      "           -9.8713e-02,  5.8751e-01],\n",
      "          [ 1.6086e-01, -1.9721e-02, -1.0187e-01,  ..., -4.2021e-01,\n",
      "            7.7906e-01, -5.2869e-01],\n",
      "          ...,\n",
      "          [-4.6666e-02,  4.8840e-01, -1.3340e+00,  ..., -4.5511e-01,\n",
      "           -1.7841e-01, -4.7192e-02],\n",
      "          [-1.0459e-01, -6.8168e-01,  7.6652e-01,  ..., -1.3846e-01,\n",
      "            2.8433e-01, -2.0631e-01],\n",
      "          [ 2.1262e-01,  9.4962e-03,  2.4450e-01,  ..., -2.4753e-01,\n",
      "            2.7866e-01,  2.8936e-01]]],\n",
      "\n",
      "\n",
      "        ...,\n",
      "\n",
      "\n",
      "        [[[ 2.5122e-01, -2.3818e-02, -9.9631e-03,  ..., -6.8139e-01,\n",
      "            5.5421e-01, -5.9805e-01],\n",
      "          [-4.6146e-01,  9.7974e-01,  2.6042e-01,  ...,  3.5119e-02,\n",
      "            3.5399e-01,  2.9801e-02],\n",
      "          [ 8.7289e-01, -3.9065e-01,  4.2725e-01,  ..., -7.2604e-01,\n",
      "            8.1634e-01, -1.0251e-02],\n",
      "          ...,\n",
      "          [ 1.7633e-01,  2.1983e-01,  7.6134e-01,  ...,  8.1485e-01,\n",
      "           -4.6755e-01,  8.2345e-01],\n",
      "          [-5.7973e-01,  4.0603e-01,  6.0092e-01,  ...,  3.1206e-01,\n",
      "           -1.8602e-01, -1.1788e-01],\n",
      "          [ 6.2279e-01, -5.7260e-01,  8.5641e-02,  ...,  1.2726e+00,\n",
      "            1.4596e-01,  3.9408e-01]],\n",
      "\n",
      "         [[ 1.2603e-01, -3.1915e-01, -3.2975e-02,  ...,  3.4882e-01,\n",
      "           -2.8997e-02,  3.4550e-01],\n",
      "          [-1.7090e-01,  1.4529e-01, -9.0263e-01,  ...,  1.0180e+00,\n",
      "           -6.1870e-02,  3.4952e-01],\n",
      "          [-5.2509e-01, -2.0569e-01, -1.8229e-01,  ...,  6.9138e-02,\n",
      "            5.7240e-01,  1.8004e-02],\n",
      "          ...,\n",
      "          [ 4.5119e-01,  5.5806e-01,  7.7443e-01,  ..., -6.0560e-01,\n",
      "           -7.5656e-01,  6.7517e-01],\n",
      "          [-2.7798e-01, -7.6502e-01, -4.5310e-01,  ...,  4.7849e-01,\n",
      "            2.6570e-01,  5.0583e-01],\n",
      "          [-1.8258e-01, -5.4804e-01,  5.7340e-01,  ..., -3.2624e-01,\n",
      "            1.7262e-01, -3.2065e-01]],\n",
      "\n",
      "         [[ 2.1600e-01,  3.9876e-01, -2.0239e-01,  ...,  3.0373e-01,\n",
      "            4.9089e-01, -3.8671e-01],\n",
      "          [-3.4623e-01,  5.6634e-01,  5.5099e-01,  ...,  5.6865e-01,\n",
      "            8.6988e-02, -2.0658e-01],\n",
      "          [-1.7818e-01, -2.9990e-01,  2.5359e-01,  ..., -3.6306e-01,\n",
      "            4.4019e-01,  6.8787e-02],\n",
      "          ...,\n",
      "          [ 2.0151e-01,  6.0504e-01,  1.5222e+00,  ..., -3.1834e-01,\n",
      "            1.6758e-01, -3.2817e-01],\n",
      "          [-5.2717e-01,  5.3706e-01, -5.1453e-02,  ..., -2.7352e-01,\n",
      "           -2.9957e-01, -1.3466e-01],\n",
      "          [-1.2503e-01, -1.4724e-01, -8.5578e-02,  ..., -9.2023e-01,\n",
      "            2.1642e-02,  2.4347e-01]],\n",
      "\n",
      "         ...,\n",
      "\n",
      "         [[ 8.7407e-02, -5.5854e-01, -2.4937e-01,  ..., -1.0043e-01,\n",
      "           -5.7609e-02, -2.6062e-01],\n",
      "          [ 4.1225e-01,  1.2009e-01,  2.3631e-01,  ...,  3.5734e-01,\n",
      "           -9.9119e-01, -2.8129e-02],\n",
      "          [-8.5329e-02, -8.4121e-01,  4.6238e-01,  ..., -7.8161e-01,\n",
      "            1.7957e-01, -8.6508e-02],\n",
      "          ...,\n",
      "          [ 3.6594e-01,  2.5028e-01, -8.8980e-02,  ...,  9.5311e-01,\n",
      "           -3.9100e-01,  5.0780e-01],\n",
      "          [-5.6431e-01, -2.7666e-01,  1.0506e-02,  ...,  4.1247e-01,\n",
      "           -1.5676e-01, -1.4468e-01],\n",
      "          [ 5.7203e-02,  7.3152e-01,  4.9971e-01,  ..., -3.9363e-01,\n",
      "            1.3663e-01,  4.9915e-01]],\n",
      "\n",
      "         [[-2.5312e-01, -3.8293e-01, -6.4005e-01,  ..., -1.3895e-02,\n",
      "            1.2493e-01,  1.5017e-01],\n",
      "          [-1.3495e-01, -1.3896e-01, -7.4671e-02,  ..., -6.5467e-02,\n",
      "            3.9216e-01,  1.7184e-01],\n",
      "          [-1.3365e-01, -5.3687e-02,  4.0178e-01,  ...,  2.2633e-01,\n",
      "           -8.3842e-02, -2.0995e-01],\n",
      "          ...,\n",
      "          [-5.1803e-01,  1.3191e-01, -5.4926e-01,  ..., -3.5006e-01,\n",
      "           -1.0094e+00, -1.8810e-01],\n",
      "          [ 3.4186e-02, -1.3780e-01,  2.7835e-01,  ...,  4.6913e-01,\n",
      "            1.8989e-01,  1.2209e-01],\n",
      "          [-2.5444e-01,  1.6123e-01, -4.0992e-01,  ...,  4.0519e-01,\n",
      "            3.3198e-01,  2.9105e-02]],\n",
      "\n",
      "         [[ 1.0142e-01, -3.6371e-01, -4.6742e-01,  ...,  4.7186e-01,\n",
      "            3.9583e-01,  1.5798e-01],\n",
      "          [ 3.4706e-02,  6.0984e-01,  1.7196e-01,  ...,  4.8275e-01,\n",
      "            3.5701e-01,  3.3209e-03],\n",
      "          [ 4.2037e-01, -1.0839e-01,  1.7371e-01,  ...,  1.5230e+00,\n",
      "            1.0734e-01,  2.9803e-01],\n",
      "          ...,\n",
      "          [ 4.2847e-01, -5.2910e-01,  1.7884e-01,  ..., -3.1911e-01,\n",
      "            7.9938e-01, -3.8010e-01],\n",
      "          [-7.3320e-01, -8.3545e-02,  3.5900e-01,  ...,  1.2852e-01,\n",
      "            2.3974e-01, -1.3898e-01],\n",
      "          [-1.1259e-02,  4.4232e-01,  1.9303e-01,  ..., -6.9356e-01,\n",
      "            1.0069e-01,  9.4574e-02]]],\n",
      "\n",
      "\n",
      "        [[[-5.4251e-01,  4.7193e-01,  3.3592e-01,  ..., -4.6060e-02,\n",
      "           -1.5484e-01,  2.5639e-02],\n",
      "          [ 6.2351e-02, -3.0262e-01, -6.3270e-01,  ..., -1.9894e-01,\n",
      "           -2.4420e-01,  4.9848e-01],\n",
      "          [ 5.5812e-02, -4.7360e-01, -5.8512e-01,  ...,  4.3993e-01,\n",
      "           -8.1761e-01,  3.7923e-01],\n",
      "          ...,\n",
      "          [ 1.8522e-01, -6.9453e-01, -1.7480e-01,  ...,  3.3272e-01,\n",
      "           -3.9042e-01,  4.7833e-01],\n",
      "          [ 7.3884e-01,  3.1292e-01,  1.5973e-01,  ...,  8.0582e-01,\n",
      "           -2.7904e-01, -2.4058e-01],\n",
      "          [-3.8930e-01,  2.2621e-01,  4.4225e-01,  ...,  3.1145e-02,\n",
      "            3.1914e-01,  4.0547e-01]],\n",
      "\n",
      "         [[-1.1625e-01,  5.3294e-01, -6.1690e-01,  ...,  2.0290e-02,\n",
      "           -4.0745e-01,  2.6846e-01],\n",
      "          [ 6.0532e-02,  8.1069e-01, -4.4739e-01,  ...,  5.7791e-01,\n",
      "            2.3592e-01,  2.4707e-01],\n",
      "          [ 9.2625e-01, -6.0857e-01,  5.3497e-01,  ...,  3.7455e-01,\n",
      "           -5.6154e-01,  3.3851e-01],\n",
      "          ...,\n",
      "          [-2.5503e-01, -2.9166e-01, -1.7957e+00,  ...,  4.3868e-01,\n",
      "           -5.8684e-01, -1.9404e-01],\n",
      "          [-2.1909e-01, -1.4925e-01, -7.1405e-02,  ..., -2.8800e-01,\n",
      "            4.0441e-01,  6.3482e-01],\n",
      "          [ 5.5428e-02,  8.0986e-01,  3.9814e-01,  ..., -3.5244e-01,\n",
      "            1.5331e-01, -2.0967e-01]],\n",
      "\n",
      "         [[ 1.9013e-01,  8.7218e-02, -7.9486e-01,  ...,  1.5871e-01,\n",
      "           -2.7109e-02,  3.2136e-01],\n",
      "          [ 4.6190e-02,  2.8554e-01, -2.8292e-01,  ...,  3.9469e-01,\n",
      "           -2.1814e-01,  2.6957e-01],\n",
      "          [-5.0289e-01,  3.0258e-02, -1.3210e+00,  ...,  2.3504e-01,\n",
      "            2.5007e-02,  1.2541e-01],\n",
      "          ...,\n",
      "          [-5.8652e-02, -3.9688e-02, -2.8671e-01,  ...,  6.3698e-01,\n",
      "            7.1202e-01, -3.1079e-02],\n",
      "          [ 2.9686e-01,  2.2001e-01, -1.0603e+00,  ...,  1.9378e-02,\n",
      "            4.7412e-01, -4.0121e-01],\n",
      "          [-2.7990e-01,  2.8758e-01,  1.4931e-01,  ..., -6.8074e-01,\n",
      "           -1.6824e-01,  1.5855e-01]],\n",
      "\n",
      "         ...,\n",
      "\n",
      "         [[-2.8558e-01,  2.1146e-02,  8.0589e-02,  ...,  1.5661e-01,\n",
      "           -4.1727e-01, -2.8473e-01],\n",
      "          [-3.8246e-01,  3.2701e-01,  5.9602e-01,  ...,  8.7436e-01,\n",
      "           -1.5686e-01, -2.9476e-01],\n",
      "          [ 1.1404e+00,  8.1011e-01,  1.1076e+00,  ...,  3.0885e-01,\n",
      "            8.4750e-01,  5.8277e-02],\n",
      "          ...,\n",
      "          [ 9.6398e-02,  7.6084e-01, -2.3310e-01,  ...,  5.8149e-01,\n",
      "            2.4425e-01, -7.9141e-01],\n",
      "          [ 2.3672e-01, -2.1475e-01, -9.0021e-01,  ...,  6.3907e-01,\n",
      "            7.1448e-02,  4.0332e-01],\n",
      "          [ 5.8308e-01,  6.0189e-01,  1.0889e+00,  ...,  7.2289e-02,\n",
      "            3.3301e-01,  4.8763e-01]],\n",
      "\n",
      "         [[-2.5549e-01, -6.1399e-02,  2.1712e-02,  ...,  2.1320e-01,\n",
      "           -8.4001e-02, -3.3740e-02],\n",
      "          [-1.0970e-01,  3.1538e-01, -2.4630e-01,  ...,  4.1237e-01,\n",
      "            6.4438e-01,  4.6781e-01],\n",
      "          [-5.6946e-01,  5.1395e-01,  5.9893e-01,  ..., -1.3069e+00,\n",
      "           -1.0988e+00, -9.2857e-02],\n",
      "          ...,\n",
      "          [-3.8816e-01,  3.1336e-01,  3.5340e-02,  ...,  2.4798e-01,\n",
      "            1.4796e-01, -5.4745e-01],\n",
      "          [ 1.7960e-01,  3.7268e-02,  7.3168e-01,  ..., -1.7520e-01,\n",
      "           -7.6594e-01,  2.0538e-01],\n",
      "          [-1.1856e-01,  1.1443e-01, -2.6178e-01,  ..., -6.0698e-01,\n",
      "            7.8164e-01,  1.6662e-01]],\n",
      "\n",
      "         [[ 2.4579e-01,  1.7405e-01, -4.5336e-01,  ...,  1.2374e-01,\n",
      "           -9.1452e-02,  5.6755e-03],\n",
      "          [-1.6104e-01, -2.8074e-02, -6.1457e-01,  ...,  1.3855e-01,\n",
      "           -1.3896e-01, -3.0468e-01],\n",
      "          [-1.0203e-01, -7.8007e-02,  7.1896e-01,  ..., -2.4413e-01,\n",
      "           -2.7498e-01,  6.6808e-01],\n",
      "          ...,\n",
      "          [-6.3381e-01,  1.5818e-01,  9.7915e-01,  ..., -2.7396e-01,\n",
      "            9.4582e-01, -5.0552e-01],\n",
      "          [ 2.5665e-01,  7.6824e-01, -6.5634e-01,  ...,  9.9105e-01,\n",
      "            5.5022e-01, -5.8312e-01],\n",
      "          [-2.5509e-01,  1.1663e+00,  1.7564e-01,  ...,  4.7874e-01,\n",
      "            2.0644e-02,  1.0813e-01]]],\n",
      "\n",
      "\n",
      "        [[[ 6.0776e-02,  7.8129e-02,  1.6537e-01,  ...,  3.2347e-01,\n",
      "           -5.2790e-01, -2.6693e-01],\n",
      "          [-4.7935e-02,  1.8417e-01, -6.3039e-01,  ...,  3.5833e-01,\n",
      "           -1.6506e-01,  9.6233e-02],\n",
      "          [-4.7175e-01,  3.7714e-01,  6.4755e-01,  ..., -9.4761e-01,\n",
      "            1.1200e+00, -6.3197e-01],\n",
      "          ...,\n",
      "          [ 1.7469e-01, -1.0368e+00, -5.1155e-01,  ...,  2.9773e-01,\n",
      "            5.0777e-01,  6.4438e-01],\n",
      "          [-6.3289e-01,  4.4875e-01,  2.2369e-01,  ...,  2.5555e-01,\n",
      "            5.4925e-01,  9.4629e-02],\n",
      "          [-8.7055e-02, -4.4920e-01,  3.5506e-01,  ..., -2.0462e-01,\n",
      "           -4.4317e-01, -3.0508e-02]],\n",
      "\n",
      "         [[-4.4027e-01, -2.9694e-02,  6.9717e-02,  ...,  1.0993e-01,\n",
      "            1.2194e-01,  7.5900e-01],\n",
      "          [ 4.0301e-01,  8.0433e-01, -2.5539e-01,  ...,  4.0128e-01,\n",
      "            4.1261e-01, -1.2570e-02],\n",
      "          [ 4.9259e-01,  5.9095e-01, -1.3761e+00,  ..., -1.3106e-01,\n",
      "           -7.7821e-02, -3.8576e-01],\n",
      "          ...,\n",
      "          [ 3.5154e-01, -2.6278e-01, -1.0141e+00,  ..., -5.0617e-01,\n",
      "           -4.4291e-01, -1.7405e-01],\n",
      "          [ 2.5140e-01, -4.1773e-01,  3.3653e-02,  ..., -1.6361e-01,\n",
      "           -1.1531e-01, -7.7126e-01],\n",
      "          [-3.4445e-01,  1.0841e+00,  5.5010e-01,  ...,  3.4864e-01,\n",
      "            1.3546e-01, -1.2698e-01]],\n",
      "\n",
      "         [[ 2.3387e-02, -4.2474e-01, -3.6950e-01,  ..., -1.8513e-01,\n",
      "           -5.1604e-01,  2.7679e-01],\n",
      "          [ 4.3835e-01, -8.0482e-02,  2.5721e-01,  ...,  1.9400e-02,\n",
      "            6.5136e-01, -1.9081e-02],\n",
      "          [-3.0505e-02, -8.3704e-04,  1.9092e-01,  ...,  3.2218e-01,\n",
      "           -1.1160e-01, -3.0971e-01],\n",
      "          ...,\n",
      "          [-1.9861e-01, -7.2618e-01,  1.5650e-01,  ..., -3.6796e-01,\n",
      "           -3.1930e-01,  6.0686e-02],\n",
      "          [ 1.7409e-02, -5.1323e-01, -1.1355e-01,  ..., -4.8714e-01,\n",
      "            2.6480e-01,  2.4838e-02],\n",
      "          [-7.0692e-02, -1.6210e-01,  1.8547e-01,  ..., -2.7372e-01,\n",
      "           -6.6428e-02, -5.5233e-01]],\n",
      "\n",
      "         ...,\n",
      "\n",
      "         [[ 9.2153e-02,  4.4661e-01,  5.2402e-01,  ...,  8.2459e-02,\n",
      "           -4.9623e-02, -1.4754e-01],\n",
      "          [-6.1329e-01, -7.2146e-01, -7.6028e-01,  ..., -9.5571e-03,\n",
      "           -2.6816e-01, -5.4642e-01],\n",
      "          [-1.9233e-01,  5.7197e-01,  5.5206e-01,  ...,  1.0827e+00,\n",
      "            5.8969e-02, -4.0031e-02],\n",
      "          ...,\n",
      "          [ 1.1697e-01, -1.5856e-01, -5.9759e-01,  ...,  5.9044e-02,\n",
      "           -4.2294e-01, -2.6062e-01],\n",
      "          [-4.8286e-01,  5.4509e-01, -5.1356e-01,  ..., -2.6046e-01,\n",
      "           -4.8408e-01, -1.6952e-01],\n",
      "          [ 1.0468e-01,  1.1386e+00,  4.8610e-02,  ..., -1.5697e-01,\n",
      "            4.2769e-01, -4.8424e-01]],\n",
      "\n",
      "         [[-6.0543e-02, -4.2753e-01,  6.2685e-02,  ..., -5.3910e-01,\n",
      "            1.4438e-01, -3.7293e-01],\n",
      "          [-2.0089e-01,  6.9862e-02, -4.2988e-01,  ..., -7.4047e-01,\n",
      "           -1.0408e+00, -2.6579e-01],\n",
      "          [ 5.5052e-01,  8.9220e-01, -1.8813e-01,  ..., -8.2822e-01,\n",
      "            1.6009e-01, -6.4593e-02],\n",
      "          ...,\n",
      "          [-9.2243e-01, -2.2617e-01,  7.3710e-01,  ...,  5.5366e-01,\n",
      "            5.6760e-01, -5.5233e-01],\n",
      "          [ 2.4242e-01,  1.3108e-01,  4.4233e-01,  ...,  2.7013e-01,\n",
      "           -2.3314e-01,  4.5510e-01],\n",
      "          [-5.6830e-02, -1.0322e-01,  4.9601e-01,  ...,  9.2533e-01,\n",
      "            6.6679e-01,  2.0173e-01]],\n",
      "\n",
      "         [[ 8.8561e-03, -2.9383e-01, -5.2451e-01,  ...,  1.0751e-01,\n",
      "           -3.2401e-01,  6.5667e-01],\n",
      "          [ 1.0418e-02,  2.0827e-01,  4.6962e-01,  ...,  1.1699e-01,\n",
      "           -1.2528e-01,  6.6196e-02],\n",
      "          [ 6.5493e-02,  3.4604e-01,  6.5263e-01,  ..., -1.0996e-01,\n",
      "           -8.8560e-01, -1.0655e+00],\n",
      "          ...,\n",
      "          [ 4.3470e-02, -5.0010e-01, -4.8542e-01,  ..., -1.7102e-01,\n",
      "           -1.6681e-02, -2.3433e-02],\n",
      "          [ 6.4090e-02,  4.6397e-01,  4.0859e-01,  ..., -6.9513e-02,\n",
      "            2.9659e-01, -7.8239e-03],\n",
      "          [ 7.5491e-01,  4.4927e-01,  4.5073e-01,  ...,  1.6303e-01,\n",
      "           -1.0368e-01,  5.4833e-01]]]], grad_fn=<MkldnnConvolutionBackward0>)\n"
     ]
    }
   ],
   "source": [
    "m = nn.Conv2d(16,33, 3, stride=2)\n",
    "\n",
    "m = nn.Conv2d(16, 33,(3,5), stride=(2,1), padding=(4,2))\n",
    "\n",
    "m = nn.Conv2d(16, 33,(3,5), stride=(2,1), padding=(4,2), dilation=(3,1))\n",
    "\n",
    "input = torch.randn(20, 16,50,100)\n",
    "print(input)\n",
    "output= m(input)\n",
    "print(output)"
   ]
  },
  {
   "cell_type": "code",
   "execution_count": 163,
   "metadata": {},
   "outputs": [
    {
     "data": {
      "text/plain": [
       "torch.Size([20, 33, 26, 100])"
      ]
     },
     "execution_count": 163,
     "metadata": {},
     "output_type": "execute_result"
    }
   ],
   "source": [
    "output.shape"
   ]
  },
  {
   "cell_type": "code",
   "execution_count": 164,
   "metadata": {},
   "outputs": [],
   "source": [
    "import torch\n",
    "import torch.nn.functional as F"
   ]
  },
  {
   "cell_type": "code",
   "execution_count": 165,
   "metadata": {},
   "outputs": [],
   "source": [
    "filters = torch.randn(8,4,3,3)"
   ]
  },
  {
   "cell_type": "code",
   "execution_count": 166,
   "metadata": {},
   "outputs": [
    {
     "data": {
      "text/plain": [
       "torch.Size([1, 8, 5, 5])"
      ]
     },
     "execution_count": 166,
     "metadata": {},
     "output_type": "execute_result"
    }
   ],
   "source": [
    "inputs = torch.randn(1,4,5,5)\n",
    "conv = F.conv2d(inputs, filters, padding=1)\n",
    "conv.shape\n"
   ]
  },
  {
   "cell_type": "code",
   "execution_count": 167,
   "metadata": {},
   "outputs": [],
   "source": [
    "import torch\n",
    "import torchvision\n",
    "import torchvision.transforms as transforms"
   ]
  },
  {
   "cell_type": "code",
   "execution_count": 169,
   "metadata": {},
   "outputs": [],
   "source": [
    "transform = transforms.Compose([transforms.ToTensor(), transforms.Normalize(mean=(0.5,), std=(0.5,))])"
   ]
  },
  {
   "cell_type": "code",
   "execution_count": 170,
   "metadata": {},
   "outputs": [],
   "source": [
    "import torch\n",
    "from torch.utils.data import Dataset,DataLoader\n",
    "\n",
    "import torchvision\n",
    "import torchvision.transforms as transforms"
   ]
  },
  {
   "cell_type": "code",
   "execution_count": 176,
   "metadata": {},
   "outputs": [
    {
     "name": "stdout",
     "output_type": "stream",
     "text": [
      "Downloading http://yann.lecun.com/exdb/mnist/train-images-idx3-ubyte.gz\n",
      "Downloading http://yann.lecun.com/exdb/mnist/train-images-idx3-ubyte.gz to C:/Users/bitcamp/Desktop/py/MNIST\\raw\\train-images-idx3-ubyte.gz\n"
     ]
    },
    {
     "name": "stderr",
     "output_type": "stream",
     "text": [
      "9913344it [00:01, 9317149.62it/s]                              \n"
     ]
    },
    {
     "name": "stdout",
     "output_type": "stream",
     "text": [
      "Extracting C:/Users/bitcamp/Desktop/py/MNIST\\raw\\train-images-idx3-ubyte.gz to C:/Users/bitcamp/Desktop/py/MNIST\\raw\n",
      "\n",
      "Downloading http://yann.lecun.com/exdb/mnist/train-labels-idx1-ubyte.gz\n",
      "Downloading http://yann.lecun.com/exdb/mnist/train-labels-idx1-ubyte.gz to C:/Users/bitcamp/Desktop/py/MNIST\\raw\\train-labels-idx1-ubyte.gz\n"
     ]
    },
    {
     "name": "stderr",
     "output_type": "stream",
     "text": [
      "29696it [00:00, ?it/s]                   "
     ]
    },
    {
     "name": "stdout",
     "output_type": "stream",
     "text": [
      "Extracting C:/Users/bitcamp/Desktop/py/MNIST\\raw\\train-labels-idx1-ubyte.gz to C:/Users/bitcamp/Desktop/py/MNIST\\raw\n",
      "\n",
      "Downloading http://yann.lecun.com/exdb/mnist/t10k-images-idx3-ubyte.gz\n",
      "Downloading http://yann.lecun.com/exdb/mnist/t10k-images-idx3-ubyte.gz to C:/Users/bitcamp/Desktop/py/MNIST\\raw\\t10k-images-idx3-ubyte.gz\n"
     ]
    },
    {
     "name": "stderr",
     "output_type": "stream",
     "text": [
      "\n",
      "1649664it [00:00, 10464487.39it/s]                            \n"
     ]
    },
    {
     "name": "stdout",
     "output_type": "stream",
     "text": [
      "Extracting C:/Users/bitcamp/Desktop/py/MNIST\\raw\\t10k-images-idx3-ubyte.gz to C:/Users/bitcamp/Desktop/py/MNIST\\raw\n",
      "\n",
      "Downloading http://yann.lecun.com/exdb/mnist/t10k-labels-idx1-ubyte.gz\n",
      "Downloading http://yann.lecun.com/exdb/mnist/t10k-labels-idx1-ubyte.gz to C:/Users/bitcamp/Desktop/py/MNIST\\raw\\t10k-labels-idx1-ubyte.gz\n"
     ]
    },
    {
     "name": "stderr",
     "output_type": "stream",
     "text": [
      "5120it [00:00, ?it/s]                   "
     ]
    },
    {
     "name": "stdout",
     "output_type": "stream",
     "text": [
      "Extracting C:/Users/bitcamp/Desktop/py/MNIST\\raw\\t10k-labels-idx1-ubyte.gz to C:/Users/bitcamp/Desktop/py/MNIST\\raw\n",
      "\n"
     ]
    },
    {
     "name": "stderr",
     "output_type": "stream",
     "text": [
      "\n"
     ]
    }
   ],
   "source": [
    "trainset = torchvision.datasets.MNIST(root='C:/Users/bitcamp/Desktop/py/', \n",
    "                                      train=True, \n",
    "                                      download=True, \n",
    "                                      transform=transform)\n",
    "\n",
    "testset = torchvision.datasets.MNIST(root='C:/Users/bitcamp/Desktop/py/', \n",
    "                                     train=False, \n",
    "                                     download=True, \n",
    "                                     transform=transform)"
   ]
  },
  {
   "cell_type": "code",
   "execution_count": 179,
   "metadata": {},
   "outputs": [],
   "source": [
    "train_loader= DataLoader(trainset, batch_size=8, shuffle=True, num_workers=2)\n",
    "test_loader = DataLoader(testset, batch_size=8, shuffle=False, num_workers=2)"
   ]
  },
  {
   "cell_type": "code",
   "execution_count": 181,
   "metadata": {},
   "outputs": [
    {
     "data": {
      "text/plain": [
       "(torch.Size([8, 1, 28, 28]), torch.Size([8]))"
      ]
     },
     "execution_count": 181,
     "metadata": {},
     "output_type": "execute_result"
    }
   ],
   "source": [
    "dataiter = iter(train_loader)\n",
    "images, labels = dataiter.next()\n",
    "images.shape, labels.shape"
   ]
  },
  {
   "cell_type": "code",
   "execution_count": 182,
   "metadata": {},
   "outputs": [],
   "source": [
    "import matplotlib.pyplot as plt\n",
    "plt.style.use('seaborn-white')\n"
   ]
  },
  {
   "cell_type": "code",
   "execution_count": 183,
   "metadata": {},
   "outputs": [
    {
     "data": {
      "text/plain": [
       "torch.Size([28, 28])"
      ]
     },
     "execution_count": 183,
     "metadata": {},
     "output_type": "execute_result"
    }
   ],
   "source": [
    "torch_image = torch.squeeze(images[0])\n",
    "torch_image.shape"
   ]
  },
  {
   "cell_type": "code",
   "execution_count": 184,
   "metadata": {},
   "outputs": [
    {
     "data": {
      "text/plain": [
       "(28, 28)"
      ]
     },
     "execution_count": 184,
     "metadata": {},
     "output_type": "execute_result"
    }
   ],
   "source": [
    "image = torch_image.numpy()\n",
    "image.shape"
   ]
  },
  {
   "cell_type": "code",
   "execution_count": 185,
   "metadata": {},
   "outputs": [
    {
     "data": {
      "text/plain": [
       "()"
      ]
     },
     "execution_count": 185,
     "metadata": {},
     "output_type": "execute_result"
    }
   ],
   "source": [
    "label = labels[0].numpy()\n",
    "label.shape"
   ]
  },
  {
   "cell_type": "code",
   "execution_count": 186,
   "metadata": {},
   "outputs": [
    {
     "data": {
      "text/plain": [
       "array(1, dtype=int64)"
      ]
     },
     "execution_count": 186,
     "metadata": {},
     "output_type": "execute_result"
    }
   ],
   "source": [
    "label"
   ]
  },
  {
   "cell_type": "code",
   "execution_count": 187,
   "metadata": {},
   "outputs": [
    {
     "data": {
      "image/png": "[encoded data removed]",
      "text/plain": [
       "<Figure size 432x288 with 1 Axes>"
      ]
     },
     "metadata": {},
     "output_type": "display_data"
    }
   ],
   "source": [
    "plt.title(label)\n",
    "plt.imshow(image,'gray')\n",
    "plt.show()"
   ]
  },
  {
   "cell_type": "code",
   "execution_count": 188,
   "metadata": {},
   "outputs": [],
   "source": [
    "import torch\n",
    "import torch.nn as nn\n",
    "import torch.nn.functional as F\n",
    "import torch.optim as optim"
   ]
  },
  {
   "cell_type": "code",
   "execution_count": 189,
   "metadata": {},
   "outputs": [
    {
     "data": {
      "text/plain": [
       "Conv2d(1, 20, kernel_size=(5, 5), stride=(1, 1))"
      ]
     },
     "execution_count": 189,
     "metadata": {},
     "output_type": "execute_result"
    }
   ],
   "source": [
    "nn.Conv2d(in_channels=1, out_channels=20, kernel_size=5, stride=1)"
   ]
  },
  {
   "cell_type": "code",
   "execution_count": 190,
   "metadata": {},
   "outputs": [
    {
     "data": {
      "text/plain": [
       "Conv2d(1, 20, kernel_size=(5, 5), stride=(1, 1))"
      ]
     },
     "execution_count": 190,
     "metadata": {},
     "output_type": "execute_result"
    }
   ],
   "source": [
    "layer = nn.Conv2d(1, 20, 5,1).to(torch.device('cpu'))\n",
    "layer "
   ]
  },
  {
   "cell_type": "code",
   "execution_count": 191,
   "metadata": {},
   "outputs": [
    {
     "data": {
      "text/plain": [
       "torch.Size([20, 1, 5, 5])"
      ]
     },
     "execution_count": 191,
     "metadata": {},
     "output_type": "execute_result"
    }
   ],
   "source": [
    "weight = layer.weight\n",
    "weight.shape"
   ]
  },
  {
   "cell_type": "code",
   "execution_count": 192,
   "metadata": {},
   "outputs": [],
   "source": [
    "weight = weight.detach()"
   ]
  },
  {
   "cell_type": "code",
   "execution_count": 193,
   "metadata": {},
   "outputs": [
    {
     "data": {
      "text/plain": [
       "(20, 1, 5, 5)"
      ]
     },
     "execution_count": 193,
     "metadata": {},
     "output_type": "execute_result"
    }
   ],
   "source": [
    "weight = weight.numpy()\n",
    "weight.shape"
   ]
  },
  {
   "cell_type": "code",
   "execution_count": 194,
   "metadata": {},
   "outputs": [
    {
     "data": {
      "image/png": "[encoded data removed]",
      "text/plain": [
       "<Figure size 432x288 with 2 Axes>"
      ]
     },
     "metadata": {},
     "output_type": "display_data"
    }
   ],
   "source": [
    "plt.imshow(weight[0,0,:,:], 'jet')\n",
    "plt.colorbar()\n",
    "plt.show()"
   ]
  },
  {
   "cell_type": "code",
   "execution_count": 195,
   "metadata": {},
   "outputs": [
    {
     "name": "stdout",
     "output_type": "stream",
     "text": [
      "torch.Size([8, 1, 28, 28])\n"
     ]
    }
   ],
   "source": [
    "print(images.shape)"
   ]
  },
  {
   "cell_type": "code",
   "execution_count": 196,
   "metadata": {},
   "outputs": [],
   "source": [
    "input_image = torch.unsqueeze(images[0], dim=0)"
   ]
  },
  {
   "cell_type": "code",
   "execution_count": 197,
   "metadata": {},
   "outputs": [],
   "source": [
    "output_data = layer(input_image)"
   ]
  },
  {
   "cell_type": "code",
   "execution_count": 198,
   "metadata": {},
   "outputs": [],
   "source": [
    "output = output_data.data"
   ]
  },
  {
   "cell_type": "code",
   "execution_count": 199,
   "metadata": {},
   "outputs": [
    {
     "data": {
      "text/plain": [
       "(1, 20, 24, 24)"
      ]
     },
     "execution_count": 199,
     "metadata": {},
     "output_type": "execute_result"
    }
   ],
   "source": [
    "output_arr = output.numpy()\n",
    "output_arr.shape"
   ]
  },
  {
   "cell_type": "code",
   "execution_count": 203,
   "metadata": {},
   "outputs": [
    {
     "data": {
      "image/png": "[encoded data removed]",
      "text/plain": [
       "<Figure size 1080x2160 with 3 Axes>"
      ]
     },
     "metadata": {},
     "output_type": "display_data"
    }
   ],
   "source": [
    "plt.figure(figsize=(15,30))\n",
    "\n",
    "plt.subplot(131)\n",
    "plt.title('Input')\n",
    "plt.imshow(image,'gray')\n",
    "plt.subplot(132)\n",
    "plt.title('Weight')\n",
    "plt.imshow(weight[0,0, :, :], 'jet')\n",
    "plt.subplot(133)\n",
    "plt.title('Output')\n",
    "plt.imshow(output_arr[0,0,:, :],'gray')\n",
    "plt.show()"
   ]
  },
  {
   "cell_type": "code",
   "execution_count": 204,
   "metadata": {},
   "outputs": [
    {
     "data": {
      "text/plain": [
       "(28, 28)"
      ]
     },
     "execution_count": 204,
     "metadata": {},
     "output_type": "execute_result"
    }
   ],
   "source": [
    "image.shape"
   ]
  },
  {
   "cell_type": "code",
   "execution_count": 205,
   "metadata": {},
   "outputs": [
    {
     "data": {
      "text/plain": [
       "torch.Size([1, 20, 12, 12])"
      ]
     },
     "execution_count": 205,
     "metadata": {},
     "output_type": "execute_result"
    }
   ],
   "source": [
    "pool = F.max_pool2d(output, 2, 2)\n",
    "pool.shape"
   ]
  },
  {
   "cell_type": "code",
   "execution_count": 206,
   "metadata": {},
   "outputs": [
    {
     "data": {
      "text/plain": [
       "(1, 20, 12, 12)"
      ]
     },
     "execution_count": 206,
     "metadata": {},
     "output_type": "execute_result"
    }
   ],
   "source": [
    "pool_arr = pool.numpy()\n",
    "pool_arr.shape"
   ]
  },
  {
   "cell_type": "code",
   "execution_count": 207,
   "metadata": {},
   "outputs": [
    {
     "data": {
      "image/png": "[encoded data removed]",
      "text/plain": [
       "<Figure size 720x1080 with 2 Axes>"
      ]
     },
     "metadata": {},
     "output_type": "display_data"
    }
   ],
   "source": [
    "plt.figure(figsize=(10,15))\n",
    "plt.subplot(121)\n",
    "plt.title(\"Input\")\n",
    "plt.imshow(image, 'gray')\n",
    "plt.subplot(122)\n",
    "plt.title('Output')\n",
    "plt.imshow(pool_arr[0,0, :, :], 'gray')\n",
    "plt.show()"
   ]
  },
  {
   "cell_type": "code",
   "execution_count": 208,
   "metadata": {},
   "outputs": [
    {
     "data": {
      "text/plain": [
       "torch.Size([28, 28])"
      ]
     },
     "execution_count": 208,
     "metadata": {},
     "output_type": "execute_result"
    }
   ],
   "source": [
    "image = torch.from_numpy(image)\n",
    "image.shape"
   ]
  },
  {
   "cell_type": "code",
   "execution_count": 209,
   "metadata": {},
   "outputs": [
    {
     "data": {
      "text/plain": [
       "torch.Size([1, 784])"
      ]
     },
     "execution_count": 209,
     "metadata": {},
     "output_type": "execute_result"
    }
   ],
   "source": [
    "flatten = image.view(1, 28*28)\n",
    "flatten.shape"
   ]
  },
  {
   "cell_type": "code",
   "execution_count": 210,
   "metadata": {},
   "outputs": [
    {
     "data": {
      "text/plain": [
       "torch.Size([1, 10])"
      ]
     },
     "execution_count": 210,
     "metadata": {},
     "output_type": "execute_result"
    }
   ],
   "source": [
    "lin = nn.Linear(784, 10)(flatten)\n",
    "lin.shape"
   ]
  },
  {
   "cell_type": "code",
   "execution_count": 211,
   "metadata": {},
   "outputs": [
    {
     "data": {
      "text/plain": [
       "tensor([[-0.6043, -0.2074,  0.1537,  0.4916, -0.0698,  0.9326, -0.2722,  0.3328,\n",
       "          0.3076,  0.7542]], grad_fn=<AddmmBackward0>)"
      ]
     },
     "execution_count": 211,
     "metadata": {},
     "output_type": "execute_result"
    }
   ],
   "source": [
    "lin"
   ]
  },
  {
   "cell_type": "code",
   "execution_count": 212,
   "metadata": {},
   "outputs": [
    {
     "data": {
      "image/png": "[encoded data removed]",
      "text/plain": [
       "<Figure size 432x288 with 2 Axes>"
      ]
     },
     "metadata": {},
     "output_type": "display_data"
    }
   ],
   "source": [
    "plt.imshow(lin.detach().numpy(), 'jet')\n",
    "plt.colorbar()\n",
    "plt.show()"
   ]
  },
  {
   "cell_type": "code",
   "execution_count": 214,
   "metadata": {},
   "outputs": [],
   "source": [
    "with torch.no_grad():\n",
    "    flatten = image.view(1, 28*28)\n",
    "    lin = nn.Linear(784, 10)(flatten)\n",
    "    softmax=F.softmax(lin, dim=1)"
   ]
  },
  {
   "cell_type": "code",
   "execution_count": 215,
   "metadata": {},
   "outputs": [
    {
     "data": {
      "text/plain": [
       "tensor([[0.0840, 0.1360, 0.1010, 0.0752, 0.0940, 0.0869, 0.1299, 0.1048, 0.0933,\n",
       "         0.0949]])"
      ]
     },
     "execution_count": 215,
     "metadata": {},
     "output_type": "execute_result"
    }
   ],
   "source": [
    "softmax"
   ]
  },
  {
   "cell_type": "code",
   "execution_count": 216,
   "metadata": {},
   "outputs": [
    {
     "data": {
      "text/plain": [
       "1.0000001"
      ]
     },
     "execution_count": 216,
     "metadata": {},
     "output_type": "execute_result"
    }
   ],
   "source": [
    "np.sum(softmax.numpy())"
   ]
  },
  {
   "cell_type": "code",
   "execution_count": 217,
   "metadata": {},
   "outputs": [
    {
     "data": {
      "text/plain": [
       "torch.Size([4, 3, 28, 28])"
      ]
     },
     "execution_count": 217,
     "metadata": {},
     "output_type": "execute_result"
    }
   ],
   "source": [
    "inputs = torch.randn( 4,3,28,28).to(device)\n",
    "inputs.shape"
   ]
  },
  {
   "cell_type": "code",
   "execution_count": 219,
   "metadata": {},
   "outputs": [
    {
     "data": {
      "text/plain": [
       "torch.Size([4, 20, 24, 24])"
      ]
     },
     "execution_count": 219,
     "metadata": {},
     "output_type": "execute_result"
    }
   ],
   "source": [
    "layer = nn.Conv2d(3, 20,5,1).to(device)\n",
    "output = F.relu(layer(inputs))\n",
    "output.shape"
   ]
  },
  {
   "cell_type": "code",
   "execution_count": 225,
   "metadata": {},
   "outputs": [
    {
     "ename": "AttributeError",
     "evalue": "module 'torchvision.models' has no attribute 'parameters'",
     "output_type": "error",
     "traceback": [
      "\u001b[1;31m---------------------------------------------------------------------------\u001b[0m",
      "\u001b[1;31mAttributeError\u001b[0m                            Traceback (most recent call last)",
      "\u001b[1;32m~\\AppData\\Local\\Temp/ipykernel_16140/1774553602.py\u001b[0m in \u001b[0;36m<module>\u001b[1;34m\u001b[0m\n\u001b[0;32m      1\u001b[0m \u001b[1;32mimport\u001b[0m \u001b[0mtorchvision\u001b[0m\u001b[1;33m.\u001b[0m\u001b[0mmodels\u001b[0m \u001b[1;32mas\u001b[0m \u001b[0mmodel\u001b[0m\u001b[1;33m\u001b[0m\u001b[1;33m\u001b[0m\u001b[0m\n\u001b[1;32m----> 2\u001b[1;33m \u001b[0moptimizer\u001b[0m \u001b[1;33m=\u001b[0m \u001b[0mtorch\u001b[0m\u001b[1;33m.\u001b[0m\u001b[0moptim\u001b[0m\u001b[1;33m.\u001b[0m\u001b[0mAdam\u001b[0m\u001b[1;33m(\u001b[0m\u001b[0mmodel\u001b[0m\u001b[1;33m.\u001b[0m\u001b[0mparameters\u001b[0m\u001b[1;33m(\u001b[0m\u001b[1;33m)\u001b[0m\u001b[1;33m,\u001b[0m \u001b[0mlr\u001b[0m\u001b[1;33m=\u001b[0m\u001b[1;36m1e-4\u001b[0m\u001b[1;33m,\u001b[0m \u001b[0mweight_decay\u001b[0m\u001b[1;33m=\u001b[0m\u001b[1;36m1e-5\u001b[0m\u001b[1;33m)\u001b[0m\u001b[1;33m\u001b[0m\u001b[1;33m\u001b[0m\u001b[0m\n\u001b[0m\u001b[0;32m      3\u001b[0m \u001b[0moptimizer\u001b[0m \u001b[1;33m=\u001b[0m \u001b[0moptim\u001b[0m\u001b[1;33m.\u001b[0m\u001b[0mSGD\u001b[0m\u001b[1;33m(\u001b[0m\u001b[0mmodel\u001b[0m\u001b[1;33m.\u001b[0m\u001b[0mparameters\u001b[0m\u001b[1;33m(\u001b[0m\u001b[1;33m)\u001b[0m\u001b[1;33m,\u001b[0m \u001b[0mlr\u001b[0m\u001b[1;33m=\u001b[0m\u001b[1;36m0.001\u001b[0m\u001b[1;33m)\u001b[0m\u001b[1;33m\u001b[0m\u001b[1;33m\u001b[0m\u001b[0m\n",
      "\u001b[1;31mAttributeError\u001b[0m: module 'torchvision.models' has no attribute 'parameters'"
     ]
    }
   ],
   "source": [
    "\n",
    "# import torchvision.models as model\n",
    "# optimizer = torch.optim.Adam(model.parameters(), lr=1e-4, weight_decay=1e-5)\n",
    "# optimizer = optim.SGD(model.parameters(), lr=0.001)"
   ]
  }
 ],
 "metadata": {
  "interpreter": {
   "hash": "594ce620ff6a5f20b43ad5e4bebf44938ee5c8eae13890c13b673e8e3f3596cc"
  },
  "kernelspec": {
   "display_name": "Python 3.9.7 ('torch-gpu')",
   "language": "python",
   "name": "python3"
  },
  "language_info": {
   "codemirror_mode": {
    "name": "ipython",
    "version": 3
   },
   "file_extension": ".py",
   "mimetype": "text/x-python",
   "name": "python",
   "nbconvert_exporter": "python",
   "pygments_lexer": "ipython3",
   "version": "3.9.7"
  },
  "orig_nbformat": 4
 },
 "nbformat": 4,
 "nbformat_minor": 2
}
