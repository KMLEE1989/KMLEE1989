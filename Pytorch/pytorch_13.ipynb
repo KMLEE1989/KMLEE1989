{
 "cells": [
  {
   "cell_type": "code",
   "execution_count": 1,
   "metadata": {},
   "outputs": [],
   "source": [
    "from tensorflow.keras.datasets import imdb\n",
    "import numpy as np\n",
    "(train_data, train_labels), (test_data, test_labels) = imdb.load_data(num_words=10000)\n",
    "\n",
    "def vectorize_seq(seqs, dim=10000):\n",
    "    results = np.zeros((len(seqs), dim))\n",
    "    for i, seq in enumerate(seqs):\n",
    "        results[i, seq] = 1.\n",
    "    return results\n",
    "\n",
    "x_train = vectorize_seq(train_data)\n",
    "x_test = vectorize_seq(test_data)\n",
    "\n",
    "y_train = np.asarray(train_labels).astype('float32')\n",
    "y_test = np.asarray(test_labels).astype('float32')"
   ]
  },
  {
   "cell_type": "code",
   "execution_count": 2,
   "metadata": {},
   "outputs": [],
   "source": [
    "import tensorflow as tf\n",
    "from tensorflow.keras.models import Sequential\n",
    "from tensorflow.keras.layers import Dense"
   ]
  },
  {
   "cell_type": "code",
   "execution_count": 3,
   "metadata": {},
   "outputs": [],
   "source": [
    "model_1 = Sequential([Dense(16, activation='relu', input_shape=(10000, ), name='input'), Dense(16, activation='relu', name='hidden'), Dense(1, activation='sigmoid', name='output')])"
   ]
  },
  {
   "cell_type": "code",
   "execution_count": 4,
   "metadata": {},
   "outputs": [
    {
     "name": "stdout",
     "output_type": "stream",
     "text": [
      "Model: \"sequential\"\n",
      "_________________________________________________________________\n",
      " Layer (type)                Output Shape              Param #   \n",
      "=================================================================\n",
      " input (Dense)               (None, 16)                160016    \n",
      "                                                                 \n",
      " hidden (Dense)              (None, 16)                272       \n",
      "                                                                 \n",
      " output (Dense)              (None, 1)                 17        \n",
      "                                                                 \n",
      "=================================================================\n",
      "Total params: 160,305\n",
      "Trainable params: 160,305\n",
      "Non-trainable params: 0\n",
      "_________________________________________________________________\n"
     ]
    }
   ],
   "source": [
    "model_1.summary()"
   ]
  },
  {
   "cell_type": "code",
   "execution_count": 5,
   "metadata": {},
   "outputs": [],
   "source": [
    "model_2 = Sequential([Dense(7, activation='relu', input_shape=(10000, ), name='input2'), Dense(7, activation='relu', name='hidden2'), Dense(1, activation='sigmoid', name='output2')])"
   ]
  },
  {
   "cell_type": "code",
   "execution_count": 6,
   "metadata": {},
   "outputs": [
    {
     "name": "stdout",
     "output_type": "stream",
     "text": [
      "Model: \"sequential_1\"\n",
      "_________________________________________________________________\n",
      " Layer (type)                Output Shape              Param #   \n",
      "=================================================================\n",
      " input2 (Dense)              (None, 7)                 70007     \n",
      "                                                                 \n",
      " hidden2 (Dense)             (None, 7)                 56        \n",
      "                                                                 \n",
      " output2 (Dense)             (None, 1)                 8         \n",
      "                                                                 \n",
      "=================================================================\n",
      "Total params: 70,071\n",
      "Trainable params: 70,071\n",
      "Non-trainable params: 0\n",
      "_________________________________________________________________\n"
     ]
    }
   ],
   "source": [
    "model_2.summary()"
   ]
  },
  {
   "cell_type": "code",
   "execution_count": 7,
   "metadata": {},
   "outputs": [],
   "source": [
    "model_1.compile(optimizer='rmsprop', loss='binary_crossentropy', metrics=['acc'])\n",
    "\n",
    "model_2.compile(optimizer='rmsprop', loss='binary_crossentropy', metrics=['acc'])"
   ]
  },
  {
   "cell_type": "code",
   "execution_count": 8,
   "metadata": {},
   "outputs": [
    {
     "name": "stdout",
     "output_type": "stream",
     "text": [
      "Epoch 1/20\n",
      "49/49 [==============================] - 3s 48ms/step - loss: 0.4686 - acc: 0.8227 - val_loss: 0.3467 - val_acc: 0.8809\n",
      "Epoch 2/20\n",
      "49/49 [==============================] - 1s 21ms/step - loss: 0.2685 - acc: 0.9072 - val_loss: 0.2850 - val_acc: 0.8914\n",
      "Epoch 3/20\n",
      "49/49 [==============================] - 1s 21ms/step - loss: 0.2057 - acc: 0.9265 - val_loss: 0.2862 - val_acc: 0.8848\n",
      "Epoch 4/20\n",
      "49/49 [==============================] - 1s 21ms/step - loss: 0.1709 - acc: 0.9395 - val_loss: 0.2999 - val_acc: 0.8800\n",
      "Epoch 5/20\n",
      "49/49 [==============================] - 1s 21ms/step - loss: 0.1466 - acc: 0.9486 - val_loss: 0.3074 - val_acc: 0.8816\n",
      "Epoch 6/20\n",
      "49/49 [==============================] - 1s 22ms/step - loss: 0.1284 - acc: 0.9559 - val_loss: 0.3269 - val_acc: 0.8775\n",
      "Epoch 7/20\n",
      "49/49 [==============================] - 1s 21ms/step - loss: 0.1135 - acc: 0.9619 - val_loss: 0.3605 - val_acc: 0.8698\n",
      "Epoch 8/20\n",
      "49/49 [==============================] - 1s 21ms/step - loss: 0.0996 - acc: 0.9665 - val_loss: 0.3738 - val_acc: 0.8716\n",
      "Epoch 9/20\n",
      "49/49 [==============================] - 1s 21ms/step - loss: 0.0861 - acc: 0.9722 - val_loss: 0.4242 - val_acc: 0.8622\n",
      "Epoch 10/20\n",
      "49/49 [==============================] - 1s 20ms/step - loss: 0.0773 - acc: 0.9753 - val_loss: 0.4246 - val_acc: 0.8666\n",
      "Epoch 11/20\n",
      "49/49 [==============================] - 1s 20ms/step - loss: 0.0644 - acc: 0.9808 - val_loss: 0.4796 - val_acc: 0.8572\n",
      "Epoch 12/20\n",
      "49/49 [==============================] - 1s 21ms/step - loss: 0.0562 - acc: 0.9834 - val_loss: 0.4949 - val_acc: 0.8592\n",
      "Epoch 13/20\n",
      "49/49 [==============================] - 1s 22ms/step - loss: 0.0482 - acc: 0.9862 - val_loss: 0.5193 - val_acc: 0.8590\n",
      "Epoch 14/20\n",
      "49/49 [==============================] - 1s 20ms/step - loss: 0.0384 - acc: 0.9896 - val_loss: 0.5520 - val_acc: 0.8581\n",
      "Epoch 15/20\n",
      "49/49 [==============================] - 1s 21ms/step - loss: 0.0334 - acc: 0.9914 - val_loss: 0.5894 - val_acc: 0.8568\n",
      "Epoch 16/20\n",
      "49/49 [==============================] - 1s 21ms/step - loss: 0.0257 - acc: 0.9936 - val_loss: 0.6260 - val_acc: 0.8556\n",
      "Epoch 17/20\n",
      "49/49 [==============================] - 1s 22ms/step - loss: 0.0201 - acc: 0.9956 - val_loss: 0.6826 - val_acc: 0.8517\n",
      "Epoch 18/20\n",
      "49/49 [==============================] - 1s 21ms/step - loss: 0.0172 - acc: 0.9960 - val_loss: 0.7205 - val_acc: 0.8509\n",
      "Epoch 19/20\n",
      "49/49 [==============================] - 1s 22ms/step - loss: 0.0129 - acc: 0.9972 - val_loss: 0.7518 - val_acc: 0.8522\n",
      "Epoch 20/20\n",
      "49/49 [==============================] - 1s 20ms/step - loss: 0.0102 - acc: 0.9982 - val_loss: 0.7951 - val_acc: 0.8509\n"
     ]
    }
   ],
   "source": [
    "model_1_hist = model_1.fit(x_train, y_train, epochs=20, batch_size=512, validation_data=(x_test, y_test))"
   ]
  },
  {
   "cell_type": "code",
   "execution_count": 9,
   "metadata": {},
   "outputs": [
    {
     "name": "stdout",
     "output_type": "stream",
     "text": [
      "Epoch 1/20\n",
      "49/49 [==============================] - 2s 42ms/step - loss: 0.4884 - acc: 0.8211 - val_loss: 0.3780 - val_acc: 0.8754\n",
      "Epoch 2/20\n",
      "49/49 [==============================] - 1s 20ms/step - loss: 0.2979 - acc: 0.9040 - val_loss: 0.3114 - val_acc: 0.8825\n",
      "Epoch 3/20\n",
      "49/49 [==============================] - 1s 21ms/step - loss: 0.2290 - acc: 0.9240 - val_loss: 0.2829 - val_acc: 0.8901\n",
      "Epoch 4/20\n",
      "49/49 [==============================] - 1s 21ms/step - loss: 0.1923 - acc: 0.9345 - val_loss: 0.2917 - val_acc: 0.8819\n",
      "Epoch 5/20\n",
      "49/49 [==============================] - 1s 21ms/step - loss: 0.1677 - acc: 0.9441 - val_loss: 0.3166 - val_acc: 0.8728\n",
      "Epoch 6/20\n",
      "49/49 [==============================] - 1s 21ms/step - loss: 0.1488 - acc: 0.9491 - val_loss: 0.2964 - val_acc: 0.8822\n",
      "Epoch 7/20\n",
      "49/49 [==============================] - 1s 22ms/step - loss: 0.1331 - acc: 0.9572 - val_loss: 0.3081 - val_acc: 0.8798\n",
      "Epoch 8/20\n",
      "49/49 [==============================] - 1s 21ms/step - loss: 0.1202 - acc: 0.9608 - val_loss: 0.3271 - val_acc: 0.8765\n",
      "Epoch 9/20\n",
      "49/49 [==============================] - 1s 23ms/step - loss: 0.1081 - acc: 0.9659 - val_loss: 0.3436 - val_acc: 0.8735\n",
      "Epoch 10/20\n",
      "49/49 [==============================] - 1s 20ms/step - loss: 0.0976 - acc: 0.9692 - val_loss: 0.3601 - val_acc: 0.8712\n",
      "Epoch 11/20\n",
      "49/49 [==============================] - 1s 20ms/step - loss: 0.0892 - acc: 0.9730 - val_loss: 0.3763 - val_acc: 0.8710\n",
      "Epoch 12/20\n",
      "49/49 [==============================] - 1s 21ms/step - loss: 0.0798 - acc: 0.9762 - val_loss: 0.4159 - val_acc: 0.8622\n",
      "Epoch 13/20\n",
      "49/49 [==============================] - 1s 21ms/step - loss: 0.0732 - acc: 0.9789 - val_loss: 0.4169 - val_acc: 0.8655\n",
      "Epoch 14/20\n",
      "49/49 [==============================] - 1s 22ms/step - loss: 0.0646 - acc: 0.9826 - val_loss: 0.4401 - val_acc: 0.8635\n",
      "Epoch 15/20\n",
      "49/49 [==============================] - 1s 20ms/step - loss: 0.0585 - acc: 0.9847 - val_loss: 0.4648 - val_acc: 0.8608\n",
      "Epoch 16/20\n",
      "49/49 [==============================] - 1s 21ms/step - loss: 0.0517 - acc: 0.9862 - val_loss: 0.4952 - val_acc: 0.8577\n",
      "Epoch 17/20\n",
      "49/49 [==============================] - 1s 21ms/step - loss: 0.0463 - acc: 0.9882 - val_loss: 0.5189 - val_acc: 0.8588\n",
      "Epoch 18/20\n",
      "49/49 [==============================] - 1s 20ms/step - loss: 0.0405 - acc: 0.9900 - val_loss: 0.5447 - val_acc: 0.8562\n",
      "Epoch 19/20\n",
      "49/49 [==============================] - 1s 21ms/step - loss: 0.0364 - acc: 0.9910 - val_loss: 0.5833 - val_acc: 0.8557\n",
      "Epoch 20/20\n",
      "49/49 [==============================] - 1s 21ms/step - loss: 0.0319 - acc: 0.9928 - val_loss: 0.5987 - val_acc: 0.8544\n"
     ]
    }
   ],
   "source": [
    "model_2_hist = model_2.fit(x_train, y_train, epochs=20, batch_size=512, validation_data=(x_test, y_test))"
   ]
  },
  {
   "cell_type": "code",
   "execution_count": 10,
   "metadata": {},
   "outputs": [],
   "source": [
    "epochs = range(1, 21)\n",
    "model_1_val_loss = model_1_hist.history['val_loss']\n",
    "model_2_val_loss = model_2_hist.history['val_loss']"
   ]
  },
  {
   "cell_type": "code",
   "execution_count": 11,
   "metadata": {},
   "outputs": [],
   "source": [
    "import matplotlib.pyplot as plt\n",
    "plt.style.use('seaborn-white')"
   ]
  },
  {
   "cell_type": "code",
   "execution_count": 12,
   "metadata": {},
   "outputs": [
    {
     "data": {
      "image/png": "[encoded data removed]",
      "text/plain": [
       "<Figure size 432x288 with 1 Axes>"
      ]
     },
     "metadata": {},
     "output_type": "display_data"
    }
   ],
   "source": [
    "plt.plot(epochs, model_1_val_loss, 'r+', label='Model 1')\n",
    "plt.plot(epochs, model_2_val_loss, 'bo', label='Model 2')\n",
    "plt.xlabel('Epochs')\n",
    "plt.ylabel('Validation Loss')\n",
    "plt.legend()\n",
    "plt.grid()\n",
    "\n",
    "plt.show()"
   ]
  },
  {
   "cell_type": "code",
   "execution_count": 13,
   "metadata": {},
   "outputs": [
    {
     "name": "stdout",
     "output_type": "stream",
     "text": [
      "Model: \"sequential_2\"\n",
      "_________________________________________________________________\n",
      " Layer (type)                Output Shape              Param #   \n",
      "=================================================================\n",
      " input3 (Dense)              (None, 1024)              10241024  \n",
      "                                                                 \n",
      " hidden3 (Dense)             (None, 1024)              1049600   \n",
      "                                                                 \n",
      " output3 (Dense)             (None, 1)                 1025      \n",
      "                                                                 \n",
      "=================================================================\n",
      "Total params: 11,291,649\n",
      "Trainable params: 11,291,649\n",
      "Non-trainable params: 0\n",
      "_________________________________________________________________\n"
     ]
    }
   ],
   "source": [
    "model_3 = Sequential([Dense(1024, activation='relu', input_shape=(10000, ), name='input3'), Dense(1024, activation='relu', name='hidden3'), Dense(1, activation='sigmoid', name='output3')])\n",
    "\n",
    "model_3.compile(optimizer='rmsprop', loss='binary_crossentropy', metrics=['acc'])\n",
    "\n",
    "model_3.summary()"
   ]
  },
  {
   "cell_type": "code",
   "execution_count": 14,
   "metadata": {},
   "outputs": [
    {
     "name": "stdout",
     "output_type": "stream",
     "text": [
      "Epoch 1/20\n",
      "49/49 [==============================] - 3s 48ms/step - loss: 0.5282 - acc: 0.7832 - val_loss: 0.2981 - val_acc: 0.8781\n",
      "Epoch 2/20\n",
      "49/49 [==============================] - 1s 26ms/step - loss: 0.2207 - acc: 0.9148 - val_loss: 0.5230 - val_acc: 0.8013\n",
      "Epoch 3/20\n",
      "49/49 [==============================] - 1s 26ms/step - loss: 0.1115 - acc: 0.9583 - val_loss: 0.3484 - val_acc: 0.8820\n",
      "Epoch 4/20\n",
      "49/49 [==============================] - 1s 26ms/step - loss: 0.0505 - acc: 0.9844 - val_loss: 0.4823 - val_acc: 0.8768\n",
      "Epoch 5/20\n",
      "49/49 [==============================] - 1s 26ms/step - loss: 0.1424 - acc: 0.9858 - val_loss: 0.4532 - val_acc: 0.8799\n",
      "Epoch 6/20\n",
      "49/49 [==============================] - 1s 26ms/step - loss: 9.3430e-04 - acc: 0.9999 - val_loss: 0.6579 - val_acc: 0.8806\n",
      "Epoch 7/20\n",
      "49/49 [==============================] - 1s 27ms/step - loss: 8.8706e-05 - acc: 1.0000 - val_loss: 1.1250 - val_acc: 0.8506\n",
      "Epoch 8/20\n",
      "49/49 [==============================] - 1s 26ms/step - loss: 0.1718 - acc: 0.9882 - val_loss: 0.6873 - val_acc: 0.8820\n",
      "Epoch 9/20\n",
      "49/49 [==============================] - 1s 26ms/step - loss: 2.6326e-05 - acc: 1.0000 - val_loss: 0.8134 - val_acc: 0.8821\n",
      "Epoch 10/20\n",
      "49/49 [==============================] - 1s 27ms/step - loss: 4.4016e-06 - acc: 1.0000 - val_loss: 0.9596 - val_acc: 0.8794\n",
      "Epoch 11/20\n",
      "49/49 [==============================] - 1s 27ms/step - loss: 8.4982e-07 - acc: 1.0000 - val_loss: 1.0755 - val_acc: 0.8804\n",
      "Epoch 12/20\n",
      "49/49 [==============================] - 1s 26ms/step - loss: 1.5923e-07 - acc: 1.0000 - val_loss: 1.1955 - val_acc: 0.8808\n",
      "Epoch 13/20\n",
      "49/49 [==============================] - 1s 26ms/step - loss: 4.1021e-08 - acc: 1.0000 - val_loss: 1.2886 - val_acc: 0.8806\n",
      "Epoch 14/20\n",
      "49/49 [==============================] - 1s 26ms/step - loss: 1.7205e-08 - acc: 1.0000 - val_loss: 1.3376 - val_acc: 0.8806\n",
      "Epoch 15/20\n",
      "49/49 [==============================] - 1s 26ms/step - loss: 1.0439e-08 - acc: 1.0000 - val_loss: 1.3700 - val_acc: 0.8806\n",
      "Epoch 16/20\n",
      "49/49 [==============================] - 1s 26ms/step - loss: 7.5409e-09 - acc: 1.0000 - val_loss: 1.3888 - val_acc: 0.8806\n",
      "Epoch 17/20\n",
      "49/49 [==============================] - 1s 26ms/step - loss: 5.9140e-09 - acc: 1.0000 - val_loss: 1.4059 - val_acc: 0.8806\n",
      "Epoch 18/20\n",
      "49/49 [==============================] - 1s 26ms/step - loss: 4.8885e-09 - acc: 1.0000 - val_loss: 1.4186 - val_acc: 0.8807\n",
      "Epoch 19/20\n",
      "49/49 [==============================] - 1s 27ms/step - loss: 4.1667e-09 - acc: 1.0000 - val_loss: 1.4307 - val_acc: 0.8806\n",
      "Epoch 20/20\n",
      "49/49 [==============================] - 1s 26ms/step - loss: 3.6488e-09 - acc: 1.0000 - val_loss: 1.4401 - val_acc: 0.8807\n"
     ]
    }
   ],
   "source": [
    "model_3_hist = model_3.fit(x_train, y_train, epochs=20, batch_size=512, validation_data=(x_test, y_test))"
   ]
  },
  {
   "cell_type": "code",
   "execution_count": 15,
   "metadata": {},
   "outputs": [],
   "source": [
    "model_3_val_loss = model_3_hist.history['val_loss']"
   ]
  },
  {
   "cell_type": "code",
   "execution_count": 16,
   "metadata": {},
   "outputs": [
    {
     "data": {
      "image/png": "[encoded data removed]",
      "text/plain": [
       "<Figure size 432x288 with 1 Axes>"
      ]
     },
     "metadata": {},
     "output_type": "display_data"
    }
   ],
   "source": [
    "plt.plot(epochs, model_1_val_loss, 'r+', label='Model 1')\n",
    "plt.plot(epochs, model_2_val_loss, 'bo', label='Model 2')\n",
    "plt.plot(epochs, model_3_val_loss, 'g--', label='Model 3')\n",
    "\n",
    "plt.xlabel('Epochs')\n",
    "plt.ylabel('Validation Loss')\n",
    "plt.legend()\n",
    "plt.grid()\n",
    "\n",
    "plt.show()"
   ]
  },
  {
   "cell_type": "code",
   "execution_count": 17,
   "metadata": {},
   "outputs": [
    {
     "data": {
      "image/png": "[encoded data removed]",
      "text/plain": [
       "<Figure size 432x288 with 1 Axes>"
      ]
     },
     "metadata": {},
     "output_type": "display_data"
    }
   ],
   "source": [
    "model_1_train_loss = model_1_hist.history['loss']\n",
    "model_2_train_loss = model_2_hist.history['loss']\n",
    "model_3_train_loss = model_3_hist.history['loss']\n",
    "\n",
    "plt.plot(epochs, model_1_train_loss, 'r+', label='Model 1')\n",
    "plt.plot(epochs, model_2_train_loss, 'bo', label='Model 2')\n",
    "plt.plot(epochs, model_3_train_loss, 'g--', label='Model 3')\n",
    "\n",
    "plt.xlabel('Epochs')\n",
    "plt.ylabel('Training Loss')\n",
    "plt.legend()\n",
    "plt.grid()\n",
    "\n",
    "plt.show()"
   ]
  },
  {
   "cell_type": "code",
   "execution_count": 18,
   "metadata": {},
   "outputs": [],
   "source": [
    "from tensorflow.keras.layers import Dense, LeakyReLU, Activation\n",
    "from tensorflow.keras.models import Sequential\n"
   ]
  },
  {
   "cell_type": "code",
   "execution_count": 19,
   "metadata": {},
   "outputs": [
    {
     "name": "stdout",
     "output_type": "stream",
     "text": [
      "Model: \"sequential_3\"\n",
      "_________________________________________________________________\n",
      " Layer (type)                Output Shape              Param #   \n",
      "=================================================================\n",
      " dense (Dense)               (None, 10, 30)            330       \n",
      "                                                                 \n",
      " leaky_re_lu (LeakyReLU)     (None, 10, 30)            0         \n",
      "                                                                 \n",
      " dense_1 (Dense)             (None, 10, 1)             31        \n",
      "                                                                 \n",
      " activation (Activation)     (None, 10, 1)             0         \n",
      "                                                                 \n",
      "=================================================================\n",
      "Total params: 361\n",
      "Trainable params: 361\n",
      "Non-trainable params: 0\n",
      "_________________________________________________________________\n"
     ]
    }
   ],
   "source": [
    "model = Sequential([Dense(30, kernel_initializer='he_normal', input_shape=[10,10]), LeakyReLU(alpha=0.2), Dense(1, kernel_initializer='he_normal'), Activation('softmax')])\n",
    "\n",
    "model.summary()"
   ]
  },
  {
   "cell_type": "code",
   "execution_count": 20,
   "metadata": {},
   "outputs": [],
   "source": [
    "import tensorflow as tf\n",
    "from tensorflow.keras.optimizers import SGD, Adam\n"
   ]
  },
  {
   "cell_type": "code",
   "execution_count": 21,
   "metadata": {},
   "outputs": [],
   "source": [
    "optimizer = SGD(learning_rate=0.001, momentum=0.9)"
   ]
  },
  {
   "cell_type": "code",
   "execution_count": 22,
   "metadata": {},
   "outputs": [],
   "source": [
    "optimizer = SGD(learning_rate=0.001, momentum=0.9, nesterov=True)"
   ]
  },
  {
   "cell_type": "code",
   "execution_count": 23,
   "metadata": {},
   "outputs": [],
   "source": [
    "from tensorflow.keras.optimizers import Adagrad"
   ]
  },
  {
   "cell_type": "code",
   "execution_count": 24,
   "metadata": {},
   "outputs": [],
   "source": [
    "optimizer = Adagrad(learning_rate=0.01)"
   ]
  },
  {
   "cell_type": "code",
   "execution_count": 25,
   "metadata": {},
   "outputs": [],
   "source": [
    "from tensorflow.keras.optimizers import RMSprop"
   ]
  },
  {
   "cell_type": "code",
   "execution_count": 26,
   "metadata": {},
   "outputs": [],
   "source": [
    "optimizer = RMSprop(learning_rate=0.001, rho=0.9)"
   ]
  },
  {
   "cell_type": "code",
   "execution_count": 27,
   "metadata": {},
   "outputs": [],
   "source": [
    "from tensorflow.keras.optimizers import Adam"
   ]
  },
  {
   "cell_type": "code",
   "execution_count": 28,
   "metadata": {},
   "outputs": [],
   "source": [
    "optimizer = Adam(learning_rate=0.001, beta_1=0.9, beta_2=0.999)"
   ]
  },
  {
   "cell_type": "code",
   "execution_count": 30,
   "metadata": {},
   "outputs": [],
   "source": [
    "from tensorflow.keras.layers import BatchNormalization, Dense, Activation\n",
    "from tensorflow.keras.utils import plot_model"
   ]
  },
  {
   "cell_type": "code",
   "execution_count": 32,
   "metadata": {},
   "outputs": [
    {
     "name": "stdout",
     "output_type": "stream",
     "text": [
      "Model: \"sequential_5\"\n",
      "_________________________________________________________________\n",
      " Layer (type)                Output Shape              Param #   \n",
      "=================================================================\n",
      " dense_3 (Dense)             (None, 32)                25120     \n",
      "                                                                 \n",
      " batch_normalization_1 (Batc  (None, 32)               128       \n",
      " hNormalization)                                                 \n",
      "                                                                 \n",
      " activation_2 (Activation)   (None, 32)                0         \n",
      "                                                                 \n",
      "=================================================================\n",
      "Total params: 25,248\n",
      "Trainable params: 25,184\n",
      "Non-trainable params: 64\n",
      "_________________________________________________________________\n",
      "You must install pydot (`pip install pydot`) and install graphviz (see instructions at https://graphviz.gitlab.io/download/) for plot_model/model_to_dot to work.\n"
     ]
    }
   ],
   "source": [
    "model = Sequential()\n",
    "\n",
    "model.add(Dense(32, input_shape=(28*28, ), kernel_initializer='he_normal'))\n",
    "model.add(BatchNormalization())\n",
    "model.add(Activation('relu'))\n",
    "\n",
    "model.summary()\n",
    "\n",
    "plot_model(model, show_shapes=True)\n"
   ]
  },
  {
   "cell_type": "code",
   "execution_count": 33,
   "metadata": {},
   "outputs": [],
   "source": [
    "from tensorflow.keras.regularizers import l1, l2, l1_l2"
   ]
  },
  {
   "cell_type": "code",
   "execution_count": 36,
   "metadata": {},
   "outputs": [
    {
     "name": "stdout",
     "output_type": "stream",
     "text": [
      "Model: \"sequential_6\"\n",
      "_________________________________________________________________\n",
      " Layer (type)                Output Shape              Param #   \n",
      "=================================================================\n",
      " dense_4 (Dense)             (None, 16)                160016    \n",
      "                                                                 \n",
      " dense_5 (Dense)             (None, 16)                272       \n",
      "                                                                 \n",
      " dense_6 (Dense)             (None, 1)                 17        \n",
      "                                                                 \n",
      "=================================================================\n",
      "Total params: 160,305\n",
      "Trainable params: 160,305\n",
      "Non-trainable params: 0\n",
      "_________________________________________________________________\n",
      "You must install pydot (`pip install pydot`) and install graphviz (see instructions at https://graphviz.gitlab.io/download/) for plot_model/model_to_dot to work.\n"
     ]
    }
   ],
   "source": [
    "l2_model = Sequential([Dense(16, kernel_regularizer=l2(0.001), activation='relu', input_shape=(10000, )), \n",
    "                       Dense(16, kernel_regularizer=l2(0.001), activation='relu'), \n",
    "                       Dense(1, activation='sigmoid')])\n",
    "\n",
    "l2_model.compile(optimizer='rmsprop', loss='binary_crossentropy', metrics=['acc'])\n",
    "\n",
    "l2_model.summary()\n",
    "plot_model(l2_model, show_shapes=True)"
   ]
  },
  {
   "cell_type": "code",
   "execution_count": 37,
   "metadata": {},
   "outputs": [
    {
     "name": "stdout",
     "output_type": "stream",
     "text": [
      "Epoch 1/20\n",
      "49/49 [==============================] - 3s 46ms/step - loss: 0.4798 - acc: 0.8231 - val_loss: 0.3889 - val_acc: 0.8696\n",
      "Epoch 2/20\n",
      "49/49 [==============================] - 1s 22ms/step - loss: 0.3108 - acc: 0.9054 - val_loss: 0.3486 - val_acc: 0.8785\n",
      "Epoch 3/20\n",
      "49/49 [==============================] - 1s 21ms/step - loss: 0.2642 - acc: 0.9236 - val_loss: 0.3369 - val_acc: 0.8828\n",
      "Epoch 4/20\n",
      "49/49 [==============================] - 1s 22ms/step - loss: 0.2455 - acc: 0.9289 - val_loss: 0.3740 - val_acc: 0.8674\n",
      "Epoch 5/20\n",
      "49/49 [==============================] - 1s 21ms/step - loss: 0.2309 - acc: 0.9349 - val_loss: 0.3412 - val_acc: 0.8842\n",
      "Epoch 6/20\n",
      "49/49 [==============================] - 1s 22ms/step - loss: 0.2216 - acc: 0.9397 - val_loss: 0.3522 - val_acc: 0.8801\n",
      "Epoch 7/20\n",
      "49/49 [==============================] - 1s 21ms/step - loss: 0.2163 - acc: 0.9414 - val_loss: 0.3956 - val_acc: 0.8664\n",
      "Epoch 8/20\n",
      "49/49 [==============================] - 1s 23ms/step - loss: 0.2095 - acc: 0.9441 - val_loss: 0.3721 - val_acc: 0.8755\n",
      "Epoch 9/20\n",
      "49/49 [==============================] - 1s 22ms/step - loss: 0.2075 - acc: 0.9446 - val_loss: 0.4028 - val_acc: 0.8672\n",
      "Epoch 10/20\n",
      "49/49 [==============================] - 1s 21ms/step - loss: 0.2025 - acc: 0.9465 - val_loss: 0.4039 - val_acc: 0.8689\n",
      "Epoch 11/20\n",
      "49/49 [==============================] - 1s 22ms/step - loss: 0.2015 - acc: 0.9460 - val_loss: 0.3848 - val_acc: 0.8743\n",
      "Epoch 12/20\n",
      "49/49 [==============================] - 1s 22ms/step - loss: 0.1966 - acc: 0.9494 - val_loss: 0.3888 - val_acc: 0.8745\n",
      "Epoch 13/20\n",
      "49/49 [==============================] - 1s 23ms/step - loss: 0.1941 - acc: 0.9486 - val_loss: 0.4048 - val_acc: 0.8692\n",
      "Epoch 14/20\n",
      "49/49 [==============================] - 1s 22ms/step - loss: 0.1918 - acc: 0.9499 - val_loss: 0.3984 - val_acc: 0.8717\n",
      "Epoch 15/20\n",
      "49/49 [==============================] - 1s 22ms/step - loss: 0.1872 - acc: 0.9525 - val_loss: 0.4052 - val_acc: 0.8699\n",
      "Epoch 16/20\n",
      "49/49 [==============================] - 1s 25ms/step - loss: 0.1815 - acc: 0.9542 - val_loss: 0.4574 - val_acc: 0.8582\n",
      "Epoch 17/20\n",
      "49/49 [==============================] - 1s 21ms/step - loss: 0.1846 - acc: 0.9517 - val_loss: 0.4261 - val_acc: 0.8665\n",
      "Epoch 18/20\n",
      "49/49 [==============================] - 1s 22ms/step - loss: 0.1788 - acc: 0.9556 - val_loss: 0.4186 - val_acc: 0.8700\n",
      "Epoch 19/20\n",
      "49/49 [==============================] - 1s 22ms/step - loss: 0.1772 - acc: 0.9554 - val_loss: 0.4652 - val_acc: 0.8580\n",
      "Epoch 20/20\n",
      "49/49 [==============================] - 1s 22ms/step - loss: 0.1740 - acc: 0.9554 - val_loss: 0.4504 - val_acc: 0.8616\n"
     ]
    }
   ],
   "source": [
    "l2_model_hist = l2_model.fit(x_train, y_train, epochs=20, batch_size=512, validation_data=(x_test, y_test))"
   ]
  },
  {
   "cell_type": "code",
   "execution_count": 38,
   "metadata": {},
   "outputs": [
    {
     "data": {
      "image/png": "[encoded data removed]",
      "text/plain": [
       "<Figure size 432x288 with 1 Axes>"
      ]
     },
     "metadata": {},
     "output_type": "display_data"
    }
   ],
   "source": [
    "l2_model_val_loss = l2_model_hist.history['val_loss']\n",
    "\n",
    "epochs = range(1, 21)\n",
    "plt.plot(epochs, model_1_val_loss, 'r+', label='Model 1')\n",
    "plt.plot(epochs, l2_model_val_loss, 'bo', label='Model L2-regularized')\n",
    "plt.xlabel('Epochs')\n",
    "plt.ylabel('Validation Loss')\n",
    "plt.legend()\n",
    "plt.grid()\n",
    "\n",
    "plt.show()"
   ]
  },
  {
   "cell_type": "code",
   "execution_count": 39,
   "metadata": {},
   "outputs": [
    {
     "name": "stdout",
     "output_type": "stream",
     "text": [
      "Model: \"sequential_7\"\n",
      "_________________________________________________________________\n",
      " Layer (type)                Output Shape              Param #   \n",
      "=================================================================\n",
      " dense_7 (Dense)             (None, 16)                160016    \n",
      "                                                                 \n",
      " dense_8 (Dense)             (None, 16)                272       \n",
      "                                                                 \n",
      " dense_9 (Dense)             (None, 1)                 17        \n",
      "                                                                 \n",
      "=================================================================\n",
      "Total params: 160,305\n",
      "Trainable params: 160,305\n",
      "Non-trainable params: 0\n",
      "_________________________________________________________________\n",
      "You must install pydot (`pip install pydot`) and install graphviz (see instructions at https://graphviz.gitlab.io/download/) for plot_model/model_to_dot to work.\n"
     ]
    }
   ],
   "source": [
    "l1_model = Sequential([Dense(16, kernel_regularizer=l1(0.0001), activation='relu', input_shape=(10000, )), \n",
    "                       Dense(16, kernel_regularizer=l1(0.0001), activation='relu'), \n",
    "                       Dense(1, activation='sigmoid')])\n",
    "\n",
    "l1_model.compile(optimizer='rmsprop', loss='binary_crossentropy', metrics=['acc'])\n",
    "\n",
    "l1_model.summary()\n",
    "plot_model(l2_model, show_shapes=True)"
   ]
  },
  {
   "cell_type": "code",
   "execution_count": 40,
   "metadata": {},
   "outputs": [
    {
     "name": "stdout",
     "output_type": "stream",
     "text": [
      "Epoch 1/20\n",
      "49/49 [==============================] - 3s 44ms/step - loss: 0.5637 - acc: 0.8212 - val_loss: 0.4344 - val_acc: 0.8788\n",
      "Epoch 2/20\n",
      "49/49 [==============================] - 1s 22ms/step - loss: 0.3842 - acc: 0.8914 - val_loss: 0.3817 - val_acc: 0.8858\n",
      "Epoch 3/20\n",
      "49/49 [==============================] - 1s 22ms/step - loss: 0.3460 - acc: 0.9021 - val_loss: 0.3644 - val_acc: 0.8878\n",
      "Epoch 4/20\n",
      "49/49 [==============================] - 1s 21ms/step - loss: 0.3271 - acc: 0.9067 - val_loss: 0.3612 - val_acc: 0.8878\n",
      "Epoch 5/20\n",
      "49/49 [==============================] - 1s 21ms/step - loss: 0.3184 - acc: 0.9101 - val_loss: 0.3652 - val_acc: 0.8859\n",
      "Epoch 6/20\n",
      "49/49 [==============================] - 1s 24ms/step - loss: 0.3097 - acc: 0.9140 - val_loss: 0.3669 - val_acc: 0.8838\n",
      "Epoch 7/20\n",
      "49/49 [==============================] - 1s 20ms/step - loss: 0.3059 - acc: 0.9154 - val_loss: 0.3873 - val_acc: 0.8758\n",
      "Epoch 8/20\n",
      "49/49 [==============================] - 1s 20ms/step - loss: 0.2962 - acc: 0.9198 - val_loss: 0.3772 - val_acc: 0.8794\n",
      "Epoch 9/20\n",
      "49/49 [==============================] - 1s 21ms/step - loss: 0.2913 - acc: 0.9209 - val_loss: 0.3718 - val_acc: 0.8850\n",
      "Epoch 10/20\n",
      "49/49 [==============================] - 1s 21ms/step - loss: 0.2866 - acc: 0.9232 - val_loss: 0.3718 - val_acc: 0.8830\n",
      "Epoch 11/20\n",
      "49/49 [==============================] - 1s 20ms/step - loss: 0.2852 - acc: 0.9240 - val_loss: 0.3859 - val_acc: 0.8769\n",
      "Epoch 12/20\n",
      "49/49 [==============================] - 1s 21ms/step - loss: 0.2771 - acc: 0.9270 - val_loss: 0.3792 - val_acc: 0.8810\n",
      "Epoch 13/20\n",
      "49/49 [==============================] - 1s 22ms/step - loss: 0.2745 - acc: 0.9274 - val_loss: 0.4000 - val_acc: 0.8736\n",
      "Epoch 14/20\n",
      "49/49 [==============================] - 1s 22ms/step - loss: 0.2695 - acc: 0.9304 - val_loss: 0.3846 - val_acc: 0.8797\n",
      "Epoch 15/20\n",
      "49/49 [==============================] - 1s 22ms/step - loss: 0.2674 - acc: 0.9314 - val_loss: 0.3858 - val_acc: 0.8796\n",
      "Epoch 16/20\n",
      "49/49 [==============================] - 1s 20ms/step - loss: 0.2621 - acc: 0.9326 - val_loss: 0.4006 - val_acc: 0.8759\n",
      "Epoch 17/20\n",
      "49/49 [==============================] - 1s 21ms/step - loss: 0.2576 - acc: 0.9348 - val_loss: 0.4045 - val_acc: 0.8748\n",
      "Epoch 18/20\n",
      "49/49 [==============================] - 1s 20ms/step - loss: 0.2509 - acc: 0.9380 - val_loss: 0.4186 - val_acc: 0.8686\n",
      "Epoch 19/20\n",
      "49/49 [==============================] - 1s 21ms/step - loss: 0.2493 - acc: 0.9377 - val_loss: 0.4023 - val_acc: 0.8774\n",
      "Epoch 20/20\n",
      "49/49 [==============================] - 1s 21ms/step - loss: 0.2497 - acc: 0.9363 - val_loss: 0.4337 - val_acc: 0.8675\n"
     ]
    }
   ],
   "source": [
    "l1_model_hist = l1_model.fit(x_train, y_train, epochs=20, batch_size=512, validation_data=(x_test, y_test))"
   ]
  },
  {
   "cell_type": "code",
   "execution_count": 41,
   "metadata": {},
   "outputs": [
    {
     "data": {
      "image/png": "[encoded data removed]",
      "text/plain": [
       "<Figure size 432x288 with 1 Axes>"
      ]
     },
     "metadata": {},
     "output_type": "display_data"
    }
   ],
   "source": [
    "l1_model_val_loss = l1_model_hist.history['val_loss']\n",
    "\n",
    "epochs = range(1, 21)\n",
    "plt.plot(epochs, model_1_val_loss, 'r+', label='Model 1')\n",
    "plt.plot(epochs, l1_model_val_loss, 'bo', label='Model L1-regularized')\n",
    "plt.xlabel('Epochs')\n",
    "plt.ylabel('Validation Loss')\n",
    "plt.legend()\n",
    "plt.grid()\n",
    "\n",
    "plt.show()"
   ]
  },
  {
   "cell_type": "code",
   "execution_count": 43,
   "metadata": {},
   "outputs": [
    {
     "data": {
      "image/png": "[encoded data removed]",
      "text/plain": [
       "<Figure size 432x288 with 1 Axes>"
      ]
     },
     "metadata": {},
     "output_type": "display_data"
    }
   ],
   "source": [
    "epochs = range(1, 21)\n",
    "plt.plot(epochs, model_1_val_loss, 'r+', label='Model 1')\n",
    "plt.plot(epochs, l1_model_val_loss, 'bo', label='Model L1-regularized')\n",
    "plt.plot(epochs, l2_model_val_loss, 'g--', label='Model L2-regularized')\n",
    "\n",
    "plt.xlabel('Epochs')\n",
    "plt.ylabel('Validation Loss')\n",
    "plt.legend()\n",
    "plt.grid()\n",
    "\n",
    "plt.show()"
   ]
  },
  {
   "cell_type": "code",
   "execution_count": 44,
   "metadata": {},
   "outputs": [
    {
     "name": "stdout",
     "output_type": "stream",
     "text": [
      "Model: \"sequential_9\"\n",
      "_________________________________________________________________\n",
      " Layer (type)                Output Shape              Param #   \n",
      "=================================================================\n",
      " dense_13 (Dense)            (None, 16)                160016    \n",
      "                                                                 \n",
      " dense_14 (Dense)            (None, 16)                272       \n",
      "                                                                 \n",
      " dense_15 (Dense)            (None, 1)                 17        \n",
      "                                                                 \n",
      "=================================================================\n",
      "Total params: 160,305\n",
      "Trainable params: 160,305\n",
      "Non-trainable params: 0\n",
      "_________________________________________________________________\n",
      "You must install pydot (`pip install pydot`) and install graphviz (see instructions at https://graphviz.gitlab.io/download/) for plot_model/model_to_dot to work.\n"
     ]
    }
   ],
   "source": [
    "l1_l2_model = Sequential([Dense(16, kernel_regularizer=l1_l2(l1=0.0001, l2=0.0001), activation='relu', input_shape=(10000, )), \n",
    "                       Dense(16, kernel_regularizer=l1_l2(l1=0.0001, l2=0.0001), activation='relu'), \n",
    "                       Dense(1, activation='sigmoid')])\n",
    "\n",
    "l1_l2_model.compile(optimizer='rmsprop', loss='binary_crossentropy', metrics=['acc'])\n",
    "\n",
    "l1_l2_model.summary()\n",
    "plot_model(l1_l2_model, show_shapes=True)"
   ]
  },
  {
   "cell_type": "code",
   "execution_count": 45,
   "metadata": {},
   "outputs": [
    {
     "name": "stdout",
     "output_type": "stream",
     "text": [
      "Epoch 1/20\n",
      "49/49 [==============================] - 3s 46ms/step - loss: 0.5658 - acc: 0.8130 - val_loss: 0.4294 - val_acc: 0.8803\n",
      "Epoch 2/20\n",
      "49/49 [==============================] - 1s 20ms/step - loss: 0.3785 - acc: 0.8937 - val_loss: 0.3726 - val_acc: 0.8879\n",
      "Epoch 3/20\n",
      "49/49 [==============================] - 1s 21ms/step - loss: 0.3350 - acc: 0.9060 - val_loss: 0.3847 - val_acc: 0.8749\n",
      "Epoch 4/20\n",
      "49/49 [==============================] - 1s 22ms/step - loss: 0.3187 - acc: 0.9102 - val_loss: 0.3635 - val_acc: 0.8870\n",
      "Epoch 5/20\n",
      "49/49 [==============================] - 1s 22ms/step - loss: 0.3073 - acc: 0.9128 - val_loss: 0.3819 - val_acc: 0.8766\n",
      "Epoch 6/20\n",
      "49/49 [==============================] - 1s 22ms/step - loss: 0.2996 - acc: 0.9168 - val_loss: 0.3624 - val_acc: 0.8864\n",
      "Epoch 7/20\n",
      "49/49 [==============================] - 1s 22ms/step - loss: 0.2925 - acc: 0.9206 - val_loss: 0.3826 - val_acc: 0.8771\n",
      "Epoch 8/20\n",
      "49/49 [==============================] - 1s 22ms/step - loss: 0.2872 - acc: 0.9221 - val_loss: 0.3693 - val_acc: 0.8837\n",
      "Epoch 9/20\n",
      "49/49 [==============================] - 1s 22ms/step - loss: 0.2823 - acc: 0.9261 - val_loss: 0.3857 - val_acc: 0.8775\n",
      "Epoch 10/20\n",
      "49/49 [==============================] - 1s 22ms/step - loss: 0.2776 - acc: 0.9269 - val_loss: 0.3817 - val_acc: 0.8804\n",
      "Epoch 11/20\n",
      "49/49 [==============================] - 1s 23ms/step - loss: 0.2695 - acc: 0.9308 - val_loss: 0.3824 - val_acc: 0.8801\n",
      "Epoch 12/20\n",
      "49/49 [==============================] - 1s 21ms/step - loss: 0.2705 - acc: 0.9299 - val_loss: 0.3763 - val_acc: 0.8824\n",
      "Epoch 13/20\n",
      "49/49 [==============================] - 1s 21ms/step - loss: 0.2636 - acc: 0.9312 - val_loss: 0.4052 - val_acc: 0.8710\n",
      "Epoch 14/20\n",
      "49/49 [==============================] - 1s 23ms/step - loss: 0.2580 - acc: 0.9331 - val_loss: 0.3804 - val_acc: 0.8811\n",
      "Epoch 15/20\n",
      "49/49 [==============================] - 1s 21ms/step - loss: 0.2549 - acc: 0.9350 - val_loss: 0.3849 - val_acc: 0.8795\n",
      "Epoch 16/20\n",
      "49/49 [==============================] - 1s 24ms/step - loss: 0.2442 - acc: 0.9405 - val_loss: 0.3839 - val_acc: 0.8796\n",
      "Epoch 17/20\n",
      "49/49 [==============================] - 1s 23ms/step - loss: 0.2404 - acc: 0.9408 - val_loss: 0.3870 - val_acc: 0.8788\n",
      "Epoch 18/20\n",
      "49/49 [==============================] - 1s 25ms/step - loss: 0.2366 - acc: 0.9421 - val_loss: 0.4008 - val_acc: 0.8743\n",
      "Epoch 19/20\n",
      "49/49 [==============================] - 1s 22ms/step - loss: 0.2280 - acc: 0.9470 - val_loss: 0.3936 - val_acc: 0.8761\n",
      "Epoch 20/20\n",
      "49/49 [==============================] - 1s 20ms/step - loss: 0.2230 - acc: 0.9480 - val_loss: 0.3994 - val_acc: 0.8751\n"
     ]
    }
   ],
   "source": [
    "l1_l2_model_hist = l1_l2_model.fit(x_train, y_train, epochs=20, batch_size=512, validation_data=(x_test, y_test))"
   ]
  },
  {
   "cell_type": "code",
   "execution_count": 48,
   "metadata": {},
   "outputs": [
    {
     "data": {
      "image/png": "[encoded data removed]",
      "text/plain": [
       "<Figure size 432x288 with 1 Axes>"
      ]
     },
     "metadata": {},
     "output_type": "display_data"
    }
   ],
   "source": [
    "l1_l2_model_val_loss = l1_l2_model_hist.history['val_loss']\n",
    "\n",
    "epochs = range(1, 21)\n",
    "plt.plot(epochs, model_1_val_loss, 'r+', label='Model 1')\n",
    "plt.plot(epochs, l1_model_val_loss, 'ko', label='Model L1_L2-regularized')\n",
    "plt.xlabel('Epochs')\n",
    "plt.ylabel('Validation Loss')\n",
    "plt.legend()\n",
    "plt.grid()\n",
    "\n",
    "plt.show()"
   ]
  },
  {
   "cell_type": "code",
   "execution_count": 50,
   "metadata": {},
   "outputs": [
    {
     "data": {
      "image/png": "[encoded data removed]",
      "text/plain": [
       "<Figure size 432x288 with 1 Axes>"
      ]
     },
     "metadata": {},
     "output_type": "display_data"
    }
   ],
   "source": [
    "epochs = range(1, 21)\n",
    "plt.plot(epochs, model_1_val_loss, 'r+', label='Model 1')\n",
    "plt.plot(epochs, l1_model_val_loss, 'bo', label='Model L1-regularized')\n",
    "plt.plot(epochs, l2_model_val_loss, 'g--', label='Model L2-regularized')\n",
    "plt.plot(epochs, l1_l2_model_val_loss, 'ko', label='Model L1_L2-regularized')\n",
    "\n",
    "plt.xlabel('Epochs')\n",
    "plt.ylabel('Validation Loss')\n",
    "plt.legend()\n",
    "plt.grid()\n",
    "\n",
    "plt.show()"
   ]
  },
  {
   "cell_type": "code",
   "execution_count": 51,
   "metadata": {},
   "outputs": [],
   "source": [
    "from tensorflow.keras.layers import Dropout"
   ]
  },
  {
   "cell_type": "code",
   "execution_count": 52,
   "metadata": {},
   "outputs": [
    {
     "name": "stdout",
     "output_type": "stream",
     "text": [
      "Model: \"sequential_10\"\n",
      "_________________________________________________________________\n",
      " Layer (type)                Output Shape              Param #   \n",
      "=================================================================\n",
      " dense_16 (Dense)            (None, 16)                160016    \n",
      "                                                                 \n",
      " dropout (Dropout)           (None, 16)                0         \n",
      "                                                                 \n",
      " dense_17 (Dense)            (None, 16)                272       \n",
      "                                                                 \n",
      " dropout_1 (Dropout)         (None, 16)                0         \n",
      "                                                                 \n",
      " dense_18 (Dense)            (None, 1)                 17        \n",
      "                                                                 \n",
      "=================================================================\n",
      "Total params: 160,305\n",
      "Trainable params: 160,305\n",
      "Non-trainable params: 0\n",
      "_________________________________________________________________\n",
      "You must install pydot (`pip install pydot`) and install graphviz (see instructions at https://graphviz.gitlab.io/download/) for plot_model/model_to_dot to work.\n"
     ]
    }
   ],
   "source": [
    "dropout_model= Sequential([Dense(16, activation='relu', input_shape=(10000, )), \n",
    "                           Dropout(0.5),\n",
    "                           Dense(16, activation='relu'), Dropout(0.5),\n",
    "                           Dense(1, activation='sigmoid')])\n",
    "\n",
    "dropout_model.compile(optimizer='rmsprop', loss='binary_crossentropy', metrics=['acc'])\n",
    "\n",
    "dropout_model.summary()\n",
    "plot_model(dropout_model, show_shapes=True)"
   ]
  },
  {
   "cell_type": "code",
   "execution_count": 53,
   "metadata": {},
   "outputs": [
    {
     "name": "stdout",
     "output_type": "stream",
     "text": [
      "Epoch 1/20\n",
      "49/49 [==============================] - 3s 49ms/step - loss: 0.6030 - acc: 0.6769 - val_loss: 0.4661 - val_acc: 0.8587\n",
      "Epoch 2/20\n",
      "49/49 [==============================] - 1s 22ms/step - loss: 0.4599 - acc: 0.8117 - val_loss: 0.3577 - val_acc: 0.8840\n",
      "Epoch 3/20\n",
      "49/49 [==============================] - 1s 21ms/step - loss: 0.3764 - acc: 0.8544 - val_loss: 0.3107 - val_acc: 0.8879\n",
      "Epoch 4/20\n",
      "49/49 [==============================] - 1s 21ms/step - loss: 0.3184 - acc: 0.8844 - val_loss: 0.2914 - val_acc: 0.8894\n",
      "Epoch 5/20\n",
      "49/49 [==============================] - 1s 23ms/step - loss: 0.2839 - acc: 0.9012 - val_loss: 0.2784 - val_acc: 0.8910\n",
      "Epoch 6/20\n",
      "49/49 [==============================] - 1s 23ms/step - loss: 0.2547 - acc: 0.9109 - val_loss: 0.2822 - val_acc: 0.8898\n",
      "Epoch 7/20\n",
      "49/49 [==============================] - 1s 28ms/step - loss: 0.2230 - acc: 0.9243 - val_loss: 0.3071 - val_acc: 0.8873\n",
      "Epoch 8/20\n",
      "49/49 [==============================] - 1s 24ms/step - loss: 0.2123 - acc: 0.9285 - val_loss: 0.3313 - val_acc: 0.8837\n",
      "Epoch 9/20\n",
      "49/49 [==============================] - 1s 24ms/step - loss: 0.1877 - acc: 0.9354 - val_loss: 0.3243 - val_acc: 0.8851\n",
      "Epoch 10/20\n",
      "49/49 [==============================] - 1s 24ms/step - loss: 0.1739 - acc: 0.9382 - val_loss: 0.3499 - val_acc: 0.8839\n",
      "Epoch 11/20\n",
      "49/49 [==============================] - 1s 23ms/step - loss: 0.1634 - acc: 0.9425 - val_loss: 0.3685 - val_acc: 0.8811\n",
      "Epoch 12/20\n",
      "49/49 [==============================] - 1s 24ms/step - loss: 0.1545 - acc: 0.9463 - val_loss: 0.3850 - val_acc: 0.8805\n",
      "Epoch 13/20\n",
      "49/49 [==============================] - 1s 22ms/step - loss: 0.1491 - acc: 0.9465 - val_loss: 0.4070 - val_acc: 0.8788\n",
      "Epoch 14/20\n",
      "49/49 [==============================] - 1s 22ms/step - loss: 0.1417 - acc: 0.9498 - val_loss: 0.4216 - val_acc: 0.8773\n",
      "Epoch 15/20\n",
      "49/49 [==============================] - 1s 20ms/step - loss: 0.1333 - acc: 0.9504 - val_loss: 0.4667 - val_acc: 0.8763\n",
      "Epoch 16/20\n",
      "49/49 [==============================] - 1s 21ms/step - loss: 0.1296 - acc: 0.9532 - val_loss: 0.4676 - val_acc: 0.8678\n",
      "Epoch 17/20\n",
      "49/49 [==============================] - 1s 22ms/step - loss: 0.1272 - acc: 0.9520 - val_loss: 0.4763 - val_acc: 0.8744\n",
      "Epoch 18/20\n",
      "49/49 [==============================] - 1s 22ms/step - loss: 0.1255 - acc: 0.9530 - val_loss: 0.5092 - val_acc: 0.8751\n",
      "Epoch 19/20\n",
      "49/49 [==============================] - 1s 23ms/step - loss: 0.1218 - acc: 0.9534 - val_loss: 0.5502 - val_acc: 0.8757\n",
      "Epoch 20/20\n",
      "49/49 [==============================] - 1s 21ms/step - loss: 0.1206 - acc: 0.9532 - val_loss: 0.5566 - val_acc: 0.8758\n"
     ]
    }
   ],
   "source": [
    "dopout_model_hist = dropout_model.fit(x_train, y_train, epochs=20, batch_size=512, validation_data=(x_test, y_test))"
   ]
  },
  {
   "cell_type": "code",
   "execution_count": 54,
   "metadata": {},
   "outputs": [
    {
     "data": {
      "image/png": "[encoded data removed]",
      "text/plain": [
       "<Figure size 432x288 with 1 Axes>"
      ]
     },
     "metadata": {},
     "output_type": "display_data"
    }
   ],
   "source": [
    "dropout_model_val_loss = dopout_model_hist.history['val_loss']\n",
    "\n",
    "epochs = range(1, 21)\n",
    "plt.plot(epochs, model_1_val_loss, 'r+', label='Model 1')\n",
    "plt.plot(epochs, l1_model_val_loss, 'co', label='Model Dropout')\n",
    "plt.xlabel('Epochs')\n",
    "plt.ylabel('Validation Loss')\n",
    "plt.legend()\n",
    "plt.grid()\n",
    "\n",
    "plt.show()"
   ]
  },
  {
   "cell_type": "code",
   "execution_count": null,
   "metadata": {},
   "outputs": [],
   "source": []
  }
 ],
 "metadata": {
  "interpreter": {
   "hash": "0135538fe1de41197f9d3293da7d61ac2243240f14f7501747c99de1ad8f12dc"
  },
  "kernelspec": {
   "display_name": "Python 3.9.7 ('torch-gpu')",
   "language": "python",
   "name": "python3"
  },
  "language_info": {
   "codemirror_mode": {
    "name": "ipython",
    "version": 3
   },
   "file_extension": ".py",
   "mimetype": "text/x-python",
   "name": "python",
   "nbconvert_exporter": "python",
   "pygments_lexer": "ipython3",
   "version": "3.9.7"
  },
  "orig_nbformat": 4
 },
 "nbformat": 4,
 "nbformat_minor": 2
}
