{
 "cells": [
  {
   "cell_type": "code",
   "execution_count": 5,
   "metadata": {},
   "outputs": [
    {
     "name": "stdout",
     "output_type": "stream",
     "text": [
      "['data/data/names\\\\Arabic.txt', 'data/data/names\\\\Chinese.txt', 'data/data/names\\\\Czech.txt', 'data/data/names\\\\Dutch.txt', 'data/data/names\\\\English.txt', 'data/data/names\\\\French.txt', 'data/data/names\\\\German.txt', 'data/data/names\\\\Greek.txt', 'data/data/names\\\\Irish.txt', 'data/data/names\\\\Italian.txt', 'data/data/names\\\\Japanese.txt', 'data/data/names\\\\Korean.txt', 'data/data/names\\\\Polish.txt', 'data/data/names\\\\Portuguese.txt', 'data/data/names\\\\Russian.txt', 'data/data/names\\\\Scottish.txt', 'data/data/names\\\\Spanish.txt', 'data/data/names\\\\Vietnamese.txt']\n",
      "Slusarski\n"
     ]
    }
   ],
   "source": [
    "from io import open\n",
    "import glob\n",
    "import os\n",
    "\n",
    "def findFiles(path):\n",
    "    return glob.glob(path)\n",
    "\n",
    "print(findFiles('data/data/names/*.txt'))\n",
    "\n",
    "import unicodedata\n",
    "import string\n",
    "\n",
    "all_letters = string.ascii_letters + \" .,;'\"\n",
    "n_letters = len(all_letters)\n",
    "\n",
    "def unicodeToAscii(s):\n",
    "    return ''.join(c for c in unicodedata.normalize('NFD', s)\n",
    "                   if unicodedata.category(c) != 'Mn' and c in all_letters\n",
    "    )\n",
    "    \n",
    "print(unicodeToAscii('Ślusàrski'))\n",
    "\n",
    "category_lines = {}\n",
    "all_categories = []\n",
    "\n",
    "def readLines(filename):\n",
    "    lines = open(filename, encoding='utf-8').read().strip().split('\\n')\n",
    "    return [unicodeToAscii(line) for line in lines]\n",
    "\n",
    "for filename in findFiles('data/data/names/*.txt'):\n",
    "    category = os.path.splitext(os.path.basename(filename))[0]\n",
    "    all_categories.append(category)\n",
    "    lines = readLines(filename)\n",
    "    category_lines[category] = lines\n",
    "    \n",
    "n_categories = len(all_categories)"
   ]
  },
  {
   "cell_type": "code",
   "execution_count": 6,
   "metadata": {},
   "outputs": [
    {
     "name": "stdout",
     "output_type": "stream",
     "text": [
      "['Abandonato', 'Abatangelo', 'Abatantuono', 'Abate', 'Abategiovanni']\n"
     ]
    }
   ],
   "source": [
    "print(category_lines['Italian'][:5])"
   ]
  },
  {
   "cell_type": "code",
   "execution_count": 7,
   "metadata": {},
   "outputs": [
    {
     "name": "stdout",
     "output_type": "stream",
     "text": [
      "['Ang', 'AuYong', 'Bai', 'Ban', 'Bao']\n"
     ]
    }
   ],
   "source": [
    "print(category_lines['Chinese'][:5])"
   ]
  },
  {
   "cell_type": "code",
   "execution_count": 8,
   "metadata": {},
   "outputs": [
    {
     "name": "stdout",
     "output_type": "stream",
     "text": [
      "['Ahn', 'Baik', 'Bang', 'Byon', 'Cha']\n"
     ]
    }
   ],
   "source": [
    "print(category_lines['Korean'][:5])"
   ]
  },
  {
   "cell_type": "code",
   "execution_count": 10,
   "metadata": {},
   "outputs": [
    {
     "name": "stdout",
     "output_type": "stream",
     "text": [
      "tensor([[0., 0., 0., 0., 0., 0., 0., 0., 0., 0., 0., 0., 0., 0., 0., 0., 0., 0.,\n",
      "         0., 0., 0., 0., 0., 0., 0., 0., 0., 0., 0., 0., 0., 0., 0., 0., 0., 1.,\n",
      "         0., 0., 0., 0., 0., 0., 0., 0., 0., 0., 0., 0., 0., 0., 0., 0., 0., 0.,\n",
      "         0., 0., 0.]])\n",
      "torch.Size([5, 1, 57])\n"
     ]
    }
   ],
   "source": [
    "import torch\n",
    "\n",
    "def letterToIndex(letter):\n",
    "    return all_letters.find(letter)\n",
    "\n",
    "def letterToTensor(letter):\n",
    "    tensor = torch.zeros(1, n_letters)\n",
    "    tensor[0][letterToIndex(letter)] = 1\n",
    "    return tensor\n",
    "\n",
    "def lineToTensor(line):\n",
    "    tensor = torch.zeros(len(line), 1, n_letters)\n",
    "    for li, letter in enumerate(line):\n",
    "        tensor[li][0][letterToIndex(letter)] = 1\n",
    "    \n",
    "    return tensor\n",
    "\n",
    "print(letterToTensor('J'))\n",
    "\n",
    "print(lineToTensor('Jones').size())"
   ]
  },
  {
   "cell_type": "code",
   "execution_count": 11,
   "metadata": {},
   "outputs": [],
   "source": [
    "import torch.nn as nn\n",
    "\n",
    "class RNN(nn.Module):\n",
    "    def __init__(self, input_size, hidden_size, output_size):\n",
    "        super(RNN, self).__init__()\n",
    "        \n",
    "        self.hidden_size = hidden_size\n",
    "        \n",
    "        self.i2h = nn.Linear(input_size + hidden_size, hidden_size)\n",
    "        self.i2o = nn.Linear(input_size + hidden_size, output_size)\n",
    "        self.softmax = nn.LogSoftmax(dim=1)\n",
    "        \n",
    "    def forward(self, input, hidden):\n",
    "        combined = torch.cat((input, hidden), 1)\n",
    "        hidden = self.i2h(combined)\n",
    "        output = self.i2o(combined)\n",
    "        output = self.softmax(output)\n",
    "        return output, hidden\n",
    "    \n",
    "    def initHidden(self):\n",
    "        return torch.zeros(1, self.hidden_size)\n",
    "    \n",
    "n_hidden = 128\n",
    "rnn = RNN(n_letters, n_hidden, n_categories)\n",
    "\n"
   ]
  },
  {
   "cell_type": "code",
   "execution_count": 12,
   "metadata": {},
   "outputs": [
    {
     "name": "stdout",
     "output_type": "stream",
     "text": [
      "tensor([[-2.8331, -2.8612, -2.8866, -2.8961, -3.0046, -2.9175, -2.9161, -2.8077,\n",
      "         -2.8914, -2.9207, -2.8988, -2.9143, -2.8499, -2.8893, -2.8326, -2.9491,\n",
      "         -2.8125, -2.9690]], grad_fn=<LogSoftmaxBackward0>) tensor([[-0.0279, -0.0361, -0.0822,  0.0952,  0.0726,  0.0291,  0.0097, -0.0488,\n",
      "          0.0125, -0.0333,  0.0035,  0.0156,  0.0152,  0.0641, -0.0458,  0.1011,\n",
      "         -0.0260,  0.0516,  0.0492,  0.0276, -0.0274,  0.0479, -0.0381, -0.1285,\n",
      "          0.0760,  0.0118,  0.0532,  0.0898, -0.0099,  0.0039, -0.0253, -0.0176,\n",
      "         -0.0607, -0.0238,  0.0192,  0.0032,  0.1020, -0.0267, -0.0095,  0.0292,\n",
      "          0.0956, -0.0416, -0.0242,  0.0624, -0.0541, -0.0934,  0.0908, -0.0665,\n",
      "          0.0350, -0.0349,  0.1186, -0.0491,  0.0029,  0.0291,  0.0769,  0.0876,\n",
      "         -0.0638,  0.0134, -0.0475,  0.0052,  0.0426, -0.0818, -0.0696, -0.0034,\n",
      "          0.0445, -0.0457, -0.1102, -0.0968, -0.0454,  0.0979, -0.0801, -0.0385,\n",
      "         -0.1101,  0.0073,  0.0106,  0.0862, -0.0444,  0.0411,  0.0795, -0.0212,\n",
      "         -0.0088, -0.0450,  0.0027, -0.0764, -0.0649, -0.0079,  0.0506,  0.0119,\n",
      "         -0.0442,  0.0810, -0.0176,  0.0132,  0.0925,  0.0554,  0.0494, -0.0532,\n",
      "         -0.0272,  0.0462, -0.0332,  0.0360, -0.0405,  0.0079, -0.0502,  0.0022,\n",
      "         -0.0237,  0.0607,  0.0273,  0.0422, -0.0213, -0.0859, -0.0740, -0.0101,\n",
      "          0.0587, -0.0200, -0.0176,  0.0148,  0.0878,  0.0909, -0.0012,  0.0706,\n",
      "          0.0407,  0.0636, -0.0164, -0.0074, -0.0519, -0.0718,  0.0979, -0.1091]],\n",
      "       grad_fn=<AddmmBackward0>)\n"
     ]
    }
   ],
   "source": [
    "input = letterToTensor('A')\n",
    "hidden = torch.zeros(1, n_hidden)\n",
    "\n",
    "output, next_hidden = rnn(input, hidden)\n",
    "print(output, next_hidden)"
   ]
  },
  {
   "cell_type": "code",
   "execution_count": 13,
   "metadata": {},
   "outputs": [
    {
     "name": "stdout",
     "output_type": "stream",
     "text": [
      "tensor([[-2.8331, -2.8612, -2.8866, -2.8961, -3.0046, -2.9175, -2.9161, -2.8077,\n",
      "         -2.8914, -2.9207, -2.8988, -2.9143, -2.8499, -2.8893, -2.8326, -2.9491,\n",
      "         -2.8125, -2.9690]], grad_fn=<LogSoftmaxBackward0>)\n"
     ]
    }
   ],
   "source": [
    "input = letterToTensor('A')\n",
    "hidden = torch.zeros(1, n_hidden)\n",
    "\n",
    "output, next_hidden = rnn(input, hidden)\n",
    "print(output)"
   ]
  },
  {
   "cell_type": "code",
   "execution_count": 15,
   "metadata": {},
   "outputs": [
    {
     "name": "stdout",
     "output_type": "stream",
     "text": [
      "tensor([[-2.8331, -2.8612, -2.8866, -2.8961, -3.0046, -2.9175, -2.9161, -2.8077,\n",
      "         -2.8914, -2.9207, -2.8988, -2.9143, -2.8499, -2.8893, -2.8326, -2.9491,\n",
      "         -2.8125, -2.9690]], grad_fn=<LogSoftmaxBackward0>)\n"
     ]
    }
   ],
   "source": [
    "input = lineToTensor('Albert')\n",
    "hidden = torch.zeros(1, n_hidden)\n",
    "\n",
    "output, next_hidden = rnn(input[0], hidden)\n",
    "print(output)"
   ]
  },
  {
   "cell_type": "code",
   "execution_count": 17,
   "metadata": {},
   "outputs": [
    {
     "name": "stdout",
     "output_type": "stream",
     "text": [
      "('Greek', 7)\n"
     ]
    }
   ],
   "source": [
    "def categoryFromOutput(output):\n",
    "    top_n, top_i = output.topk(1)\n",
    "    category_i = top_i[0].item()\n",
    "    return all_categories[category_i], category_i\n",
    "\n",
    "print(categoryFromOutput(output))"
   ]
  },
  {
   "cell_type": "code",
   "execution_count": 23,
   "metadata": {},
   "outputs": [
    {
     "name": "stdout",
     "output_type": "stream",
     "text": [
      "category: German \t line: Wagner\n",
      "category: French \t line: Berger\n",
      "category: Chinese \t line: Tso\n",
      "category: Polish \t line: Gorka\n",
      "category: English \t line: Dean\n",
      "category: German \t line: Zellweger\n",
      "category: Dutch \t line: Adrichem\n",
      "category: Russian \t line: Ruzin\n",
      "category: Korean \t line: Yi\n",
      "category: Scottish \t line: Mcgregor\n"
     ]
    }
   ],
   "source": [
    "import random\n",
    "\n",
    "def randomChoice(l):\n",
    "    return l[random.randint(0, len(l)-1)]\n",
    "\n",
    "def randomTrainingExample():\n",
    "    category = randomChoice(all_categories)\n",
    "    line = randomChoice(category_lines[category])\n",
    "    category_tensor = torch.tensor([all_categories.index(category)], dtype=torch.long)\n",
    "    line_tensor = lineToTensor(line)\n",
    "    return category, line, category_tensor, line_tensor\n",
    "\n",
    "for i in range(10):\n",
    "    category, line, category_tensor, line_tensor = randomTrainingExample()\n",
    "    print('category: {} \\t line: {}'.format(category,line))"
   ]
  },
  {
   "cell_type": "code",
   "execution_count": 24,
   "metadata": {},
   "outputs": [],
   "source": [
    "criterion = nn.NLLLoss()"
   ]
  },
  {
   "cell_type": "code",
   "execution_count": 25,
   "metadata": {},
   "outputs": [],
   "source": [
    "learning_rate = 0.005\n",
    "\n",
    "def train(category_tensor, line_tensor):\n",
    "    hidden = rnn.initHidden()\n",
    "    \n",
    "    rnn.zero_grad()\n",
    "    \n",
    "    for i in range(line_tensor.size()[0]):\n",
    "        output, hidden = rnn(line_tensor[i], hidden)\n",
    "        \n",
    "    loss = criterion(output, category_tensor)\n",
    "    loss.backward()\n",
    "    \n",
    "    for p in rnn.parameters():\n",
    "        p.data.add_(p.grad.data, alpha=-learning_rate)\n",
    "        \n",
    "    return output, loss.item()"
   ]
  },
  {
   "cell_type": "code",
   "execution_count": 27,
   "metadata": {},
   "outputs": [
    {
     "name": "stdout",
     "output_type": "stream",
     "text": [
      "5000 5% (0m 6s) 2.8591 Hino / Vietnamese X (Japanese)\n",
      "10000 10% (0m 12s) 3.0592 Naysmith / Japanese X (English)\n",
      "15000 15% (0m 19s) 2.4455 Altena / Spanish X (Dutch)\n",
      "20000 20% (0m 25s) 1.4702 Piatek / Czech X (Polish)\n",
      "25000 25% (0m 32s) 3.1781 Santos / Greek X (Spanish)\n",
      "30000 30% (0m 39s) 0.7762 So / Korean O\n",
      "35000 35% (0m 45s) 2.8656 Jacks / Polish X (English)\n",
      "40000 40% (0m 52s) 0.7912 Shammas / Arabic O\n",
      "45000 45% (0m 59s) 1.7602 Maier / Arabic X (German)\n",
      "50000 50% (1m 5s) 1.0912 Lang / Vietnamese X (Chinese)\n",
      "55000 55% (1m 12s) 1.3449 Shi / Korean X (Chinese)\n",
      "60000 60% (1m 18s) 0.2658 Kasprzak / Polish O\n",
      "65000 65% (1m 25s) 0.2726 Kaczka / Polish O\n",
      "70000 70% (1m 32s) 1.1147 Ustohal / Czech O\n",
      "75000 75% (1m 39s) 0.5992 Nosek / Polish O\n",
      "80000 80% (1m 45s) 0.7423 O'Sullivan / Irish O\n",
      "85000 85% (1m 52s) 0.9969 Watnabe / Japanese O\n",
      "90000 90% (1m 59s) 0.1313 Vuu / Vietnamese O\n",
      "95000 95% (2m 5s) 0.1883 Sokolsky / Polish O\n",
      "100000 100% (2m 12s) 0.8467 Oursler / German O\n"
     ]
    }
   ],
   "source": [
    "import time\n",
    "import math\n",
    "\n",
    "n_iters = 100000\n",
    "print_every = 5000\n",
    "plot_every = 1000\n",
    "\n",
    "current_loss = 0\n",
    "all_losses=[]\n",
    "\n",
    "def timeSince(since):\n",
    "    now = time.time()\n",
    "    s = now - since\n",
    "    m = math.floor(s / 60)\n",
    "    s -= m * 60\n",
    "    return'%dm %ds' % (m,s)\n",
    "\n",
    "start = time.time()\n",
    "\n",
    "for iter in range(1, n_iters + 1):\n",
    "    category, line, category_tensor, line_tensor = randomTrainingExample()\n",
    "    output, loss = train(category_tensor, line_tensor)\n",
    "    current_loss += loss\n",
    "    \n",
    "    if iter % print_every == 0:\n",
    "        guess, guess_i = categoryFromOutput(output)\n",
    "        correct = 'O' if guess == category else 'X (%s)' % category\n",
    "        print('%d %d%% (%s) %.4f %s / %s %s' % (iter, iter/n_iters * 100, timeSince(start), loss, line, guess, correct))\n",
    "        \n",
    "    if iter % plot_every == 0:\n",
    "        all_losses.append(current_loss/plot_every)\n",
    "        current_loss = 0 \n",
    "        "
   ]
  },
  {
   "cell_type": "code",
   "execution_count": 28,
   "metadata": {},
   "outputs": [
    {
     "data": {
      "image/png": "[encoded data removed]",
      "text/plain": [
       "<Figure size 432x288 with 1 Axes>"
      ]
     },
     "metadata": {},
     "output_type": "display_data"
    }
   ],
   "source": [
    "import matplotlib.ticker as ticker\n",
    "import matplotlib.pyplot as plt\n",
    "plt.style.use('seaborn-white')\n",
    "\n",
    "plt.figure()\n",
    "plt.plot(all_losses)\n",
    "plt.show()"
   ]
  },
  {
   "cell_type": "code",
   "execution_count": 29,
   "metadata": {},
   "outputs": [
    {
     "name": "stderr",
     "output_type": "stream",
     "text": [
      "C:\\Users\\bitcamp\\AppData\\Local\\Temp/ipykernel_13424/3149747792.py:26: UserWarning: FixedFormatter should only be used together with FixedLocator\n",
      "  ax.set_xticklabels(['']+all_categories, rotation=90)\n",
      "C:\\Users\\bitcamp\\AppData\\Local\\Temp/ipykernel_13424/3149747792.py:27: UserWarning: FixedFormatter should only be used together with FixedLocator\n",
      "  ax.set_yticklabels(['']+all_categories)\n"
     ]
    },
    {
     "data": {
      "image/png": "[encoded data removed]",
      "text/plain": [
       "<Figure size 432x288 with 2 Axes>"
      ]
     },
     "metadata": {},
     "output_type": "display_data"
    }
   ],
   "source": [
    "confusion = torch.zeros(n_categories, n_categories)\n",
    "n_confusion = 100000\n",
    "\n",
    "def evaluate(line_tensor):\n",
    "    hidden = rnn.initHidden()\n",
    "    \n",
    "    for i in range(line_tensor.size()[0]):\n",
    "        output, hidden = rnn(line_tensor[i], hidden)\n",
    "        \n",
    "    return output\n",
    "\n",
    "for i in range(n_confusion):\n",
    "    category, line, category_tensor, line_tensor = randomTrainingExample()\n",
    "    output = evaluate(line_tensor)\n",
    "    guess, guess_i = categoryFromOutput(output)\n",
    "    category_i = all_categories.index(category)\n",
    "    confusion[category_i][guess_i] +=1\n",
    "    \n",
    "for i in range(n_categories):\n",
    "    confusion[i] = confusion[i]/confusion[i].sum()\n",
    "    \n",
    "fig = plt.figure()\n",
    "ax = fig.add_subplot(111)\n",
    "cax = ax.matshow(confusion.numpy())\n",
    "fig.colorbar(cax)\n",
    "ax.set_xticklabels(['']+all_categories, rotation=90)\n",
    "ax.set_yticklabels(['']+all_categories)\n",
    "ax.xaxis.set_major_locator(ticker.MultipleLocator(1))\n",
    "ax.yaxis.set_major_locator(ticker.MultipleLocator(1))\n",
    "\n",
    "plt.show()"
   ]
  },
  {
   "cell_type": "code",
   "execution_count": 34,
   "metadata": {},
   "outputs": [
    {
     "name": "stdout",
     "output_type": "stream",
     "text": [
      "\n",
      "> Jackson\n",
      "(-0.16) Scottish\n",
      "(-2.67) English\n",
      "(-3.34) Russian\n",
      "\n",
      "> Bill\n",
      "(-1.78) German\n",
      "(-1.81) Scottish\n",
      "(-1.87) English\n",
      "\n",
      "> Dovesky\n",
      "(-0.39) Russian\n",
      "(-1.64) Czech\n",
      "(-2.89) Polish\n",
      "\n",
      "> Swan\n",
      "(-0.70) Korean\n",
      "(-1.07) Chinese\n",
      "(-3.23) Scottish\n"
     ]
    }
   ],
   "source": [
    "def predict(input_line, n_predictions=3):\n",
    "    print('\\n> %s' % input_line)\n",
    "    with torch.no_grad():\n",
    "        output = evaluate(lineToTensor(input_line))\n",
    "        \n",
    "        topv, topi = output.topk(n_predictions, 1, True)\n",
    "        predictions = []\n",
    "        \n",
    "        for i in range(n_predictions):\n",
    "            value = topv[0][i].item()\n",
    "            category_index = topi[0][i].item()\n",
    "            print('(%.2f) %s' % (value, all_categories[category_index]))\n",
    "            predictions.append([value, all_categories[category_index]])\n",
    "            \n",
    "predict('Jackson')\n",
    "predict('Bill')\n",
    "predict('Dovesky')\n",
    "predict('Swan')"
   ]
  },
  {
   "cell_type": "code",
   "execution_count": null,
   "metadata": {},
   "outputs": [],
   "source": []
  }
 ],
 "metadata": {
  "interpreter": {
   "hash": "594ce620ff6a5f20b43ad5e4bebf44938ee5c8eae13890c13b673e8e3f3596cc"
  },
  "kernelspec": {
   "display_name": "Python 3.9.7 ('torch-gpu')",
   "language": "python",
   "name": "python3"
  },
  "language_info": {
   "codemirror_mode": {
    "name": "ipython",
    "version": 3
   },
   "file_extension": ".py",
   "mimetype": "text/x-python",
   "name": "python",
   "nbconvert_exporter": "python",
   "pygments_lexer": "ipython3",
   "version": "3.9.7"
  },
  "orig_nbformat": 4
 },
 "nbformat": 4,
 "nbformat_minor": 2
}
