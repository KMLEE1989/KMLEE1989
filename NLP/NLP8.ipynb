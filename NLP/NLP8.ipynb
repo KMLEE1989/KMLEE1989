{
 "cells": [
  {
   "cell_type": "code",
   "execution_count": 1,
   "metadata": {},
   "outputs": [],
   "source": [
    "import numpy as np\n",
    "\n",
    "timesteps = 100\n",
    "input_features = 32\n",
    "output_features = 64"
   ]
  },
  {
   "cell_type": "code",
   "execution_count": 2,
   "metadata": {},
   "outputs": [],
   "source": [
    "inputs = np.random.random((timesteps, input_features))\n",
    "\n",
    "state_t = np.zeros((output_features, ))\n",
    "\n",
    "W = np.random.random((output_features, input_features))\n",
    "U = np.random.random((output_features, output_features))\n",
    "b = np.random.random((output_features, ))"
   ]
  },
  {
   "cell_type": "code",
   "execution_count": 4,
   "metadata": {},
   "outputs": [],
   "source": [
    "sucessive_outputs = []\n",
    "\n",
    "for input_t in inputs:\n",
    "    output_t = np.tanh(np.dot(W, input_t) + np.dot(U, state_t), + b)\n",
    "    sucessive_outputs.append(output_t)\n",
    "    state_t = output_t\n",
    "    "
   ]
  },
  {
   "cell_type": "code",
   "execution_count": 5,
   "metadata": {},
   "outputs": [
    {
     "name": "stdout",
     "output_type": "stream",
     "text": [
      "Model: \"sequential\"\n",
      "_________________________________________________________________\n",
      " Layer (type)                Output Shape              Param #   \n",
      "=================================================================\n",
      " embedding (Embedding)       (None, None, 32)          320000    \n",
      "                                                                 \n",
      " simple_rnn (SimpleRNN)      (None, 32)                2080      \n",
      "                                                                 \n",
      "=================================================================\n",
      "Total params: 322,080\n",
      "Trainable params: 322,080\n",
      "Non-trainable params: 0\n",
      "_________________________________________________________________\n"
     ]
    }
   ],
   "source": [
    "final_output_sequence = np.stack(sucessive_outputs, axis=0)\n",
    "\n",
    "from tensorflow.keras.layers import SimpleRNN, Embedding\n",
    "from tensorflow.keras.models import Sequential\n",
    "\n",
    "model = Sequential()\n",
    "model.add(Embedding(10000,32))\n",
    "model.add(SimpleRNN(32))\n",
    "model.summary()"
   ]
  },
  {
   "cell_type": "code",
   "execution_count": 6,
   "metadata": {},
   "outputs": [
    {
     "name": "stdout",
     "output_type": "stream",
     "text": [
      "Model: \"sequential_1\"\n",
      "_________________________________________________________________\n",
      " Layer (type)                Output Shape              Param #   \n",
      "=================================================================\n",
      " embedding_1 (Embedding)     (None, None, 32)          320000    \n",
      "                                                                 \n",
      " simple_rnn_1 (SimpleRNN)    (None, None, 32)          2080      \n",
      "                                                                 \n",
      "=================================================================\n",
      "Total params: 322,080\n",
      "Trainable params: 322,080\n",
      "Non-trainable params: 0\n",
      "_________________________________________________________________\n"
     ]
    }
   ],
   "source": [
    "model = Sequential()\n",
    "model.add(Embedding(10000,32))\n",
    "model.add(SimpleRNN(32, return_sequences=True))\n",
    "model.summary()"
   ]
  },
  {
   "cell_type": "code",
   "execution_count": 7,
   "metadata": {},
   "outputs": [
    {
     "name": "stdout",
     "output_type": "stream",
     "text": [
      "Model: \"sequential_2\"\n",
      "_________________________________________________________________\n",
      " Layer (type)                Output Shape              Param #   \n",
      "=================================================================\n",
      " embedding_2 (Embedding)     (None, None, 32)          320000    \n",
      "                                                                 \n",
      " simple_rnn_2 (SimpleRNN)    (None, None, 32)          2080      \n",
      "                                                                 \n",
      " simple_rnn_3 (SimpleRNN)    (None, None, 32)          2080      \n",
      "                                                                 \n",
      " simple_rnn_4 (SimpleRNN)    (None, None, 32)          2080      \n",
      "                                                                 \n",
      " simple_rnn_5 (SimpleRNN)    (None, 32)                2080      \n",
      "                                                                 \n",
      "=================================================================\n",
      "Total params: 328,320\n",
      "Trainable params: 328,320\n",
      "Non-trainable params: 0\n",
      "_________________________________________________________________\n"
     ]
    }
   ],
   "source": [
    "model = Sequential()\n",
    "model.add(Embedding(10000,32))\n",
    "model.add(SimpleRNN(32, return_sequences=True))\n",
    "model.add(SimpleRNN(32, return_sequences=True))\n",
    "model.add(SimpleRNN(32, return_sequences=True))\n",
    "model.add(SimpleRNN(32))\n",
    "model.summary()"
   ]
  },
  {
   "cell_type": "code",
   "execution_count": 8,
   "metadata": {},
   "outputs": [],
   "source": [
    "from tensorflow.keras.datasets import imdb\n",
    "from tensorflow.keras.preprocessing import sequence\n",
    "\n",
    "num_words = 10000\n",
    "max_len = 500\n",
    "batch_size =32"
   ]
  },
  {
   "cell_type": "code",
   "execution_count": 9,
   "metadata": {},
   "outputs": [
    {
     "name": "stdout",
     "output_type": "stream",
     "text": [
      "25000\n",
      "25000\n",
      "(25000, 500)\n",
      "(25000, 500)\n"
     ]
    }
   ],
   "source": [
    "(input_train, y_train), (input_test, y_test) = imdb.load_data(num_words=num_words)\n",
    "print(len(input_train))\n",
    "print(len(input_test))\n",
    "\n",
    "input_train = sequence.pad_sequences(input_train, maxlen=max_len)\n",
    "intput_test = sequence.pad_sequences(input_test, maxlen=max_len)\n",
    "print(input_train.shape)\n",
    "print(intput_test.shape)\n"
   ]
  },
  {
   "cell_type": "code",
   "execution_count": 10,
   "metadata": {},
   "outputs": [
    {
     "name": "stdout",
     "output_type": "stream",
     "text": [
      "Model: \"sequential_3\"\n",
      "_________________________________________________________________\n",
      " Layer (type)                Output Shape              Param #   \n",
      "=================================================================\n",
      " embedding_3 (Embedding)     (None, None, 32)          320000    \n",
      "                                                                 \n",
      " simple_rnn_6 (SimpleRNN)    (None, 32)                2080      \n",
      "                                                                 \n",
      " dense (Dense)               (None, 1)                 33        \n",
      "                                                                 \n",
      "=================================================================\n",
      "Total params: 322,113\n",
      "Trainable params: 322,113\n",
      "Non-trainable params: 0\n",
      "_________________________________________________________________\n"
     ]
    }
   ],
   "source": [
    "from tensorflow.keras.layers import Dense\n",
    "\n",
    "model = Sequential()\n",
    "\n",
    "model.add(Embedding(num_words,32))\n",
    "model.add(SimpleRNN(32))\n",
    "model.add(Dense(1, activation='sigmoid'))\n",
    "\n",
    "model.compile(optimizer='rmsprop', loss='binary_crossentropy', metrics=['acc'])\n",
    "model.summary()\n"
   ]
  },
  {
   "cell_type": "code",
   "execution_count": 12,
   "metadata": {},
   "outputs": [
    {
     "name": "stdout",
     "output_type": "stream",
     "text": [
      "Epoch 1/3\n",
      "157/157 [==============================] - 97s 616ms/step - loss: 0.5844 - acc: 0.6992 - val_loss: 0.4799 - val_acc: 0.7978\n",
      "Epoch 2/3\n",
      "157/157 [==============================] - 96s 612ms/step - loss: 0.3455 - acc: 0.8584 - val_loss: 0.4210 - val_acc: 0.8076\n",
      "Epoch 3/3\n",
      "157/157 [==============================] - 95s 604ms/step - loss: 0.2335 - acc: 0.9085 - val_loss: 0.3866 - val_acc: 0.8356\n"
     ]
    }
   ],
   "source": [
    "history = model.fit(input_train, y_train, epochs=3, batch_size=128, validation_split=0.2)\n",
    "\n",
    "import matplotlib.pyplot as plt\n",
    "plt.style.use('seaborn-white')\n",
    "\n",
    "loss = history.history['loss']\n",
    "val_loss = history.history['val_loss']\n",
    "acc = history.history['acc']\n",
    "val_acc = history.history['val_acc']"
   ]
  },
  {
   "cell_type": "code",
   "execution_count": 13,
   "metadata": {},
   "outputs": [
    {
     "data": {
      "image/png": "[encoded data removed]",
      "text/plain": [
       "<Figure size 432x288 with 1 Axes>"
      ]
     },
     "metadata": {},
     "output_type": "display_data"
    },
    {
     "data": {
      "image/png": "[encoded data removed]",
      "text/plain": [
       "<Figure size 432x288 with 1 Axes>"
      ]
     },
     "metadata": {},
     "output_type": "display_data"
    }
   ],
   "source": [
    "epochs = range(1, len(loss)+ 1)\n",
    "\n",
    "plt.plot(epochs, loss, 'b--', label = 'training loss')\n",
    "plt.plot(epochs, val_loss, 'r:', label = 'validation loss')\n",
    "plt.grid()\n",
    "plt.legend()\n",
    "\n",
    "plt.figure()\n",
    "plt.plot(epochs, acc, 'b--', label = 'training accuracy')\n",
    "plt.plot(epochs, val_acc, 'r:', label = 'validation accuracy')\n",
    "plt.grid()\n",
    "plt.legend()\n",
    "\n",
    "plt.show()"
   ]
  },
  {
   "cell_type": "code",
   "execution_count": 17,
   "metadata": {},
   "outputs": [
    {
     "name": "stdout",
     "output_type": "stream",
     "text": [
      "782/782 [==============================] - 58s 75ms/step - loss: 1.5340 - acc: 0.4976\n"
     ]
    },
    {
     "data": {
      "text/plain": [
       "[1.5340380668640137, 0.4976400136947632]"
      ]
     },
     "execution_count": 17,
     "metadata": {},
     "output_type": "execute_result"
    }
   ],
   "source": [
    "model.evaluate(input_train, y_test)"
   ]
  },
  {
   "cell_type": "code",
   "execution_count": 18,
   "metadata": {},
   "outputs": [
    {
     "name": "stdout",
     "output_type": "stream",
     "text": [
      "25000\n",
      "25000\n"
     ]
    }
   ],
   "source": [
    "from tensorflow.keras.datasets import imdb\n",
    "from tensorflow.keras.preprocessing.sequence import pad_sequences\n",
    "\n",
    "num_words= 10000\n",
    "max_len = 500\n",
    "\n",
    "(x_train, y_train), (x_test, y_test) = imdb.load_data(num_words=num_words)\n",
    "print(len(x_train))\n",
    "print(len(x_test))"
   ]
  },
  {
   "cell_type": "code",
   "execution_count": 19,
   "metadata": {},
   "outputs": [
    {
     "name": "stdout",
     "output_type": "stream",
     "text": [
      "(25000, 500)\n",
      "(25000, 500)\n"
     ]
    }
   ],
   "source": [
    "pad_x_train = sequence.pad_sequences(x_train, maxlen=max_len)\n",
    "pad_x_test = sequence.pad_sequences(x_test, maxlen=max_len)\n",
    "print(pad_x_train.shape)\n",
    "print(pad_x_test.shape)"
   ]
  },
  {
   "cell_type": "code",
   "execution_count": 20,
   "metadata": {},
   "outputs": [],
   "source": [
    "from tensorflow.keras.models import Sequential\n",
    "from tensorflow.keras.layers import Dense, LSTM, GRU, Embedding\n",
    "\n",
    "model = Sequential()\n",
    "\n",
    "model.add(Embedding(num_words, 32))\n",
    "model.add(LSTM(32))\n",
    "model.add(Dense(1, activation='sigmoid'))"
   ]
  },
  {
   "cell_type": "code",
   "execution_count": 22,
   "metadata": {},
   "outputs": [
    {
     "name": "stdout",
     "output_type": "stream",
     "text": [
      "Model: \"sequential_4\"\n",
      "_________________________________________________________________\n",
      " Layer (type)                Output Shape              Param #   \n",
      "=================================================================\n",
      " embedding_4 (Embedding)     (None, None, 32)          320000    \n",
      "                                                                 \n",
      " lstm (LSTM)                 (None, 32)                8320      \n",
      "                                                                 \n",
      " dense_1 (Dense)             (None, 1)                 33        \n",
      "                                                                 \n",
      "=================================================================\n",
      "Total params: 328,353\n",
      "Trainable params: 328,353\n",
      "Non-trainable params: 0\n",
      "_________________________________________________________________\n",
      "157/157 [==============================] - 5s 24ms/step - loss: 0.5325 - acc: 0.7534 - val_loss: 0.4162 - val_acc: 0.8152\n"
     ]
    },
    {
     "data": {
      "image/png": "[encoded data removed]",
      "text/plain": [
       "<Figure size 432x288 with 1 Axes>"
      ]
     },
     "metadata": {},
     "output_type": "display_data"
    },
    {
     "data": {
      "image/png": "[encoded data removed]",
      "text/plain": [
       "<Figure size 432x288 with 1 Axes>"
      ]
     },
     "metadata": {},
     "output_type": "display_data"
    }
   ],
   "source": [
    "model.compile(optimizer='rmsprop', loss='binary_crossentropy', metrics=['acc'])\n",
    "model.summary()\n",
    "\n",
    "history = model.fit(pad_x_train, y_train, epochs=1, batch_size=128, validation_split=0.2)\n",
    "\n",
    "loss = history.history['loss']\n",
    "val_loss = history.history['val_loss']\n",
    "acc = history.history['acc']\n",
    "val_acc = history.history['val_acc']\n",
    "\n",
    "epochs = range(1, len(loss)+ 1)\n",
    "\n",
    "plt.plot(epochs, loss, 'b--', label = 'training loss')\n",
    "plt.plot(epochs, val_loss, 'r:', label = 'validation loss')\n",
    "plt.grid()\n",
    "plt.legend()\n",
    "\n",
    "plt.figure()\n",
    "plt.plot(epochs, acc, 'b--', label = 'training accuracy')\n",
    "plt.plot(epochs, val_acc, 'r:', label = 'validation accuracy')\n",
    "plt.grid()\n",
    "plt.legend()\n",
    "\n",
    "plt.show()"
   ]
  },
  {
   "cell_type": "code",
   "execution_count": 23,
   "metadata": {},
   "outputs": [
    {
     "name": "stdout",
     "output_type": "stream",
     "text": [
      "782/782 [==============================] - 6s 8ms/step - loss: 0.4132 - acc: 0.8188\n"
     ]
    },
    {
     "data": {
      "text/plain": [
       "[0.41323110461235046, 0.8188400268554688]"
      ]
     },
     "execution_count": 23,
     "metadata": {},
     "output_type": "execute_result"
    }
   ],
   "source": [
    "model.evaluate(pad_x_test, y_test)"
   ]
  },
  {
   "cell_type": "code",
   "execution_count": 24,
   "metadata": {},
   "outputs": [
    {
     "name": "stdout",
     "output_type": "stream",
     "text": [
      "(8982,)\n",
      "(8982,)\n",
      "(2246,)\n",
      "(2246,)\n"
     ]
    }
   ],
   "source": [
    "from tensorflow.keras.datasets import reuters\n",
    "\n",
    "num_words = 10000\n",
    "(x_train, y_train), (x_test, y_test) = reuters.load_data(num_words=num_words)\n",
    "\n",
    "print(x_train.shape)\n",
    "print(y_train.shape)\n",
    "\n",
    "print(x_test.shape)\n",
    "print(y_test.shape)"
   ]
  },
  {
   "cell_type": "code",
   "execution_count": 25,
   "metadata": {},
   "outputs": [
    {
     "name": "stdout",
     "output_type": "stream",
     "text": [
      "300\n"
     ]
    },
    {
     "data": {
      "text/plain": [
       "array([   0,    0,    0,    0,    0,    0,    0,    0,    0,    0,    0,\n",
       "          0,    0,    0,    0,    0,    0,    0,    0,    0,    0,    0,\n",
       "          0,    0,    0,    0,    0,    0,    0,    0,    0,    0,    0,\n",
       "          0,    0,    0,    0,    0,    0,    0,    0,    0,    0,    0,\n",
       "          0,    0,    0,    0,    0,    0,    0,    0,    0,    0,    0,\n",
       "          0,    0,    0,    0,    0,    0,    0,    0,    0,    0,    0,\n",
       "          0,    0,    0,    0,    0,    0,    0,    0,    0,    0,    0,\n",
       "          0,    0,    0,    0,    0,    0,    0,    0,    0,    0,    0,\n",
       "          0,    0,    0,    0,    0,    0,    0,    0,    0,    0,    0,\n",
       "          0,    0,    0,    0,    0,    0,    0,    0,    0,    0,    0,\n",
       "          0,    0,    0,    0,    0,    0,    0,    0,    0,    0,    0,\n",
       "          0,    0,    0,    0,    0,    0,    0,    0,    0,    0,    0,\n",
       "          0,    0,    0,    0,    0,    0,    0,    0,    0,    0,    0,\n",
       "          0,    0,    0,    0,    0,    0,    0,    0,    0,    0,    0,\n",
       "          0,    0,    0,    0,    0,    0,    0,    0,    0,    0,    0,\n",
       "          0,    0,    0,    0,    0,    0,    0,    0,    0,    0,    0,\n",
       "          0,    0,    0,    0,    0,    0,    0,    0,    1,    4,   37,\n",
       "         38,  309,  213,  349, 1632,   48,  193,  229,  463,   28,  156,\n",
       "        635,   11,   82,   14,  156,  635,   11,   82,   54,  139,   16,\n",
       "        349,  105,  462,  311,   28,  296,  147,   11,   82,   14,  296,\n",
       "        147,   11,   54,  139,  342,   48,  193, 3234,  361,  122,   23,\n",
       "       1332,   28,  318,  942,   11,   82,   14,  318,  942,   11,   82,\n",
       "         54,  139,  122,    7,  105,  462,   23,  349,   28,  296,  767,\n",
       "         11,   82,   14,  296,  767,   11,   54,  139,  342,  229,  162,\n",
       "          7,   48,  193,   55,  408,   28,  258,  557,   11,   82,   14,\n",
       "        196,  557,   11,   82,   54,  139,  162,    7,  105,  462,   55,\n",
       "        349,   28,  191,  968,   11,   82,   14,  191,  785,   11,   54,\n",
       "        139,   17,   12])"
      ]
     },
     "execution_count": 25,
     "metadata": {},
     "output_type": "execute_result"
    }
   ],
   "source": [
    "from tensorflow.keras.preprocessing.sequence import pad_sequences\n",
    "max_len = 300\n",
    "\n",
    "pad_x_train = pad_sequences(x_train, maxlen=max_len)\n",
    "pad_x_test = pad_sequences(x_test, maxlen=max_len)\n",
    "\n",
    "print(len(pad_x_train[0]))\n",
    "\n",
    "pad_x_train[5]\n"
   ]
  },
  {
   "cell_type": "code",
   "execution_count": 26,
   "metadata": {},
   "outputs": [
    {
     "name": "stdout",
     "output_type": "stream",
     "text": [
      "Model: \"sequential_5\"\n",
      "_________________________________________________________________\n",
      " Layer (type)                Output Shape              Param #   \n",
      "=================================================================\n",
      " embedding_5 (Embedding)     (None, None, 256)         2560000   \n",
      "                                                                 \n",
      " gru (GRU)                   (None, None, 256)         394752    \n",
      "                                                                 \n",
      " gru_1 (GRU)                 (None, 128)               148224    \n",
      "                                                                 \n",
      " dense_2 (Dense)             (None, 46)                5934      \n",
      "                                                                 \n",
      "=================================================================\n",
      "Total params: 3,108,910\n",
      "Trainable params: 3,108,910\n",
      "Non-trainable params: 0\n",
      "_________________________________________________________________\n"
     ]
    }
   ],
   "source": [
    "from tensorflow.keras.models import Sequential\n",
    "from tensorflow.keras.layers import GRU, Dense, Embedding\n",
    "\n",
    "model = Sequential()\n",
    "model.add(Embedding(input_dim=num_words, output_dim=256))\n",
    "model.add(GRU(256, return_sequences=True))\n",
    "model.add(GRU(128))\n",
    "model.add(Dense(46, activation='softmax'))\n",
    "\n",
    "model.compile(optimizer='adam', loss= 'sparse_categorical_crossentropy', metrics=['acc'])\n",
    "model.summary()\n"
   ]
  },
  {
   "cell_type": "code",
   "execution_count": 27,
   "metadata": {},
   "outputs": [
    {
     "name": "stdout",
     "output_type": "stream",
     "text": [
      "Epoch 1/20\n",
      "225/225 [==============================] - 10s 33ms/step - loss: 1.9857 - acc: 0.4856 - val_loss: 1.6802 - val_acc: 0.5582\n",
      "Epoch 2/20\n",
      "225/225 [==============================] - 7s 31ms/step - loss: 1.5498 - acc: 0.6026 - val_loss: 1.5704 - val_acc: 0.6016\n",
      "Epoch 3/20\n",
      "225/225 [==============================] - 7s 31ms/step - loss: 1.1826 - acc: 0.6907 - val_loss: 1.3342 - val_acc: 0.6761\n",
      "Epoch 4/20\n",
      "225/225 [==============================] - 7s 31ms/step - loss: 0.8957 - acc: 0.7695 - val_loss: 1.2996 - val_acc: 0.6923\n",
      "Epoch 5/20\n",
      "225/225 [==============================] - 7s 31ms/step - loss: 0.6461 - acc: 0.8365 - val_loss: 1.3226 - val_acc: 0.6895\n",
      "Epoch 6/20\n",
      "225/225 [==============================] - 7s 33ms/step - loss: 0.4850 - acc: 0.8750 - val_loss: 1.3803 - val_acc: 0.7028\n",
      "Epoch 7/20\n",
      "225/225 [==============================] - 7s 32ms/step - loss: 0.3758 - acc: 0.9041 - val_loss: 1.3493 - val_acc: 0.7134\n",
      "Epoch 8/20\n",
      "225/225 [==============================] - 7s 32ms/step - loss: 0.2896 - acc: 0.9271 - val_loss: 1.4519 - val_acc: 0.7106\n",
      "Epoch 9/20\n",
      "225/225 [==============================] - 7s 32ms/step - loss: 0.2379 - acc: 0.9374 - val_loss: 1.4502 - val_acc: 0.7179\n",
      "Epoch 10/20\n",
      "225/225 [==============================] - 7s 32ms/step - loss: 0.1925 - acc: 0.9468 - val_loss: 1.5893 - val_acc: 0.6889\n",
      "Epoch 11/20\n",
      "225/225 [==============================] - 7s 32ms/step - loss: 0.1620 - acc: 0.9563 - val_loss: 1.5378 - val_acc: 0.7051\n",
      "Epoch 12/20\n",
      "225/225 [==============================] - 7s 32ms/step - loss: 0.1383 - acc: 0.9585 - val_loss: 1.6592 - val_acc: 0.7001\n",
      "Epoch 13/20\n",
      "225/225 [==============================] - 7s 32ms/step - loss: 0.1238 - acc: 0.9585 - val_loss: 1.6133 - val_acc: 0.7129\n",
      "Epoch 14/20\n",
      "225/225 [==============================] - 7s 32ms/step - loss: 0.1222 - acc: 0.9573 - val_loss: 1.6797 - val_acc: 0.6950\n",
      "Epoch 15/20\n",
      "225/225 [==============================] - 7s 32ms/step - loss: 0.1129 - acc: 0.9587 - val_loss: 1.6981 - val_acc: 0.7034\n",
      "Epoch 16/20\n",
      "225/225 [==============================] - 7s 32ms/step - loss: 0.1002 - acc: 0.9595 - val_loss: 1.7615 - val_acc: 0.7084\n",
      "Epoch 17/20\n",
      "225/225 [==============================] - 7s 32ms/step - loss: 0.1006 - acc: 0.9588 - val_loss: 1.8310 - val_acc: 0.6939\n",
      "Epoch 18/20\n",
      "225/225 [==============================] - 7s 32ms/step - loss: 0.1006 - acc: 0.9605 - val_loss: 1.8155 - val_acc: 0.6934\n",
      "Epoch 19/20\n",
      "225/225 [==============================] - 7s 32ms/step - loss: 0.0955 - acc: 0.9614 - val_loss: 1.8317 - val_acc: 0.7028\n",
      "Epoch 20/20\n",
      "225/225 [==============================] - 7s 32ms/step - loss: 0.0878 - acc: 0.9603 - val_loss: 1.8642 - val_acc: 0.7017\n"
     ]
    },
    {
     "data": {
      "image/png": "[encoded data removed]",
      "text/plain": [
       "<Figure size 432x288 with 1 Axes>"
      ]
     },
     "metadata": {},
     "output_type": "display_data"
    },
    {
     "data": {
      "image/png": "[encoded data removed]",
      "text/plain": [
       "<Figure size 432x288 with 1 Axes>"
      ]
     },
     "metadata": {},
     "output_type": "display_data"
    },
    {
     "name": "stdout",
     "output_type": "stream",
     "text": [
      "71/71 [==============================] - 1s 13ms/step - loss: 1.9561 - acc: 0.6901\n"
     ]
    },
    {
     "data": {
      "text/plain": [
       "[1.9561293125152588, 0.690115749835968]"
      ]
     },
     "execution_count": 27,
     "metadata": {},
     "output_type": "execute_result"
    }
   ],
   "source": [
    "history = model.fit(pad_x_train, y_train, batch_size=32, epochs=20, validation_split=0.2)\n",
    "\n",
    "loss = history.history['loss']\n",
    "val_loss = history.history['val_loss']\n",
    "acc = history.history['acc']\n",
    "val_acc = history.history['val_acc']\n",
    "\n",
    "epochs = range(1, len(loss)+ 1)\n",
    "\n",
    "plt.plot(epochs, loss, 'b--', label = 'training loss')\n",
    "plt.plot(epochs, val_loss, 'r:', label = 'validation loss')\n",
    "plt.grid()\n",
    "plt.legend()\n",
    "\n",
    "plt.figure()\n",
    "plt.plot(epochs, acc, 'b--', label = 'training accuracy')\n",
    "plt.plot(epochs, val_acc, 'r:', label = 'validation accuracy')\n",
    "plt.grid()\n",
    "plt.legend()\n",
    "\n",
    "plt.show()\n",
    "\n",
    "model.evaluate(pad_x_test, y_test)\n"
   ]
  }
 ],
 "metadata": {
  "interpreter": {
   "hash": "3caf13703c5b1c02abff9fa597e671e1239d1d668b6a345ae62ddadff9d8fc63"
  },
  "kernelspec": {
   "display_name": "Python 3.7.0 ('py37')",
   "language": "python",
   "name": "python3"
  },
  "language_info": {
   "codemirror_mode": {
    "name": "ipython",
    "version": 3
   },
   "file_extension": ".py",
   "mimetype": "text/x-python",
   "name": "python",
   "nbconvert_exporter": "python",
   "pygments_lexer": "ipython3",
   "version": "3.7.0"
  },
  "orig_nbformat": 4
 },
 "nbformat": 4,
 "nbformat_minor": 2
}
