{
 "cells": [
  {
   "cell_type": "code",
   "execution_count": 1,
   "metadata": {},
   "outputs": [],
   "source": [
    "import numpy as np\n",
    "import tensorflow as tf\n",
    "import matplotlib.pyplot as plt"
   ]
  },
  {
   "cell_type": "code",
   "execution_count": 14,
   "metadata": {},
   "outputs": [],
   "source": [
    "plt.style.use('seaborn-white')"
   ]
  },
  {
   "cell_type": "code",
   "execution_count": 18,
   "metadata": {},
   "outputs": [],
   "source": [
    "learning_rate = 0.01\n",
    "training_setps = 1000\n",
    "\n",
    "X = np.random.randn(50)\n",
    "Y = 2 * X + np.random.randn(50)\n",
    "\n",
    "W = tf.Variable(np.random.randn(), name='weight')\n",
    "b = tf.Variable(np.random.randn(), name='bias')\n",
    "\n",
    "def linear_regression(x):\n",
    "    return W * x + b\n",
    "\n",
    "def mean_square(y_pred, y_true):\n",
    "    return tf.reduce_mean(tf.square(y_pred - y_true))\n",
    "\n",
    "optimizer = tf.optimizers.SGD(learning_rate)\n",
    "\n",
    "def run_optimization():\n",
    "    with tf.GradientTape() as tape:\n",
    "        pred = linear_regression(X)\n",
    "        loss = mean_square(pred, Y)\n",
    "        \n",
    "    gradients = tape.gradient(loss, [W, b])\n",
    "    \n",
    "    optimizer.apply_gradients(zip(gradients, [W, b]))\n",
    "    \n",
    "    \n",
    "        "
   ]
  },
  {
   "cell_type": "code",
   "execution_count": 19,
   "metadata": {},
   "outputs": [
    {
     "name": "stdout",
     "output_type": "stream",
     "text": [
      "step:   50\tloss: 2.2812\tW: 0.7683\tb: -0.3584\n",
      "step:  100\tloss: 0.9086\tW: 1.5351\tb: -0.4942\n",
      "step:  150\tloss: 0.8005\tW: 1.7549\tb: -0.4721\n",
      "step:  200\tloss: 0.7884\tW: 1.8238\tb: -0.4427\n",
      "step:  250\tloss: 0.7866\tW: 1.8476\tb: -0.4250\n",
      "step:  300\tloss: 0.7863\tW: 1.8565\tb: -0.4160\n",
      "step:  350\tloss: 0.7862\tW: 1.8600\tb: -0.4118\n",
      "step:  400\tloss: 0.7862\tW: 1.8615\tb: -0.4099\n",
      "step:  450\tloss: 0.7862\tW: 1.8622\tb: -0.4090\n",
      "step:  500\tloss: 0.7862\tW: 1.8624\tb: -0.4086\n",
      "step:  550\tloss: 0.7862\tW: 1.8626\tb: -0.4084\n",
      "step:  600\tloss: 0.7862\tW: 1.8626\tb: -0.4083\n",
      "step:  650\tloss: 0.7862\tW: 1.8626\tb: -0.4083\n",
      "step:  700\tloss: 0.7862\tW: 1.8627\tb: -0.4083\n",
      "step:  750\tloss: 0.7862\tW: 1.8627\tb: -0.4083\n",
      "step:  800\tloss: 0.7862\tW: 1.8627\tb: -0.4083\n",
      "step:  850\tloss: 0.7862\tW: 1.8627\tb: -0.4083\n",
      "step:  900\tloss: 0.7862\tW: 1.8627\tb: -0.4083\n",
      "step:  950\tloss: 0.7862\tW: 1.8627\tb: -0.4083\n",
      "step: 1000\tloss: 0.7862\tW: 1.8627\tb: -0.4083\n"
     ]
    }
   ],
   "source": [
    "for step in range(1, training_setps + 1):\n",
    "    run_optimization()\n",
    "    \n",
    "    if step % 50 == 0:\n",
    "        pred = linear_regression(X)\n",
    "        loss = mean_square(pred, Y)\n",
    "        print(\"step: {:4d}\\tloss: {:.4f}\\tW: {:.4f}\\tb: {:.4f}\".format(step, loss, W.numpy(), b.numpy()))"
   ]
  },
  {
   "cell_type": "code",
   "execution_count": 20,
   "metadata": {},
   "outputs": [
    {
     "data": {
      "image/png": "[encoded data removed]",
      "text/plain": [
       "<Figure size 432x288 with 1 Axes>"
      ]
     },
     "metadata": {},
     "output_type": "display_data"
    }
   ],
   "source": [
    "plt.plot(X, Y, 'ro', label='Data')\n",
    "plt.plot(X, np.array(W*X+b), label='Fitted Line')\n",
    "plt.legend()\n",
    "plt.grid()\n",
    "plt.show()\n"
   ]
  },
  {
   "cell_type": "code",
   "execution_count": 21,
   "metadata": {},
   "outputs": [],
   "source": [
    "from tensorflow.keras.optimizers import Adam "
   ]
  },
  {
   "cell_type": "code",
   "execution_count": 22,
   "metadata": {},
   "outputs": [],
   "source": [
    "epochs = 1000\n",
    "learning_rate = 0.04"
   ]
  },
  {
   "cell_type": "code",
   "execution_count": 59,
   "metadata": {},
   "outputs": [],
   "source": [
    "a = tf. Variable(np.random.randn())\n",
    "b = tf. Variable(np.random.randn())\n",
    "c = tf. Variable(np.random.randn())"
   ]
  },
  {
   "cell_type": "code",
   "execution_count": 60,
   "metadata": {},
   "outputs": [
    {
     "name": "stdout",
     "output_type": "stream",
     "text": [
      "-0.8088891\n",
      "0.037763294\n",
      "1.0310055\n"
     ]
    }
   ],
   "source": [
    "print(a.numpy())\n",
    "print(b.numpy())\n",
    "print(c.numpy())"
   ]
  },
  {
   "cell_type": "code",
   "execution_count": 63,
   "metadata": {},
   "outputs": [],
   "source": [
    "X = np.random.randn(50)\n",
    "Y = X**2 + X*np.random.randn(50)\n"
   ]
  },
  {
   "cell_type": "code",
   "execution_count": 62,
   "metadata": {},
   "outputs": [
    {
     "data": {
      "image/png": "[encoded data removed]",
      "text/plain": [
       "<Figure size 432x288 with 1 Axes>"
      ]
     },
     "metadata": {},
     "output_type": "display_data"
    }
   ],
   "source": [
    "line_x = np.arange(min(X), max(X), 0.001)\n",
    "line_y = a*line_x**2 + b*line_x + c\n",
    "\n",
    "x_ = np.arange(-4.0, 4.0, 0.001)\n",
    "y_ = a*x_**2 + b*x_ + c\n",
    "\n",
    "plt.scatter(X, Y, label='X data')\n",
    "plt.plot(x_, y_, 'g--', label='origin line')\n",
    "plt.plot(line_x, line_y, 'r--', label='before train')\n",
    "plt.xlim(-4.0, 4.0)\n",
    "plt.legend()\n",
    "plt.grid()\n",
    "plt.show()\n"
   ]
  },
  {
   "cell_type": "code",
   "execution_count": 64,
   "metadata": {},
   "outputs": [],
   "source": [
    "def compute_loss():\n",
    "    pred_y = a*(np.array(X)**2) + b*np.array(X) + c\n",
    "    loss = tf.reduce_mean((Y-pred_y)**2)\n",
    "    return loss"
   ]
  },
  {
   "cell_type": "code",
   "execution_count": 65,
   "metadata": {},
   "outputs": [],
   "source": [
    "optimizer = Adam(learning_rate=learning_rate)"
   ]
  },
  {
   "cell_type": "code",
   "execution_count": 66,
   "metadata": {},
   "outputs": [
    {
     "name": "stdout",
     "output_type": "stream",
     "text": [
      "epoch:  100\ta: 0.8863\tb: -0.1738\tc: -0.0080\n",
      "epoch:  200\ta: 0.8807\tb: -0.1747\tc: -0.0027\n",
      "epoch:  300\ta: 0.8807\tb: -0.1746\tc: -0.0027\n",
      "epoch:  400\ta: 0.8807\tb: -0.1746\tc: -0.0027\n",
      "epoch:  500\ta: 0.8807\tb: -0.1746\tc: -0.0027\n",
      "epoch:  600\ta: 0.8807\tb: -0.1746\tc: -0.0027\n",
      "epoch:  700\ta: 0.8807\tb: -0.1746\tc: -0.0027\n",
      "epoch:  800\ta: 0.8807\tb: -0.1746\tc: -0.0027\n",
      "epoch:  900\ta: 0.8807\tb: -0.1746\tc: -0.0027\n",
      "epoch: 1000\ta: 0.8807\tb: -0.1746\tc: -0.0027\n"
     ]
    }
   ],
   "source": [
    "for epoch in range(1, epochs+1, 1):\n",
    "    optimizer.minimize(compute_loss, var_list=[a,b,c])\n",
    "    \n",
    "    if epoch % 100 == 0:\n",
    "        print('epoch: {:4d}\\ta: {:.4f}\\tb: {:.4f}\\tc: {:.4f}'.format(epoch, a.numpy(), b.numpy(), c.numpy()))"
   ]
  },
  {
   "cell_type": "code",
   "execution_count": 67,
   "metadata": {},
   "outputs": [
    {
     "data": {
      "image/png": "[encoded data removed]",
      "text/plain": [
       "<Figure size 432x288 with 1 Axes>"
      ]
     },
     "metadata": {},
     "output_type": "display_data"
    }
   ],
   "source": [
    "line_x = np.arange(min(X), max(X), 0.001)\n",
    "line_y = a*line_x**2 + b*line_x + c\n",
    "\n",
    "plt.scatter(X, Y, label='X data')\n",
    "plt.plot(x_, y_, 'g--', label='origin line')\n",
    "plt.plot(line_x, line_y, 'r--', label='after train')\n",
    "plt.xlim(-4.0, 4.0)\n",
    "plt.legend()\n",
    "plt.grid()\n",
    "plt.show()\n"
   ]
  },
  {
   "cell_type": "code",
   "execution_count": 70,
   "metadata": {},
   "outputs": [],
   "source": [
    "from tensorflow.keras.datasets import mnist"
   ]
  },
  {
   "cell_type": "code",
   "execution_count": 69,
   "metadata": {},
   "outputs": [],
   "source": [
    "num_classes = 10 \n",
    "num_features = 28 * 28\n",
    "\n",
    "learning_rate= 0.1\n",
    "training_setps= 1000\n",
    "batch_size = 256"
   ]
  },
  {
   "cell_type": "code",
   "execution_count": 71,
   "metadata": {},
   "outputs": [],
   "source": [
    "(x_train, y_train), (x_test, y_test)= mnist.load_data()\n",
    "\n",
    "x_train, x_test = np.array(x_train, np.float32), np.array(x_test, np.float32)\n",
    "\n",
    "x_train, x_test = x_train.reshape([-1, num_features]), x_test.reshape([-1, num_features])\n",
    "\n",
    "x_train, x_test = x_train / 255., x_test/255."
   ]
  },
  {
   "cell_type": "code",
   "execution_count": 72,
   "metadata": {},
   "outputs": [],
   "source": [
    "train_data = tf.data.Dataset.from_tensor_slices((x_train, y_train))\n",
    "train_data = train_data.repeat().shuffle(5000).batch(batch_size).prefetch(1)\n",
    "\n"
   ]
  },
  {
   "cell_type": "code",
   "execution_count": 73,
   "metadata": {},
   "outputs": [],
   "source": [
    "W = tf.Variable(tf.random.normal([num_features, num_classes]), name='weight')\n",
    "b = tf.Variable(tf.zeros([num_classes]), name='bias')\n"
   ]
  },
  {
   "cell_type": "code",
   "execution_count": 74,
   "metadata": {},
   "outputs": [],
   "source": [
    "def logistic_regression(x):\n",
    "    return tf.nn.softmax(tf.matmul(x, W)+ b)\n",
    "\n",
    "def cross_entropy(pred_y, true_y):\n",
    "    true_y = tf.one_hot(true_y, depth=num_classes)\n",
    "    pred_y = tf.clip_by_value(pred_y, 1e-9, 1.)\n",
    "    \n",
    "    return tf.reduce_mean(-tf.reduce_sum(true_y * tf.math.log(pred_y), 1))\n",
    "\n",
    "def accuracy(y_pred, y_true):\n",
    "    correct_prediction = tf.equal(tf.argmax(y_pred, 1), tf.cast(y_true, tf.int64))\n",
    "    return tf.reduce_mean(tf.cast(correct_prediction, tf.float32))\n",
    "\n",
    "    \n",
    "        "
   ]
  },
  {
   "cell_type": "code",
   "execution_count": 75,
   "metadata": {},
   "outputs": [],
   "source": [
    "optimizer = tf.optimizers.SGD(learning_rate)"
   ]
  },
  {
   "cell_type": "code",
   "execution_count": 78,
   "metadata": {},
   "outputs": [],
   "source": [
    "def run_optimization(x, y):\n",
    "    with tf.GradientTape() as tape:\n",
    "        pred = logistic_regression(x)\n",
    "        loss = cross_entropy(pred, y)\n",
    "        \n",
    "    gradients = tape.gradient(loss, [W, b])\n",
    "    \n",
    "    optimizer.apply_gradients(zip(gradients, [W,b]))"
   ]
  },
  {
   "cell_type": "code",
   "execution_count": 79,
   "metadata": {},
   "outputs": [
    {
     "name": "stdout",
     "output_type": "stream",
     "text": [
      "step:   50\tloss: 5.5148\taccuracy: 0.312500\n",
      "step:  100\tloss: 3.5754\taccuracy: 0.414062\n",
      "step:  150\tloss: 2.4870\taccuracy: 0.585938\n",
      "step:  200\tloss: 1.8724\taccuracy: 0.652344\n",
      "step:  250\tloss: 1.6041\taccuracy: 0.648438\n",
      "step:  300\tloss: 1.7481\taccuracy: 0.652344\n",
      "step:  350\tloss: 1.6542\taccuracy: 0.679688\n",
      "step:  400\tloss: 1.5890\taccuracy: 0.707031\n",
      "step:  450\tloss: 1.3568\taccuracy: 0.734375\n",
      "step:  500\tloss: 1.3972\taccuracy: 0.718750\n",
      "step:  550\tloss: 1.3683\taccuracy: 0.718750\n",
      "step:  600\tloss: 1.1386\taccuracy: 0.753906\n",
      "step:  650\tloss: 1.3945\taccuracy: 0.710938\n",
      "step:  700\tloss: 1.2166\taccuracy: 0.796875\n",
      "step:  750\tloss: 1.2942\taccuracy: 0.757812\n",
      "step:  800\tloss: 1.6512\taccuracy: 0.726562\n",
      "step:  850\tloss: 0.9682\taccuracy: 0.781250\n",
      "step:  900\tloss: 1.1407\taccuracy: 0.812500\n",
      "step:  950\tloss: 0.7708\taccuracy: 0.839844\n",
      "step: 1000\tloss: 1.1461\taccuracy: 0.789062\n"
     ]
    }
   ],
   "source": [
    "for step, (batch_x, batch_y) in enumerate(train_data.take(training_setps), 1):\n",
    "    run_optimization(batch_x, batch_y)\n",
    "    \n",
    "    if step % 50 ==0:\n",
    "        pred = logistic_regression(batch_x)\n",
    "        loss = cross_entropy(pred, batch_y)\n",
    "        acc = accuracy(pred, batch_y)\n",
    "        print('step: {:4d}\\tloss: {:.4f}\\taccuracy: {:4f}'.format(step, loss, acc))"
   ]
  },
  {
   "cell_type": "code",
   "execution_count": 80,
   "metadata": {},
   "outputs": [
    {
     "name": "stdout",
     "output_type": "stream",
     "text": [
      "Test Accuracy: 0.8120999932289124\n"
     ]
    }
   ],
   "source": [
    "pred = logistic_regression(x_test)\n",
    "print('Test Accuracy: {}'.format(accuracy(pred, y_test)))"
   ]
  },
  {
   "cell_type": "code",
   "execution_count": 81,
   "metadata": {},
   "outputs": [
    {
     "data": {
      "image/png": "[encoded data removed]",
      "text/plain": [
       "<Figure size 1152x576 with 5 Axes>"
      ]
     },
     "metadata": {},
     "output_type": "display_data"
    }
   ],
   "source": [
    "num_images = 5\n",
    "test_images = x_test[:num_images]\n",
    "predictions = logistic_regression(test_images)\n",
    "\n",
    "plt.figure(figsize=(16,8))\n",
    "for i in range(1, num_images+1, 1):\n",
    "    plt.subplot(1, num_images, i)\n",
    "    plt.imshow(np.reshape(test_images[i-1], [28, 28]), cmap='gray')\n",
    "    plt.title('Model prediction: {}'.format(np.argmax(predictions.numpy()[i-1])))\n",
    "    \n",
    "    \n",
    "plt.show()"
   ]
  },
  {
   "cell_type": "code",
   "execution_count": null,
   "metadata": {},
   "outputs": [],
   "source": []
  }
 ],
 "metadata": {
  "interpreter": {
   "hash": "3b2a3e2f2f3becee12495ea02e16c44ac6a87253b3da619be1b2ce1aceff9a27"
  },
  "kernelspec": {
   "display_name": "Python 3.9.7 ('tf270gpu')",
   "language": "python",
   "name": "python3"
  },
  "language_info": {
   "codemirror_mode": {
    "name": "ipython",
    "version": 3
   },
   "file_extension": ".py",
   "mimetype": "text/x-python",
   "name": "python",
   "nbconvert_exporter": "python",
   "pygments_lexer": "ipython3",
   "version": "3.9.7"
  },
  "orig_nbformat": 4
 },
 "nbformat": 4,
 "nbformat_minor": 2
}
